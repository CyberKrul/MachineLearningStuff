{
 "cells": [
  {
   "cell_type": "markdown",
   "id": "8f163ad9-18d3-4a2f-8ad3-6444ea5d4840",
   "metadata": {},
   "source": [
    "# Statistics Basics"
   ]
  },
  {
   "cell_type": "markdown",
   "id": "079da176-9f0f-44e8-b0ff-ce07769cf824",
   "metadata": {},
   "source": [
    "## Statistics Basics\n",
    "the following will be a quick review of basic stats"
   ]
  },
  {
   "cell_type": "markdown",
   "id": "6564513b-105b-4b59-a2a4-6183e7e9474c",
   "metadata": {},
   "source": [
    "### Univariate Data\n",
    "**DEFINITION**\n",
    "*random variable* : A random variable is a variable whose values are the (numerical) outcomes of a random phenomenon associated with some probability distribution. There are two basic types of random variable:\n",
    "1. Discrete Random variable: possible outcomes can be counted\n",
    "2. Continuous Random variable: there is a continuum of possible outcomes"
   ]
  },
  {
   "cell_type": "markdown",
   "id": "a90b0a9c-9d9c-471f-b039-a3744cd9b4f7",
   "metadata": {},
   "source": [
    "#### *examples of random processes, random variables and probability distributions*\n",
    "1. * *Random process*: tossing a coin twice\n",
    "   * *random variable*: The number of heads (discrete)\n",
    "   * *probability distribution*: Prob(0)=.25,Prob(1)=.5,Prob(2)=.25\n",
    "---\n",
    "2. * *Random process*: Randomly selecting male students at a large university\n",
    "   * *random variable*: student height in inches (continuous: actual height is a number along a continuum)\n",
    "   * *probability distribution*: The true probability distribution would be the heights of all male students at the university. Assuming that the data on all male students are unavailable, we could randomly select several male students and plot a histogram of heights. It would probably tend to be bell-shaped with most heights between 64 inches and 76 inches, a few taller than 76 and a few shorter than 64\n",
    "---\n",
    "3. * *Random process*: Customers entering a store during a given day\n",
    "   * *random variable*: The number of customers who enter the store (discrete)\n",
    "   * *probability distribution*: We would not know the true probability distribution, but it could be visually estimated using a histogram of daily number of customers over a period of time\n",
    "---\n",
    "The underlying probability distribution may be theoretical such as in the coin tossing example, or the collection of all 'things' about which we want information (such as the student height example). We often want to know the characteristics of the underlying population or probability distribution. This information is usually summarized using parameters that are estimated from observed data\n",
    "\n",
    "**DEFINITION** *Parameters*: they're numerical characteristics or descriptives of a population or probability distribution"
   ]
  },
  {
   "cell_type": "markdown",
   "id": "4afc9230-d705-481f-a474-8831da3df3d1",
   "metadata": {},
   "source": [
    "**DEFINITION** *Expected Value*: This is the theoretical (population) average. Parameters of interest related to the random variable $X$ include the following, which we state in terms of expected values.\n",
    "\n",
    "1. **MEAN** $\\mu_X$ it measures the center of the distribution and is denoted by $\\mu_X=E[X]$\n",
    "\n",
    "2. **VARIANCE** $\\sigma_X^2$ a measure of how spread out the values of the underlying distribution are. The variance measures the average squared amount by which observations tend to differ from the mean. Variance is denoted $\\sigma_X^2=E[(X-\\mu_X)^2$\n",
    "\n",
    "3. **STANDARD DEVIATION** $\\sigma_X$ often used as a measure of spread because it can be interpreted as the typical amount by which values in the distribution differ from the mean (in the units of the problem). The standard deviation is simply the square root of the variance\n",
    "___\n",
    "random variables are typically denoted by capital letters, such as $X$, $Y$, or $Z$. A particular occurrence of the random variable produces a number. This leads to the following definition\n",
    "\n",
    "**DEFINITION** *Observed Values* are specific outcomes of the underlying random phenomenon (process)\n",
    "\n",
    "* Observed values are typically numbers, denoted by lowercase letters.\n",
    "* The classical study of random variables makes extensive use of collections of these observed values called a *sample*\n",
    "* A particularly useful type of sample is known as a random sample and is defined next\n",
    "\n",
    "**DEFINITION** *random sample* of size $n$, is the result of $n$ *independent* instances of the underlying random phenomenon (process).\n",
    "\n",
    "* random samples are often denoted $x_j,j=1,\\dots,n$. They provide the data scientist with $n$ independent/unrelated observations of the random variable.\n",
    "* A random sample provides information about the underlying probability distribution of the phenomenon of interest.\n",
    "\n",
    "**DEFINITION** A *statistic* is an estimate of a population parameter based on a sample\n",
    "\n",
    "* Given the values $x_i,i=1,\\dots,n$ in a random sample, the following are useful statistics:\n",
    "    - Sample Mean: $\\bar{x}=\\frac{1}{n}\\Sigma_{i=1}^nx_i$, the average of the observed data values\n",
    "    - Sample variance: $s_X^2=\\frac{1}{n-1}\\Sigma_{i=1}^n(x_i-\\bar{x})^2$ The sample variance is approximately the average of the squared differences from the sample mean.\n",
    "    - Sample standard deviation: $s_X = \\sqrt{s_X}$. The standard deviation is in the units of the observed data and can be thought of as the typical amount by which data values differ from the sample mean"
   ]
  },
  {
   "cell_type": "markdown",
   "id": "5a9484ed-195d-4e1d-8f8a-ae9240e39fe4",
   "metadata": {},
   "source": [
    "#### Central Limit Theorem\n",
    "Let $X_i$,$i=1,\\dots,n$ denote a random sample from a population with mean $\\mu$ and variance $\\sigma^2$. Then for 'large $n$' the random variable\n",
    "\n",
    "$Z=\\frac{\\bar{X}-\\mu_X}{\\sigma_X/\\sqrt{n}}$\n",
    "\n",
    "is approximately distributed as a Normal random variable with mean zero and variance one (denoted $N(0,1)$) even if the random variables $X_i$ are not normally distributed\n",
    "\n",
    "**DEFINITION** *standard error* of $\\bar{X}$, which is the standard deviation of the population of $\\bar{X}$s is given by \n",
    "\n",
    "$\\text{SE}(\\bar{X})=\\sigma_X/\\sqrt{n}$\n",
    "\n",
    "An important interpretation of the above definition is that $\\sigma_X/\\sqrt{n}$ is the typical amount by which $\\bar{X}$ tends to differ from the true mean. Consequently, as $n$ increases $\\bar{X}$ tends to get closer and closer to the mean $\\mu_X$. We say that $\\bar{X}$ converges to $\\mu_X$ as $n$ increases.\n",
    "\n",
    "'Large' often simply means $n\\gt 30$. Because we usually do not know the population variance, we often calculate the statistic\n",
    "\n",
    "$\\tilde{Z}=\\frac{\\bar{X}-\\mu_X}{s_X/\\sqrt{n}}$\n",
    "\n",
    "which has an approximate normal distribution for large $n$\n",
    "\n",
    "* An $n$ increases, the standard error of $\\bar{X}$ that is, $(\\sigma_X/\\sqrt{n})$ decreases and $\\bar{X}$ converges to $\\mu_X$. That is $\\bar{X}$ taken from a large sample should be a good estimate of $\\mu$ and is probably a better estimate than $\\bar{X}$ calculated from a sample with smaller sample size\n",
    "* According to the Central Limit Theorem, for 'large $n$' (typically greater than 30) the random variable\n",
    "\n",
    "$Z = \\frac{\\bar{X}-\\mu_X}{\\sigma_X/\\sqrt{n}}$\n",
    "\n",
    "has an approximate $N(0,1)$ distribution even if the random variables, $X_i$ are not normally distributed.\n",
    "\n",
    "The random variable $\\tilde{Z}=\\frac{\\bar{X}-\\mu_X}{s_X/\\sqrt{n}}$ is approximately $N(0,1)$ is $n$ is large"
   ]
  }
 ],
 "metadata": {
  "kernelspec": {
   "display_name": "Python 3 (ipykernel)",
   "language": "python",
   "name": "python3"
  },
  "language_info": {
   "codemirror_mode": {
    "name": "ipython",
    "version": 3
   },
   "file_extension": ".py",
   "mimetype": "text/x-python",
   "name": "python",
   "nbconvert_exporter": "python",
   "pygments_lexer": "ipython3",
   "version": "3.11.9"
  }
 },
 "nbformat": 4,
 "nbformat_minor": 5
}
