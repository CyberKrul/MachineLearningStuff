{
  "cells": [
    {
      "cell_type": "raw",
      "id": "e276e167",
      "metadata": {
        "id": "e276e167"
      },
      "source": [
        "Agenda :\n",
        "1.Importing the dataset\n",
        "2.Missing value Analysis\n",
        "3.Feature selection  feature -->independent variables    target-->dependent variable\n",
        "       1.Chi-Square test\n",
        "       2.IV-Score Analysis\n",
        "       3.VIF\n",
        "4.Model fitting"
      ]
    },
    {
      "cell_type": "markdown",
      "id": "c35379cc",
      "metadata": {
        "id": "c35379cc"
      },
      "source": [
        "# Importing the data"
      ]
    },
    {
      "cell_type": "code",
      "execution_count": null,
      "id": "e92ab33f",
      "metadata": {
        "id": "e92ab33f"
      },
      "outputs": [],
      "source": [
        "import pandas as pd\n",
        "import numpy as np"
      ]
    },
    {
      "cell_type": "code",
      "execution_count": null,
      "id": "5634b252",
      "metadata": {
        "id": "5634b252"
      },
      "outputs": [],
      "source": [
        "data=pd.read_csv('bank-additional-full-1.csv', sep=';')"
      ]
    },
    {
      "cell_type": "code",
      "execution_count": null,
      "id": "5e794970",
      "metadata": {
        "id": "5e794970",
        "outputId": "072825cc-5a3e-4a98-d0a5-0331403e061f"
      },
      "outputs": [
        {
          "data": {
            "text/html": [
              "<div>\n",
              "<style scoped>\n",
              "    .dataframe tbody tr th:only-of-type {\n",
              "        vertical-align: middle;\n",
              "    }\n",
              "\n",
              "    .dataframe tbody tr th {\n",
              "        vertical-align: top;\n",
              "    }\n",
              "\n",
              "    .dataframe thead th {\n",
              "        text-align: right;\n",
              "    }\n",
              "</style>\n",
              "<table border=\"1\" class=\"dataframe\">\n",
              "  <thead>\n",
              "    <tr style=\"text-align: right;\">\n",
              "      <th></th>\n",
              "      <th>age</th>\n",
              "      <th>job</th>\n",
              "      <th>marital</th>\n",
              "      <th>education</th>\n",
              "      <th>default</th>\n",
              "      <th>housing</th>\n",
              "      <th>loan</th>\n",
              "      <th>contact</th>\n",
              "      <th>month</th>\n",
              "      <th>day_of_week</th>\n",
              "      <th>...</th>\n",
              "      <th>campaign</th>\n",
              "      <th>pdays</th>\n",
              "      <th>previous</th>\n",
              "      <th>poutcome</th>\n",
              "      <th>emp.var.rate</th>\n",
              "      <th>cons.price.idx</th>\n",
              "      <th>cons.conf.idx</th>\n",
              "      <th>euribor3m</th>\n",
              "      <th>nr.employed</th>\n",
              "      <th>y</th>\n",
              "    </tr>\n",
              "  </thead>\n",
              "  <tbody>\n",
              "    <tr>\n",
              "      <th>0</th>\n",
              "      <td>56.00</td>\n",
              "      <td>housemaid</td>\n",
              "      <td>married</td>\n",
              "      <td>basic.4y</td>\n",
              "      <td>no</td>\n",
              "      <td>no</td>\n",
              "      <td>no</td>\n",
              "      <td>telephone</td>\n",
              "      <td>may</td>\n",
              "      <td>mon</td>\n",
              "      <td>...</td>\n",
              "      <td>1.00</td>\n",
              "      <td>999.00</td>\n",
              "      <td>0.00</td>\n",
              "      <td>nonexistent</td>\n",
              "      <td>1.10</td>\n",
              "      <td>93.99</td>\n",
              "      <td>-36.40</td>\n",
              "      <td>4.86</td>\n",
              "      <td>5,191.00</td>\n",
              "      <td>no</td>\n",
              "    </tr>\n",
              "    <tr>\n",
              "      <th>1</th>\n",
              "      <td>57.00</td>\n",
              "      <td>services</td>\n",
              "      <td>married</td>\n",
              "      <td>high.school</td>\n",
              "      <td>unknown</td>\n",
              "      <td>no</td>\n",
              "      <td>no</td>\n",
              "      <td>telephone</td>\n",
              "      <td>may</td>\n",
              "      <td>mon</td>\n",
              "      <td>...</td>\n",
              "      <td>1.00</td>\n",
              "      <td>999.00</td>\n",
              "      <td>0.00</td>\n",
              "      <td>nonexistent</td>\n",
              "      <td>1.10</td>\n",
              "      <td>93.99</td>\n",
              "      <td>-36.40</td>\n",
              "      <td>4.86</td>\n",
              "      <td>5,191.00</td>\n",
              "      <td>no</td>\n",
              "    </tr>\n",
              "    <tr>\n",
              "      <th>2</th>\n",
              "      <td>37.00</td>\n",
              "      <td>services</td>\n",
              "      <td>married</td>\n",
              "      <td>high.school</td>\n",
              "      <td>no</td>\n",
              "      <td>yes</td>\n",
              "      <td>no</td>\n",
              "      <td>telephone</td>\n",
              "      <td>may</td>\n",
              "      <td>mon</td>\n",
              "      <td>...</td>\n",
              "      <td>1.00</td>\n",
              "      <td>999.00</td>\n",
              "      <td>0.00</td>\n",
              "      <td>nonexistent</td>\n",
              "      <td>1.10</td>\n",
              "      <td>93.99</td>\n",
              "      <td>-36.40</td>\n",
              "      <td>4.86</td>\n",
              "      <td>5,191.00</td>\n",
              "      <td>no</td>\n",
              "    </tr>\n",
              "    <tr>\n",
              "      <th>3</th>\n",
              "      <td>40.00</td>\n",
              "      <td>admin.</td>\n",
              "      <td>married</td>\n",
              "      <td>basic.6y</td>\n",
              "      <td>no</td>\n",
              "      <td>no</td>\n",
              "      <td>no</td>\n",
              "      <td>telephone</td>\n",
              "      <td>may</td>\n",
              "      <td>mon</td>\n",
              "      <td>...</td>\n",
              "      <td>1.00</td>\n",
              "      <td>999.00</td>\n",
              "      <td>0.00</td>\n",
              "      <td>nonexistent</td>\n",
              "      <td>1.10</td>\n",
              "      <td>93.99</td>\n",
              "      <td>-36.40</td>\n",
              "      <td>4.86</td>\n",
              "      <td>5,191.00</td>\n",
              "      <td>no</td>\n",
              "    </tr>\n",
              "    <tr>\n",
              "      <th>4</th>\n",
              "      <td>56.00</td>\n",
              "      <td>services</td>\n",
              "      <td>married</td>\n",
              "      <td>high.school</td>\n",
              "      <td>no</td>\n",
              "      <td>no</td>\n",
              "      <td>yes</td>\n",
              "      <td>telephone</td>\n",
              "      <td>may</td>\n",
              "      <td>mon</td>\n",
              "      <td>...</td>\n",
              "      <td>1.00</td>\n",
              "      <td>999.00</td>\n",
              "      <td>0.00</td>\n",
              "      <td>nonexistent</td>\n",
              "      <td>1.10</td>\n",
              "      <td>93.99</td>\n",
              "      <td>-36.40</td>\n",
              "      <td>4.86</td>\n",
              "      <td>5,191.00</td>\n",
              "      <td>no</td>\n",
              "    </tr>\n",
              "    <tr>\n",
              "      <th>5</th>\n",
              "      <td>45.00</td>\n",
              "      <td>services</td>\n",
              "      <td>married</td>\n",
              "      <td>basic.9y</td>\n",
              "      <td>unknown</td>\n",
              "      <td>no</td>\n",
              "      <td>no</td>\n",
              "      <td>telephone</td>\n",
              "      <td>may</td>\n",
              "      <td>mon</td>\n",
              "      <td>...</td>\n",
              "      <td>1.00</td>\n",
              "      <td>999.00</td>\n",
              "      <td>0.00</td>\n",
              "      <td>nonexistent</td>\n",
              "      <td>1.10</td>\n",
              "      <td>93.99</td>\n",
              "      <td>-36.40</td>\n",
              "      <td>4.86</td>\n",
              "      <td>5,191.00</td>\n",
              "      <td>no</td>\n",
              "    </tr>\n",
              "    <tr>\n",
              "      <th>6</th>\n",
              "      <td>59.00</td>\n",
              "      <td>admin.</td>\n",
              "      <td>married</td>\n",
              "      <td>professional.course</td>\n",
              "      <td>no</td>\n",
              "      <td>no</td>\n",
              "      <td>no</td>\n",
              "      <td>telephone</td>\n",
              "      <td>may</td>\n",
              "      <td>mon</td>\n",
              "      <td>...</td>\n",
              "      <td>1.00</td>\n",
              "      <td>999.00</td>\n",
              "      <td>0.00</td>\n",
              "      <td>nonexistent</td>\n",
              "      <td>1.10</td>\n",
              "      <td>93.99</td>\n",
              "      <td>-36.40</td>\n",
              "      <td>4.86</td>\n",
              "      <td>5,191.00</td>\n",
              "      <td>no</td>\n",
              "    </tr>\n",
              "    <tr>\n",
              "      <th>7</th>\n",
              "      <td>41.00</td>\n",
              "      <td>blue-collar</td>\n",
              "      <td>married</td>\n",
              "      <td>unknown</td>\n",
              "      <td>unknown</td>\n",
              "      <td>no</td>\n",
              "      <td>no</td>\n",
              "      <td>telephone</td>\n",
              "      <td>may</td>\n",
              "      <td>mon</td>\n",
              "      <td>...</td>\n",
              "      <td>1.00</td>\n",
              "      <td>999.00</td>\n",
              "      <td>0.00</td>\n",
              "      <td>nonexistent</td>\n",
              "      <td>1.10</td>\n",
              "      <td>93.99</td>\n",
              "      <td>-36.40</td>\n",
              "      <td>4.86</td>\n",
              "      <td>5,191.00</td>\n",
              "      <td>no</td>\n",
              "    </tr>\n",
              "    <tr>\n",
              "      <th>8</th>\n",
              "      <td>24.00</td>\n",
              "      <td>technician</td>\n",
              "      <td>single</td>\n",
              "      <td>professional.course</td>\n",
              "      <td>no</td>\n",
              "      <td>yes</td>\n",
              "      <td>no</td>\n",
              "      <td>telephone</td>\n",
              "      <td>may</td>\n",
              "      <td>mon</td>\n",
              "      <td>...</td>\n",
              "      <td>1.00</td>\n",
              "      <td>999.00</td>\n",
              "      <td>0.00</td>\n",
              "      <td>nonexistent</td>\n",
              "      <td>1.10</td>\n",
              "      <td>93.99</td>\n",
              "      <td>-36.40</td>\n",
              "      <td>4.86</td>\n",
              "      <td>5,191.00</td>\n",
              "      <td>no</td>\n",
              "    </tr>\n",
              "    <tr>\n",
              "      <th>9</th>\n",
              "      <td>25.00</td>\n",
              "      <td>services</td>\n",
              "      <td>single</td>\n",
              "      <td>high.school</td>\n",
              "      <td>no</td>\n",
              "      <td>yes</td>\n",
              "      <td>no</td>\n",
              "      <td>telephone</td>\n",
              "      <td>may</td>\n",
              "      <td>mon</td>\n",
              "      <td>...</td>\n",
              "      <td>1.00</td>\n",
              "      <td>999.00</td>\n",
              "      <td>0.00</td>\n",
              "      <td>nonexistent</td>\n",
              "      <td>1.10</td>\n",
              "      <td>93.99</td>\n",
              "      <td>-36.40</td>\n",
              "      <td>4.86</td>\n",
              "      <td>5,191.00</td>\n",
              "      <td>no</td>\n",
              "    </tr>\n",
              "    <tr>\n",
              "      <th>10</th>\n",
              "      <td>41.00</td>\n",
              "      <td>blue-collar</td>\n",
              "      <td>married</td>\n",
              "      <td>unknown</td>\n",
              "      <td>unknown</td>\n",
              "      <td>no</td>\n",
              "      <td>no</td>\n",
              "      <td>telephone</td>\n",
              "      <td>may</td>\n",
              "      <td>mon</td>\n",
              "      <td>...</td>\n",
              "      <td>1.00</td>\n",
              "      <td>999.00</td>\n",
              "      <td>0.00</td>\n",
              "      <td>nonexistent</td>\n",
              "      <td>1.10</td>\n",
              "      <td>93.99</td>\n",
              "      <td>-36.40</td>\n",
              "      <td>4.86</td>\n",
              "      <td>5,191.00</td>\n",
              "      <td>no</td>\n",
              "    </tr>\n",
              "    <tr>\n",
              "      <th>11</th>\n",
              "      <td>25.00</td>\n",
              "      <td>services</td>\n",
              "      <td>single</td>\n",
              "      <td>high.school</td>\n",
              "      <td>no</td>\n",
              "      <td>yes</td>\n",
              "      <td>no</td>\n",
              "      <td>telephone</td>\n",
              "      <td>may</td>\n",
              "      <td>mon</td>\n",
              "      <td>...</td>\n",
              "      <td>1.00</td>\n",
              "      <td>999.00</td>\n",
              "      <td>0.00</td>\n",
              "      <td>nonexistent</td>\n",
              "      <td>1.10</td>\n",
              "      <td>93.99</td>\n",
              "      <td>-36.40</td>\n",
              "      <td>4.86</td>\n",
              "      <td>5,191.00</td>\n",
              "      <td>no</td>\n",
              "    </tr>\n",
              "    <tr>\n",
              "      <th>12</th>\n",
              "      <td>29.00</td>\n",
              "      <td>blue-collar</td>\n",
              "      <td>single</td>\n",
              "      <td>high.school</td>\n",
              "      <td>no</td>\n",
              "      <td>no</td>\n",
              "      <td>yes</td>\n",
              "      <td>telephone</td>\n",
              "      <td>may</td>\n",
              "      <td>mon</td>\n",
              "      <td>...</td>\n",
              "      <td>1.00</td>\n",
              "      <td>999.00</td>\n",
              "      <td>0.00</td>\n",
              "      <td>nonexistent</td>\n",
              "      <td>1.10</td>\n",
              "      <td>93.99</td>\n",
              "      <td>-36.40</td>\n",
              "      <td>4.86</td>\n",
              "      <td>5,191.00</td>\n",
              "      <td>no</td>\n",
              "    </tr>\n",
              "    <tr>\n",
              "      <th>13</th>\n",
              "      <td>57.00</td>\n",
              "      <td>housemaid</td>\n",
              "      <td>divorced</td>\n",
              "      <td>basic.4y</td>\n",
              "      <td>no</td>\n",
              "      <td>yes</td>\n",
              "      <td>no</td>\n",
              "      <td>telephone</td>\n",
              "      <td>may</td>\n",
              "      <td>mon</td>\n",
              "      <td>...</td>\n",
              "      <td>1.00</td>\n",
              "      <td>999.00</td>\n",
              "      <td>0.00</td>\n",
              "      <td>nonexistent</td>\n",
              "      <td>1.10</td>\n",
              "      <td>93.99</td>\n",
              "      <td>-36.40</td>\n",
              "      <td>4.86</td>\n",
              "      <td>5,191.00</td>\n",
              "      <td>no</td>\n",
              "    </tr>\n",
              "    <tr>\n",
              "      <th>14</th>\n",
              "      <td>35.00</td>\n",
              "      <td>blue-collar</td>\n",
              "      <td>married</td>\n",
              "      <td>basic.6y</td>\n",
              "      <td>no</td>\n",
              "      <td>yes</td>\n",
              "      <td>no</td>\n",
              "      <td>telephone</td>\n",
              "      <td>may</td>\n",
              "      <td>mon</td>\n",
              "      <td>...</td>\n",
              "      <td>1.00</td>\n",
              "      <td>999.00</td>\n",
              "      <td>0.00</td>\n",
              "      <td>nonexistent</td>\n",
              "      <td>1.10</td>\n",
              "      <td>93.99</td>\n",
              "      <td>-36.40</td>\n",
              "      <td>4.86</td>\n",
              "      <td>5,191.00</td>\n",
              "      <td>no</td>\n",
              "    </tr>\n",
              "    <tr>\n",
              "      <th>15</th>\n",
              "      <td>54.00</td>\n",
              "      <td>retired</td>\n",
              "      <td>married</td>\n",
              "      <td>basic.9y</td>\n",
              "      <td>unknown</td>\n",
              "      <td>yes</td>\n",
              "      <td>yes</td>\n",
              "      <td>telephone</td>\n",
              "      <td>may</td>\n",
              "      <td>mon</td>\n",
              "      <td>...</td>\n",
              "      <td>1.00</td>\n",
              "      <td>999.00</td>\n",
              "      <td>0.00</td>\n",
              "      <td>nonexistent</td>\n",
              "      <td>1.10</td>\n",
              "      <td>93.99</td>\n",
              "      <td>-36.40</td>\n",
              "      <td>4.86</td>\n",
              "      <td>5,191.00</td>\n",
              "      <td>no</td>\n",
              "    </tr>\n",
              "    <tr>\n",
              "      <th>16</th>\n",
              "      <td>35.00</td>\n",
              "      <td>blue-collar</td>\n",
              "      <td>married</td>\n",
              "      <td>basic.6y</td>\n",
              "      <td>no</td>\n",
              "      <td>yes</td>\n",
              "      <td>no</td>\n",
              "      <td>telephone</td>\n",
              "      <td>may</td>\n",
              "      <td>mon</td>\n",
              "      <td>...</td>\n",
              "      <td>1.00</td>\n",
              "      <td>999.00</td>\n",
              "      <td>0.00</td>\n",
              "      <td>nonexistent</td>\n",
              "      <td>1.10</td>\n",
              "      <td>93.99</td>\n",
              "      <td>-36.40</td>\n",
              "      <td>4.86</td>\n",
              "      <td>5,191.00</td>\n",
              "      <td>no</td>\n",
              "    </tr>\n",
              "    <tr>\n",
              "      <th>17</th>\n",
              "      <td>46.00</td>\n",
              "      <td>blue-collar</td>\n",
              "      <td>married</td>\n",
              "      <td>basic.6y</td>\n",
              "      <td>unknown</td>\n",
              "      <td>yes</td>\n",
              "      <td>yes</td>\n",
              "      <td>telephone</td>\n",
              "      <td>may</td>\n",
              "      <td>mon</td>\n",
              "      <td>...</td>\n",
              "      <td>1.00</td>\n",
              "      <td>999.00</td>\n",
              "      <td>0.00</td>\n",
              "      <td>nonexistent</td>\n",
              "      <td>1.10</td>\n",
              "      <td>93.99</td>\n",
              "      <td>-36.40</td>\n",
              "      <td>4.86</td>\n",
              "      <td>5,191.00</td>\n",
              "      <td>no</td>\n",
              "    </tr>\n",
              "    <tr>\n",
              "      <th>18</th>\n",
              "      <td>50.00</td>\n",
              "      <td>blue-collar</td>\n",
              "      <td>married</td>\n",
              "      <td>basic.9y</td>\n",
              "      <td>no</td>\n",
              "      <td>yes</td>\n",
              "      <td>yes</td>\n",
              "      <td>telephone</td>\n",
              "      <td>may</td>\n",
              "      <td>mon</td>\n",
              "      <td>...</td>\n",
              "      <td>1.00</td>\n",
              "      <td>999.00</td>\n",
              "      <td>0.00</td>\n",
              "      <td>nonexistent</td>\n",
              "      <td>1.10</td>\n",
              "      <td>93.99</td>\n",
              "      <td>-36.40</td>\n",
              "      <td>4.86</td>\n",
              "      <td>5,191.00</td>\n",
              "      <td>no</td>\n",
              "    </tr>\n",
              "    <tr>\n",
              "      <th>19</th>\n",
              "      <td>39.00</td>\n",
              "      <td>management</td>\n",
              "      <td>single</td>\n",
              "      <td>basic.9y</td>\n",
              "      <td>unknown</td>\n",
              "      <td>no</td>\n",
              "      <td>no</td>\n",
              "      <td>telephone</td>\n",
              "      <td>may</td>\n",
              "      <td>mon</td>\n",
              "      <td>...</td>\n",
              "      <td>1.00</td>\n",
              "      <td>999.00</td>\n",
              "      <td>0.00</td>\n",
              "      <td>nonexistent</td>\n",
              "      <td>1.10</td>\n",
              "      <td>93.99</td>\n",
              "      <td>-36.40</td>\n",
              "      <td>4.86</td>\n",
              "      <td>5,191.00</td>\n",
              "      <td>no</td>\n",
              "    </tr>\n",
              "  </tbody>\n",
              "</table>\n",
              "<p>20 rows × 21 columns</p>\n",
              "</div>"
            ],
            "text/plain": [
              "                    age          job   marital            education  default  \\\n",
              "0                 56.00    housemaid   married             basic.4y       no   \n",
              "1                 57.00     services   married          high.school  unknown   \n",
              "2                 37.00     services   married          high.school       no   \n",
              "3                 40.00       admin.   married             basic.6y       no   \n",
              "4                 56.00     services   married          high.school       no   \n",
              "5                 45.00     services   married             basic.9y  unknown   \n",
              "6                 59.00       admin.   married  professional.course       no   \n",
              "7                 41.00  blue-collar   married              unknown  unknown   \n",
              "8                 24.00   technician    single  professional.course       no   \n",
              "9                 25.00     services    single          high.school       no   \n",
              "10                41.00  blue-collar   married              unknown  unknown   \n",
              "11                25.00     services    single          high.school       no   \n",
              "12                29.00  blue-collar    single          high.school       no   \n",
              "13                57.00    housemaid  divorced             basic.4y       no   \n",
              "14                35.00  blue-collar   married             basic.6y       no   \n",
              "15                54.00      retired   married             basic.9y  unknown   \n",
              "16                35.00  blue-collar   married             basic.6y       no   \n",
              "17                46.00  blue-collar   married             basic.6y  unknown   \n",
              "18                50.00  blue-collar   married             basic.9y       no   \n",
              "19                39.00   management    single             basic.9y  unknown   \n",
              "\n",
              "   housing loan    contact month day_of_week  ...             campaign  \\\n",
              "0       no   no  telephone   may         mon  ...                 1.00   \n",
              "1       no   no  telephone   may         mon  ...                 1.00   \n",
              "2      yes   no  telephone   may         mon  ...                 1.00   \n",
              "3       no   no  telephone   may         mon  ...                 1.00   \n",
              "4       no  yes  telephone   may         mon  ...                 1.00   \n",
              "5       no   no  telephone   may         mon  ...                 1.00   \n",
              "6       no   no  telephone   may         mon  ...                 1.00   \n",
              "7       no   no  telephone   may         mon  ...                 1.00   \n",
              "8      yes   no  telephone   may         mon  ...                 1.00   \n",
              "9      yes   no  telephone   may         mon  ...                 1.00   \n",
              "10      no   no  telephone   may         mon  ...                 1.00   \n",
              "11     yes   no  telephone   may         mon  ...                 1.00   \n",
              "12      no  yes  telephone   may         mon  ...                 1.00   \n",
              "13     yes   no  telephone   may         mon  ...                 1.00   \n",
              "14     yes   no  telephone   may         mon  ...                 1.00   \n",
              "15     yes  yes  telephone   may         mon  ...                 1.00   \n",
              "16     yes   no  telephone   may         mon  ...                 1.00   \n",
              "17     yes  yes  telephone   may         mon  ...                 1.00   \n",
              "18     yes  yes  telephone   may         mon  ...                 1.00   \n",
              "19      no   no  telephone   may         mon  ...                 1.00   \n",
              "\n",
              "                  pdays             previous     poutcome  \\\n",
              "0                999.00                 0.00  nonexistent   \n",
              "1                999.00                 0.00  nonexistent   \n",
              "2                999.00                 0.00  nonexistent   \n",
              "3                999.00                 0.00  nonexistent   \n",
              "4                999.00                 0.00  nonexistent   \n",
              "5                999.00                 0.00  nonexistent   \n",
              "6                999.00                 0.00  nonexistent   \n",
              "7                999.00                 0.00  nonexistent   \n",
              "8                999.00                 0.00  nonexistent   \n",
              "9                999.00                 0.00  nonexistent   \n",
              "10               999.00                 0.00  nonexistent   \n",
              "11               999.00                 0.00  nonexistent   \n",
              "12               999.00                 0.00  nonexistent   \n",
              "13               999.00                 0.00  nonexistent   \n",
              "14               999.00                 0.00  nonexistent   \n",
              "15               999.00                 0.00  nonexistent   \n",
              "16               999.00                 0.00  nonexistent   \n",
              "17               999.00                 0.00  nonexistent   \n",
              "18               999.00                 0.00  nonexistent   \n",
              "19               999.00                 0.00  nonexistent   \n",
              "\n",
              "           emp.var.rate       cons.price.idx        cons.conf.idx  \\\n",
              "0                  1.10                93.99               -36.40   \n",
              "1                  1.10                93.99               -36.40   \n",
              "2                  1.10                93.99               -36.40   \n",
              "3                  1.10                93.99               -36.40   \n",
              "4                  1.10                93.99               -36.40   \n",
              "5                  1.10                93.99               -36.40   \n",
              "6                  1.10                93.99               -36.40   \n",
              "7                  1.10                93.99               -36.40   \n",
              "8                  1.10                93.99               -36.40   \n",
              "9                  1.10                93.99               -36.40   \n",
              "10                 1.10                93.99               -36.40   \n",
              "11                 1.10                93.99               -36.40   \n",
              "12                 1.10                93.99               -36.40   \n",
              "13                 1.10                93.99               -36.40   \n",
              "14                 1.10                93.99               -36.40   \n",
              "15                 1.10                93.99               -36.40   \n",
              "16                 1.10                93.99               -36.40   \n",
              "17                 1.10                93.99               -36.40   \n",
              "18                 1.10                93.99               -36.40   \n",
              "19                 1.10                93.99               -36.40   \n",
              "\n",
              "              euribor3m          nr.employed   y  \n",
              "0                  4.86             5,191.00  no  \n",
              "1                  4.86             5,191.00  no  \n",
              "2                  4.86             5,191.00  no  \n",
              "3                  4.86             5,191.00  no  \n",
              "4                  4.86             5,191.00  no  \n",
              "5                  4.86             5,191.00  no  \n",
              "6                  4.86             5,191.00  no  \n",
              "7                  4.86             5,191.00  no  \n",
              "8                  4.86             5,191.00  no  \n",
              "9                  4.86             5,191.00  no  \n",
              "10                 4.86             5,191.00  no  \n",
              "11                 4.86             5,191.00  no  \n",
              "12                 4.86             5,191.00  no  \n",
              "13                 4.86             5,191.00  no  \n",
              "14                 4.86             5,191.00  no  \n",
              "15                 4.86             5,191.00  no  \n",
              "16                 4.86             5,191.00  no  \n",
              "17                 4.86             5,191.00  no  \n",
              "18                 4.86             5,191.00  no  \n",
              "19                 4.86             5,191.00  no  \n",
              "\n",
              "[20 rows x 21 columns]"
            ]
          },
          "execution_count": 113,
          "metadata": {},
          "output_type": "execute_result"
        }
      ],
      "source": [
        "data.head(20)"
      ]
    },
    {
      "cell_type": "code",
      "execution_count": null,
      "id": "600ffc47",
      "metadata": {
        "id": "600ffc47",
        "outputId": "34ca3c42-ff73-4fcd-dd22-de2988174da0"
      },
      "outputs": [
        {
          "data": {
            "text/html": [
              "<div>\n",
              "<style scoped>\n",
              "    .dataframe tbody tr th:only-of-type {\n",
              "        vertical-align: middle;\n",
              "    }\n",
              "\n",
              "    .dataframe tbody tr th {\n",
              "        vertical-align: top;\n",
              "    }\n",
              "\n",
              "    .dataframe thead th {\n",
              "        text-align: right;\n",
              "    }\n",
              "</style>\n",
              "<table border=\"1\" class=\"dataframe\">\n",
              "  <thead>\n",
              "    <tr style=\"text-align: right;\">\n",
              "      <th></th>\n",
              "      <th>age</th>\n",
              "      <th>duration</th>\n",
              "      <th>campaign</th>\n",
              "      <th>pdays</th>\n",
              "      <th>previous</th>\n",
              "      <th>emp.var.rate</th>\n",
              "      <th>cons.price.idx</th>\n",
              "      <th>cons.conf.idx</th>\n",
              "      <th>euribor3m</th>\n",
              "      <th>nr.employed</th>\n",
              "    </tr>\n",
              "  </thead>\n",
              "  <tbody>\n",
              "    <tr>\n",
              "      <th>count</th>\n",
              "      <td>41,195.00</td>\n",
              "      <td>41,196.00</td>\n",
              "      <td>41,196.00</td>\n",
              "      <td>41,196.00</td>\n",
              "      <td>41,196.00</td>\n",
              "      <td>41,196.00</td>\n",
              "      <td>41,195.00</td>\n",
              "      <td>41,196.00</td>\n",
              "      <td>41,196.00</td>\n",
              "      <td>41,196.00</td>\n",
              "    </tr>\n",
              "    <tr>\n",
              "      <th>mean</th>\n",
              "      <td>40.03</td>\n",
              "      <td>258.28</td>\n",
              "      <td>2.57</td>\n",
              "      <td>962.48</td>\n",
              "      <td>0.17</td>\n",
              "      <td>0.08</td>\n",
              "      <td>93.58</td>\n",
              "      <td>-40.50</td>\n",
              "      <td>3.62</td>\n",
              "      <td>5,167.00</td>\n",
              "    </tr>\n",
              "    <tr>\n",
              "      <th>std</th>\n",
              "      <td>10.43</td>\n",
              "      <td>259.25</td>\n",
              "      <td>2.77</td>\n",
              "      <td>186.89</td>\n",
              "      <td>0.49</td>\n",
              "      <td>1.57</td>\n",
              "      <td>0.58</td>\n",
              "      <td>4.63</td>\n",
              "      <td>1.73</td>\n",
              "      <td>72.30</td>\n",
              "    </tr>\n",
              "    <tr>\n",
              "      <th>min</th>\n",
              "      <td>17.00</td>\n",
              "      <td>0.00</td>\n",
              "      <td>1.00</td>\n",
              "      <td>0.00</td>\n",
              "      <td>0.00</td>\n",
              "      <td>-3.40</td>\n",
              "      <td>92.20</td>\n",
              "      <td>-50.80</td>\n",
              "      <td>0.63</td>\n",
              "      <td>4,963.60</td>\n",
              "    </tr>\n",
              "    <tr>\n",
              "      <th>25%</th>\n",
              "      <td>32.00</td>\n",
              "      <td>102.00</td>\n",
              "      <td>1.00</td>\n",
              "      <td>999.00</td>\n",
              "      <td>0.00</td>\n",
              "      <td>-1.80</td>\n",
              "      <td>93.08</td>\n",
              "      <td>-42.70</td>\n",
              "      <td>1.34</td>\n",
              "      <td>5,099.10</td>\n",
              "    </tr>\n",
              "    <tr>\n",
              "      <th>50%</th>\n",
              "      <td>38.00</td>\n",
              "      <td>180.00</td>\n",
              "      <td>2.00</td>\n",
              "      <td>999.00</td>\n",
              "      <td>0.00</td>\n",
              "      <td>1.10</td>\n",
              "      <td>93.75</td>\n",
              "      <td>-41.80</td>\n",
              "      <td>4.86</td>\n",
              "      <td>5,191.00</td>\n",
              "    </tr>\n",
              "    <tr>\n",
              "      <th>75%</th>\n",
              "      <td>47.00</td>\n",
              "      <td>319.00</td>\n",
              "      <td>3.00</td>\n",
              "      <td>999.00</td>\n",
              "      <td>0.00</td>\n",
              "      <td>1.40</td>\n",
              "      <td>93.99</td>\n",
              "      <td>-36.40</td>\n",
              "      <td>4.96</td>\n",
              "      <td>5,228.10</td>\n",
              "    </tr>\n",
              "    <tr>\n",
              "      <th>max</th>\n",
              "      <td>98.00</td>\n",
              "      <td>4,918.00</td>\n",
              "      <td>56.00</td>\n",
              "      <td>999.00</td>\n",
              "      <td>7.00</td>\n",
              "      <td>1.40</td>\n",
              "      <td>94.77</td>\n",
              "      <td>-26.90</td>\n",
              "      <td>5.04</td>\n",
              "      <td>5,228.10</td>\n",
              "    </tr>\n",
              "  </tbody>\n",
              "</table>\n",
              "</div>"
            ],
            "text/plain": [
              "                       age             duration             campaign  \\\n",
              "count            41,195.00            41,196.00            41,196.00   \n",
              "mean                 40.03               258.28                 2.57   \n",
              "std                  10.43               259.25                 2.77   \n",
              "min                  17.00                 0.00                 1.00   \n",
              "25%                  32.00               102.00                 1.00   \n",
              "50%                  38.00               180.00                 2.00   \n",
              "75%                  47.00               319.00                 3.00   \n",
              "max                  98.00             4,918.00                56.00   \n",
              "\n",
              "                     pdays             previous         emp.var.rate  \\\n",
              "count            41,196.00            41,196.00            41,196.00   \n",
              "mean                962.48                 0.17                 0.08   \n",
              "std                 186.89                 0.49                 1.57   \n",
              "min                   0.00                 0.00                -3.40   \n",
              "25%                 999.00                 0.00                -1.80   \n",
              "50%                 999.00                 0.00                 1.10   \n",
              "75%                 999.00                 0.00                 1.40   \n",
              "max                 999.00                 7.00                 1.40   \n",
              "\n",
              "            cons.price.idx        cons.conf.idx            euribor3m  \\\n",
              "count            41,195.00            41,196.00            41,196.00   \n",
              "mean                 93.58               -40.50                 3.62   \n",
              "std                   0.58                 4.63                 1.73   \n",
              "min                  92.20               -50.80                 0.63   \n",
              "25%                  93.08               -42.70                 1.34   \n",
              "50%                  93.75               -41.80                 4.86   \n",
              "75%                  93.99               -36.40                 4.96   \n",
              "max                  94.77               -26.90                 5.04   \n",
              "\n",
              "               nr.employed  \n",
              "count            41,196.00  \n",
              "mean              5,167.00  \n",
              "std                  72.30  \n",
              "min               4,963.60  \n",
              "25%               5,099.10  \n",
              "50%               5,191.00  \n",
              "75%               5,228.10  \n",
              "max               5,228.10  "
            ]
          },
          "execution_count": 114,
          "metadata": {},
          "output_type": "execute_result"
        }
      ],
      "source": [
        "data.describe()"
      ]
    },
    {
      "cell_type": "code",
      "execution_count": null,
      "id": "29991181",
      "metadata": {
        "id": "29991181",
        "outputId": "8c168705-040c-4907-ea51-5a52f938a588"
      },
      "outputs": [
        {
          "data": {
            "text/plain": [
              "(41199, 21)"
            ]
          },
          "execution_count": 115,
          "metadata": {},
          "output_type": "execute_result"
        }
      ],
      "source": [
        "data.shape"
      ]
    },
    {
      "cell_type": "code",
      "execution_count": null,
      "id": "e6b4076b",
      "metadata": {
        "id": "e6b4076b",
        "outputId": "292dd347-3b55-4103-b667-b0dd362e39a8"
      },
      "outputs": [
        {
          "data": {
            "text/plain": [
              "age               float64\n",
              "job                object\n",
              "marital            object\n",
              "education          object\n",
              "default            object\n",
              "housing            object\n",
              "loan               object\n",
              "contact            object\n",
              "month              object\n",
              "day_of_week        object\n",
              "duration          float64\n",
              "campaign          float64\n",
              "pdays             float64\n",
              "previous          float64\n",
              "poutcome           object\n",
              "emp.var.rate      float64\n",
              "cons.price.idx    float64\n",
              "cons.conf.idx     float64\n",
              "euribor3m         float64\n",
              "nr.employed       float64\n",
              "y                  object\n",
              "dtype: object"
            ]
          },
          "execution_count": 116,
          "metadata": {},
          "output_type": "execute_result"
        }
      ],
      "source": [
        "data.dtypes"
      ]
    },
    {
      "cell_type": "code",
      "execution_count": null,
      "id": "2dff7f1f",
      "metadata": {
        "id": "2dff7f1f",
        "outputId": "9e65fbdd-edc3-4470-fd7e-80b906b099a1"
      },
      "outputs": [
        {
          "data": {
            "text/plain": [
              "[24934, 11568, 4612, 80]"
            ]
          },
          "execution_count": 117,
          "metadata": {},
          "output_type": "execute_result"
        }
      ],
      "source": [
        "c=data['marital'].value_counts().tolist()\n",
        "c"
      ]
    },
    {
      "cell_type": "code",
      "execution_count": null,
      "id": "4e55d0da",
      "metadata": {
        "id": "4e55d0da",
        "outputId": "348858f7-aaf8-437a-878e-7b5410c72fae"
      },
      "outputs": [
        {
          "data": {
            "text/plain": [
              "['age',\n",
              " 'job',\n",
              " 'marital',\n",
              " 'education',\n",
              " 'default',\n",
              " 'housing',\n",
              " 'loan',\n",
              " 'contact',\n",
              " 'month',\n",
              " 'day_of_week',\n",
              " 'duration',\n",
              " 'campaign',\n",
              " 'pdays',\n",
              " 'previous',\n",
              " 'poutcome',\n",
              " 'emp.var.rate',\n",
              " 'cons.price.idx',\n",
              " 'cons.conf.idx',\n",
              " 'euribor3m',\n",
              " 'nr.employed',\n",
              " 'y']"
            ]
          },
          "execution_count": 118,
          "metadata": {},
          "output_type": "execute_result"
        }
      ],
      "source": [
        "col=list(data.columns)\n",
        "col"
      ]
    },
    {
      "cell_type": "markdown",
      "id": "c09391f7",
      "metadata": {
        "id": "c09391f7"
      },
      "source": [
        "# Boxplot\n",
        "\n",
        "Using boxplot we will be visualizing the outliers,after that we will be using IQR method and handling the outliers.\n",
        "\n",
        "with the help of boxplot we can visualize that 'age','duration','campaign','cons.conf.idx' columns has a outlier.1"
      ]
    },
    {
      "cell_type": "code",
      "execution_count": null,
      "id": "5b71246b",
      "metadata": {
        "scrolled": false,
        "id": "5b71246b",
        "outputId": "df424164-d384-4c26-b547-9f0c7a9a4222"
      },
      "outputs": [
        {
          "name": "stderr",
          "output_type": "stream",
          "text": [
            "C:\\Users\\Admin\\anaconda3\\new ann\\New folder (2)\\lib\\site-packages\\seaborn\\_decorators.py:36: FutureWarning: Pass the following variable as a keyword arg: x. From version 0.12, the only valid positional argument will be `data`, and passing other arguments without an explicit keyword will result in an error or misinterpretation.\n",
            "  warnings.warn(\n"
          ]
        },
        {
          "data": {
            "image/png": "[encoded data removed]",
            "text/plain": [
              "<Figure size 432x288 with 1 Axes>"
            ]
          },
          "metadata": {
            "needs_background": "light"
          },
          "output_type": "display_data"
        },
        {
          "name": "stderr",
          "output_type": "stream",
          "text": [
            "C:\\Users\\Admin\\anaconda3\\new ann\\New folder (2)\\lib\\site-packages\\seaborn\\_decorators.py:36: FutureWarning: Pass the following variable as a keyword arg: x. From version 0.12, the only valid positional argument will be `data`, and passing other arguments without an explicit keyword will result in an error or misinterpretation.\n",
            "  warnings.warn(\n"
          ]
        },
        {
          "data": {
            "image/png": "[encoded data removed]",
            "text/plain": [
              "<Figure size 432x288 with 1 Axes>"
            ]
          },
          "metadata": {
            "needs_background": "light"
          },
          "output_type": "display_data"
        },
        {
          "name": "stderr",
          "output_type": "stream",
          "text": [
            "C:\\Users\\Admin\\anaconda3\\new ann\\New folder (2)\\lib\\site-packages\\seaborn\\_decorators.py:36: FutureWarning: Pass the following variable as a keyword arg: x. From version 0.12, the only valid positional argument will be `data`, and passing other arguments without an explicit keyword will result in an error or misinterpretation.\n",
            "  warnings.warn(\n"
          ]
        },
        {
          "data": {
            "image/png": "[encoded data removed]",
            "text/plain": [
              "<Figure size 432x288 with 1 Axes>"
            ]
          },
          "metadata": {
            "needs_background": "light"
          },
          "output_type": "display_data"
        },
        {
          "name": "stderr",
          "output_type": "stream",
          "text": [
            "C:\\Users\\Admin\\anaconda3\\new ann\\New folder (2)\\lib\\site-packages\\seaborn\\_decorators.py:36: FutureWarning: Pass the following variable as a keyword arg: x. From version 0.12, the only valid positional argument will be `data`, and passing other arguments without an explicit keyword will result in an error or misinterpretation.\n",
            "  warnings.warn(\n"
          ]
        },
        {
          "data": {
            "image/png": "[encoded data removed]",
            "text/plain": [
              "<Figure size 432x288 with 1 Axes>"
            ]
          },
          "metadata": {
            "needs_background": "light"
          },
          "output_type": "display_data"
        },
        {
          "name": "stderr",
          "output_type": "stream",
          "text": [
            "C:\\Users\\Admin\\anaconda3\\new ann\\New folder (2)\\lib\\site-packages\\seaborn\\_decorators.py:36: FutureWarning: Pass the following variable as a keyword arg: x. From version 0.12, the only valid positional argument will be `data`, and passing other arguments without an explicit keyword will result in an error or misinterpretation.\n",
            "  warnings.warn(\n"
          ]
        },
        {
          "data": {
            "image/png": "[encoded data removed]",
            "text/plain": [
              "<Figure size 432x288 with 1 Axes>"
            ]
          },
          "metadata": {
            "needs_background": "light"
          },
          "output_type": "display_data"
        },
        {
          "name": "stderr",
          "output_type": "stream",
          "text": [
            "C:\\Users\\Admin\\anaconda3\\new ann\\New folder (2)\\lib\\site-packages\\seaborn\\_decorators.py:36: FutureWarning: Pass the following variable as a keyword arg: x. From version 0.12, the only valid positional argument will be `data`, and passing other arguments without an explicit keyword will result in an error or misinterpretation.\n",
            "  warnings.warn(\n"
          ]
        },
        {
          "data": {
            "image/png": "[encoded data removed]",
            "text/plain": [
              "<Figure size 432x288 with 1 Axes>"
            ]
          },
          "metadata": {
            "needs_background": "light"
          },
          "output_type": "display_data"
        },
        {
          "name": "stderr",
          "output_type": "stream",
          "text": [
            "C:\\Users\\Admin\\anaconda3\\new ann\\New folder (2)\\lib\\site-packages\\seaborn\\_decorators.py:36: FutureWarning: Pass the following variable as a keyword arg: x. From version 0.12, the only valid positional argument will be `data`, and passing other arguments without an explicit keyword will result in an error or misinterpretation.\n",
            "  warnings.warn(\n"
          ]
        },
        {
          "data": {
            "image/png": "[encoded data removed]",
            "text/plain": [
              "<Figure size 432x288 with 1 Axes>"
            ]
          },
          "metadata": {
            "needs_background": "light"
          },
          "output_type": "display_data"
        },
        {
          "name": "stderr",
          "output_type": "stream",
          "text": [
            "C:\\Users\\Admin\\anaconda3\\new ann\\New folder (2)\\lib\\site-packages\\seaborn\\_decorators.py:36: FutureWarning: Pass the following variable as a keyword arg: x. From version 0.12, the only valid positional argument will be `data`, and passing other arguments without an explicit keyword will result in an error or misinterpretation.\n",
            "  warnings.warn(\n"
          ]
        },
        {
          "data": {
            "image/png": "[encoded data removed]",
            "text/plain": [
              "<Figure size 432x288 with 1 Axes>"
            ]
          },
          "metadata": {
            "needs_background": "light"
          },
          "output_type": "display_data"
        },
        {
          "name": "stderr",
          "output_type": "stream",
          "text": [
            "C:\\Users\\Admin\\anaconda3\\new ann\\New folder (2)\\lib\\site-packages\\seaborn\\_decorators.py:36: FutureWarning: Pass the following variable as a keyword arg: x. From version 0.12, the only valid positional argument will be `data`, and passing other arguments without an explicit keyword will result in an error or misinterpretation.\n",
            "  warnings.warn(\n"
          ]
        },
        {
          "data": {
            "image/png": "[encoded data removed]",
            "text/plain": [
              "<Figure size 432x288 with 1 Axes>"
            ]
          },
          "metadata": {
            "needs_background": "light"
          },
          "output_type": "display_data"
        },
        {
          "name": "stderr",
          "output_type": "stream",
          "text": [
            "C:\\Users\\Admin\\anaconda3\\new ann\\New folder (2)\\lib\\site-packages\\seaborn\\_decorators.py:36: FutureWarning: Pass the following variable as a keyword arg: x. From version 0.12, the only valid positional argument will be `data`, and passing other arguments without an explicit keyword will result in an error or misinterpretation.\n",
            "  warnings.warn(\n"
          ]
        },
        {
          "data": {
            "image/png": "[encoded data removed]",
            "text/plain": [
              "<Figure size 432x288 with 1 Axes>"
            ]
          },
          "metadata": {
            "needs_background": "light"
          },
          "output_type": "display_data"
        }
      ],
      "source": [
        "import seaborn as sns\n",
        "import matplotlib.pyplot as plt\n",
        "for col_name in col:\n",
        "    if(data[col_name].dtypes=='int64' or data[col_name].dtypes=='float64'):\n",
        "        sns.boxplot(data[col_name])\n",
        "        plt.xlabel(col_name)\n",
        "        plt.ylabel('count')\n",
        "        plt.show()"
      ]
    },
    {
      "cell_type": "markdown",
      "id": "c23301cc",
      "metadata": {
        "id": "c23301cc"
      },
      "source": [
        "With reference to the above plot we can observe that some columns are having outliers .\n",
        "So what actually outliers are  ,The values greater than upper limit and values lesser than lower limit .\n",
        "\n",
        "Consider for age column\n",
        "where  1st quantile /25th percentile value(Q1)  and 3rd quantile /75th percentile value(Q3)values are\n",
        "data.age.quantile(.25),data.age.quantile(.75)=(32.0, 47.0)\n",
        "\n",
        "With the help of Q1 and Q3 we will be finding out Inter Quantile Range (IQR) for Outlier analysis\n",
        "\n",
        "Lets start with  age column\n",
        "\n",
        "1.age\n",
        "\n",
        "There are outliers\n",
        "\n",
        "2.duration\n",
        "\n",
        "There are outliers\n",
        "\n",
        "3.campaign\n",
        "\n",
        "There are outliers\n",
        "\n",
        "4.pdays\n",
        "\n",
        "There are no outliers\n",
        "\n",
        "5.previous\n",
        "\n",
        "There are no outliers\n",
        "\n",
        "6.emp.var.rate\n",
        "\n",
        "There are no outliers\n",
        "\n",
        "7.cons.price.idx\n",
        "\n",
        "There are no outliers\n",
        "\n",
        "8.cons.conf.idx\n",
        "\n",
        "There are  outliers\n",
        "\n",
        "9.nr.employed\n",
        "\n",
        "There are no outliers\n",
        "\n",
        "so from above inference only 4 columns as outliers those are 'age','duration','campaign','cons.conf.idx' .\n",
        "So in next step we'll be handling it,\n"
      ]
    },
    {
      "cell_type": "code",
      "execution_count": null,
      "id": "57635cad",
      "metadata": {
        "id": "57635cad"
      },
      "outputs": [],
      "source": []
    },
    {
      "cell_type": "code",
      "execution_count": null,
      "id": "ec37b721",
      "metadata": {
        "id": "ec37b721"
      },
      "outputs": [],
      "source": []
    },
    {
      "cell_type": "markdown",
      "id": "cd1aa2e4",
      "metadata": {
        "id": "cd1aa2e4"
      },
      "source": [
        "# IQR method\n",
        "\n",
        "Now with the IQR method we will be removing the outlier\n",
        "\n",
        "\n",
        "The interquartile range is calculated in much the same way as the range. All you do to find it is subtract the first quartile from the third quartile: IQR = Q3 – Q1. The interquartile range shows how the data is spread about the median\n",
        "\n",
        "\n",
        "(data >= Q1 - 1.5*IQR) & (data <= Q3 + 1.5*IQR)\n",
        "\n",
        "Where 1.5 is standard range set to check the outliers\n",
        "\n",
        "So with the help of above formula and IQR value we can remove the outliers ,to remove the outliers we have to calculate the values within upper and lower limit\n",
        "\n",
        "IQR=Q3-Q1\n",
        "\n",
        "lower limit=Q1-1.5*IQR\n",
        "upper limit=Q3+1.5*IQR\n",
        "\n",
        "so consider for age column\n",
        "\n",
        "Q1 = data.age.quantile(0.25)\n",
        "Q3 = data.age.quantile(0.75)\n",
        "IQR = Q3 - Q1\n",
        "print(Q1-1.5*IQR,Q3+1.5*IQR)\n",
        "\n",
        "(9.5 , 69.5)\n",
        "\n",
        "so we'll consider values between (9.5 , 69.5) and rest all values will be outliers.\n",
        "\n",
        "Same follows for all 4 ('age','duration','campaign','cons.conf.idx' ) columns."
      ]
    },
    {
      "cell_type": "code",
      "execution_count": null,
      "id": "898e4f16",
      "metadata": {
        "id": "898e4f16"
      },
      "outputs": [],
      "source": [
        "#handling outliers\n",
        "\n",
        "col_names=['age','duration','campaign','cons.conf.idx']\n",
        "Q1 = data.age.quantile(0.25)\n",
        "Q3 = data.age.quantile(0.75)\n",
        "IQR = Q3 - Q1\n",
        "data = data[(data.age >= Q1 - 1.5*IQR) & (data.age <= Q3 + 1.5*IQR)]\n",
        "\n",
        "\n",
        "Q1 = data.duration.quantile(0.25)\n",
        "Q3 = data.duration.quantile(0.75)\n",
        "IQR = Q3 - Q1\n",
        "data = data[(data.duration >= Q1 - 1.5*IQR) & (data.duration <= Q3 + 1.5*IQR)]\n",
        "\n",
        "Q1 = data.campaign.quantile(0.25)\n",
        "Q3 = data.campaign.quantile(0.75)\n",
        "IQR = Q3 - Q1\n",
        "data = data[(data.campaign >= Q1 - 1.5*IQR) & (data.campaign <= Q3 + 1.5*IQR)]\n",
        "\n",
        "Q1 = data['cons.conf.idx'].quantile(0.25)\n",
        "Q3 = data['cons.conf.idx'].quantile(0.75)\n",
        "IQR = Q3 - Q1\n",
        "data = data[(data['cons.conf.idx'] >= Q1 - 1.5*IQR) & (data['cons.conf.idx'] <= Q3 + 1.5*IQR)]"
      ]
    },
    {
      "cell_type": "code",
      "execution_count": null,
      "id": "3957c271",
      "metadata": {
        "id": "3957c271",
        "outputId": "0ef4d42c-4a16-4d7a-ea9b-c57c894c52fb"
      },
      "outputs": [
        {
          "name": "stderr",
          "output_type": "stream",
          "text": [
            "C:\\Users\\Admin\\anaconda3\\new ann\\New folder (2)\\lib\\site-packages\\seaborn\\_decorators.py:36: FutureWarning: Pass the following variable as a keyword arg: x. From version 0.12, the only valid positional argument will be `data`, and passing other arguments without an explicit keyword will result in an error or misinterpretation.\n",
            "  warnings.warn(\n"
          ]
        },
        {
          "data": {
            "image/png": "[encoded data removed]",
            "text/plain": [
              "<Figure size 432x288 with 1 Axes>"
            ]
          },
          "metadata": {
            "needs_background": "light"
          },
          "output_type": "display_data"
        },
        {
          "name": "stderr",
          "output_type": "stream",
          "text": [
            "C:\\Users\\Admin\\anaconda3\\new ann\\New folder (2)\\lib\\site-packages\\seaborn\\_decorators.py:36: FutureWarning: Pass the following variable as a keyword arg: x. From version 0.12, the only valid positional argument will be `data`, and passing other arguments without an explicit keyword will result in an error or misinterpretation.\n",
            "  warnings.warn(\n"
          ]
        },
        {
          "data": {
            "image/png": "[encoded data removed]",
            "text/plain": [
              "<Figure size 432x288 with 1 Axes>"
            ]
          },
          "metadata": {
            "needs_background": "light"
          },
          "output_type": "display_data"
        },
        {
          "name": "stderr",
          "output_type": "stream",
          "text": [
            "C:\\Users\\Admin\\anaconda3\\new ann\\New folder (2)\\lib\\site-packages\\seaborn\\_decorators.py:36: FutureWarning: Pass the following variable as a keyword arg: x. From version 0.12, the only valid positional argument will be `data`, and passing other arguments without an explicit keyword will result in an error or misinterpretation.\n",
            "  warnings.warn(\n"
          ]
        },
        {
          "data": {
            "image/png": "[encoded data removed]",
            "text/plain": [
              "<Figure size 432x288 with 1 Axes>"
            ]
          },
          "metadata": {
            "needs_background": "light"
          },
          "output_type": "display_data"
        },
        {
          "name": "stderr",
          "output_type": "stream",
          "text": [
            "C:\\Users\\Admin\\anaconda3\\new ann\\New folder (2)\\lib\\site-packages\\seaborn\\_decorators.py:36: FutureWarning: Pass the following variable as a keyword arg: x. From version 0.12, the only valid positional argument will be `data`, and passing other arguments without an explicit keyword will result in an error or misinterpretation.\n",
            "  warnings.warn(\n"
          ]
        },
        {
          "data": {
            "image/png": "[encoded data removed]",
            "text/plain": [
              "<Figure size 432x288 with 1 Axes>"
            ]
          },
          "metadata": {
            "needs_background": "light"
          },
          "output_type": "display_data"
        },
        {
          "name": "stderr",
          "output_type": "stream",
          "text": [
            "C:\\Users\\Admin\\anaconda3\\new ann\\New folder (2)\\lib\\site-packages\\seaborn\\_decorators.py:36: FutureWarning: Pass the following variable as a keyword arg: x. From version 0.12, the only valid positional argument will be `data`, and passing other arguments without an explicit keyword will result in an error or misinterpretation.\n",
            "  warnings.warn(\n"
          ]
        },
        {
          "data": {
            "image/png": "[encoded data removed]",
            "text/plain": [
              "<Figure size 432x288 with 1 Axes>"
            ]
          },
          "metadata": {
            "needs_background": "light"
          },
          "output_type": "display_data"
        },
        {
          "name": "stderr",
          "output_type": "stream",
          "text": [
            "C:\\Users\\Admin\\anaconda3\\new ann\\New folder (2)\\lib\\site-packages\\seaborn\\_decorators.py:36: FutureWarning: Pass the following variable as a keyword arg: x. From version 0.12, the only valid positional argument will be `data`, and passing other arguments without an explicit keyword will result in an error or misinterpretation.\n",
            "  warnings.warn(\n"
          ]
        },
        {
          "data": {
            "image/png": "[encoded data removed]",
            "text/plain": [
              "<Figure size 432x288 with 1 Axes>"
            ]
          },
          "metadata": {
            "needs_background": "light"
          },
          "output_type": "display_data"
        },
        {
          "name": "stderr",
          "output_type": "stream",
          "text": [
            "C:\\Users\\Admin\\anaconda3\\new ann\\New folder (2)\\lib\\site-packages\\seaborn\\_decorators.py:36: FutureWarning: Pass the following variable as a keyword arg: x. From version 0.12, the only valid positional argument will be `data`, and passing other arguments without an explicit keyword will result in an error or misinterpretation.\n",
            "  warnings.warn(\n"
          ]
        },
        {
          "data": {
            "image/png": "[encoded data removed]",
            "text/plain": [
              "<Figure size 432x288 with 1 Axes>"
            ]
          },
          "metadata": {
            "needs_background": "light"
          },
          "output_type": "display_data"
        },
        {
          "name": "stderr",
          "output_type": "stream",
          "text": [
            "C:\\Users\\Admin\\anaconda3\\new ann\\New folder (2)\\lib\\site-packages\\seaborn\\_decorators.py:36: FutureWarning: Pass the following variable as a keyword arg: x. From version 0.12, the only valid positional argument will be `data`, and passing other arguments without an explicit keyword will result in an error or misinterpretation.\n",
            "  warnings.warn(\n"
          ]
        },
        {
          "data": {
            "image/png": "[encoded data removed]",
            "text/plain": [
              "<Figure size 432x288 with 1 Axes>"
            ]
          },
          "metadata": {
            "needs_background": "light"
          },
          "output_type": "display_data"
        },
        {
          "name": "stderr",
          "output_type": "stream",
          "text": [
            "C:\\Users\\Admin\\anaconda3\\new ann\\New folder (2)\\lib\\site-packages\\seaborn\\_decorators.py:36: FutureWarning: Pass the following variable as a keyword arg: x. From version 0.12, the only valid positional argument will be `data`, and passing other arguments without an explicit keyword will result in an error or misinterpretation.\n",
            "  warnings.warn(\n"
          ]
        },
        {
          "data": {
            "image/png": "[encoded data removed]",
            "text/plain": [
              "<Figure size 432x288 with 1 Axes>"
            ]
          },
          "metadata": {
            "needs_background": "light"
          },
          "output_type": "display_data"
        },
        {
          "name": "stderr",
          "output_type": "stream",
          "text": [
            "C:\\Users\\Admin\\anaconda3\\new ann\\New folder (2)\\lib\\site-packages\\seaborn\\_decorators.py:36: FutureWarning: Pass the following variable as a keyword arg: x. From version 0.12, the only valid positional argument will be `data`, and passing other arguments without an explicit keyword will result in an error or misinterpretation.\n",
            "  warnings.warn(\n"
          ]
        },
        {
          "data": {
            "image/png": "[encoded data removed]",
            "text/plain": [
              "<Figure size 432x288 with 1 Axes>"
            ]
          },
          "metadata": {
            "needs_background": "light"
          },
          "output_type": "display_data"
        }
      ],
      "source": [
        "for col_name in col:\n",
        "    if(data[col_name].dtypes=='int64' or data[col_name].dtypes=='float64'):\n",
        "        sns.boxplot(data[col_name])\n",
        "        plt.xlabel(col_name)\n",
        "        plt.ylabel('count')\n",
        "        plt.show()"
      ]
    },
    {
      "cell_type": "raw",
      "id": "a765b923",
      "metadata": {
        "id": "a765b923"
      },
      "source": [
        "So we are done with Handling outliers so once again we'll plot the box plot and check the difference before and after.\n",
        "\n",
        "From the above box plot we can visualize that all the outliers have been removed ."
      ]
    },
    {
      "cell_type": "markdown",
      "id": "3c97cee1",
      "metadata": {
        "id": "3c97cee1"
      },
      "source": [
        "# Missing Value Analysis\n",
        "\n",
        "\n",
        "Checking for missing values and replacing the respective numerical and categorical values with mean/median and mode"
      ]
    },
    {
      "cell_type": "code",
      "execution_count": null,
      "id": "1a62f587",
      "metadata": {
        "id": "1a62f587",
        "outputId": "46f25471-71cc-4a2b-94b2-146a98492e15"
      },
      "outputs": [
        {
          "data": {
            "text/plain": [
              "age               0\n",
              "job               0\n",
              "marital           0\n",
              "education         0\n",
              "default           0\n",
              "housing           0\n",
              "loan              0\n",
              "contact           0\n",
              "month             0\n",
              "day_of_week       0\n",
              "duration          0\n",
              "campaign          0\n",
              "pdays             0\n",
              "previous          0\n",
              "poutcome          0\n",
              "emp.var.rate      0\n",
              "cons.price.idx    0\n",
              "cons.conf.idx     0\n",
              "euribor3m         0\n",
              "nr.employed       0\n",
              "y                 0\n",
              "dtype: int64"
            ]
          },
          "execution_count": 122,
          "metadata": {},
          "output_type": "execute_result"
        }
      ],
      "source": [
        "#Checking for missing values and replacing the respective numerical and categorical values with mean/median and mode\n",
        "\n",
        "data.isna().sum()"
      ]
    },
    {
      "cell_type": "code",
      "execution_count": null,
      "id": "a8cc08cb",
      "metadata": {
        "id": "a8cc08cb"
      },
      "outputs": [],
      "source": [
        "\n",
        "data['y'] = np.where(data['y'] == 'yes',1,0)\n"
      ]
    },
    {
      "cell_type": "code",
      "execution_count": null,
      "id": "4753abbf",
      "metadata": {
        "id": "4753abbf"
      },
      "outputs": [],
      "source": [
        "data['y'] = data['y'].astype(str)"
      ]
    },
    {
      "cell_type": "code",
      "execution_count": null,
      "id": "6f2e67ad",
      "metadata": {
        "id": "6f2e67ad",
        "outputId": "71ab368a-e0a5-4d97-e047-48ca56cfe8dd"
      },
      "outputs": [
        {
          "data": {
            "text/plain": [
              "age               float64\n",
              "job                object\n",
              "marital            object\n",
              "education          object\n",
              "default            object\n",
              "housing            object\n",
              "loan               object\n",
              "contact            object\n",
              "month              object\n",
              "day_of_week        object\n",
              "duration          float64\n",
              "campaign          float64\n",
              "pdays             float64\n",
              "previous          float64\n",
              "poutcome           object\n",
              "emp.var.rate      float64\n",
              "cons.price.idx    float64\n",
              "cons.conf.idx     float64\n",
              "euribor3m         float64\n",
              "nr.employed       float64\n",
              "y                  object\n",
              "dtype: object"
            ]
          },
          "execution_count": 125,
          "metadata": {},
          "output_type": "execute_result"
        }
      ],
      "source": [
        "data.dtypes"
      ]
    },
    {
      "cell_type": "code",
      "execution_count": null,
      "id": "34cfabc7",
      "metadata": {
        "id": "34cfabc7"
      },
      "outputs": [],
      "source": [
        "#taking all columns in single list\n",
        "col_list = list(data.columns)"
      ]
    },
    {
      "cell_type": "code",
      "execution_count": null,
      "id": "20f96d85",
      "metadata": {
        "id": "20f96d85",
        "outputId": "aa30a8de-2418-4883-948c-c9e998731295"
      },
      "outputs": [
        {
          "data": {
            "text/plain": [
              "Index(['age', 'job', 'marital', 'education', 'default', 'housing', 'loan',\n",
              "       'contact', 'month', 'day_of_week', 'duration', 'campaign', 'pdays',\n",
              "       'previous', 'poutcome', 'emp.var.rate', 'cons.price.idx',\n",
              "       'cons.conf.idx', 'euribor3m', 'nr.employed', 'y'],\n",
              "      dtype='object')"
            ]
          },
          "execution_count": 127,
          "metadata": {},
          "output_type": "execute_result"
        }
      ],
      "source": [
        "data.columns"
      ]
    },
    {
      "cell_type": "code",
      "execution_count": null,
      "id": "b6694fa3",
      "metadata": {
        "id": "b6694fa3",
        "outputId": "d2828037-7988-440b-bca1-eed45030f2e5"
      },
      "outputs": [
        {
          "data": {
            "text/plain": [
              "['age',\n",
              " 'job',\n",
              " 'marital',\n",
              " 'education',\n",
              " 'default',\n",
              " 'housing',\n",
              " 'loan',\n",
              " 'contact',\n",
              " 'month',\n",
              " 'day_of_week',\n",
              " 'duration',\n",
              " 'campaign',\n",
              " 'pdays',\n",
              " 'previous',\n",
              " 'poutcome',\n",
              " 'emp.var.rate',\n",
              " 'cons.price.idx',\n",
              " 'cons.conf.idx',\n",
              " 'euribor3m',\n",
              " 'nr.employed',\n",
              " 'y']"
            ]
          },
          "execution_count": 128,
          "metadata": {},
          "output_type": "execute_result"
        }
      ],
      "source": [
        "col_list"
      ]
    },
    {
      "cell_type": "raw",
      "id": "64bfbb72",
      "metadata": {
        "id": "64bfbb72"
      },
      "source": [
        "using for loop we are replacing all the null/na values with mean/median and mode for numerical\n",
        "and categorical values respectively"
      ]
    },
    {
      "cell_type": "raw",
      "id": "7ac2f19c",
      "metadata": {
        "id": "7ac2f19c"
      },
      "source": [
        "Missing values can be replaced in two ways based on thier data type.\n",
        "\n",
        "If colums are numerical we'll be replacing it by either mean /median .\n",
        "\n",
        "If columns are object format or string we'll be replacing value by mode ."
      ]
    },
    {
      "cell_type": "code",
      "execution_count": null,
      "id": "e78ebb69",
      "metadata": {
        "id": "e78ebb69"
      },
      "outputs": [],
      "source": [
        "\n",
        "for col in col_list:\n",
        "    if data[col].dtypes=='object':\n",
        "        #print('ob')\n",
        "        data[col] = data[col].fillna(data[col].mode()[0])\n",
        "    else:\n",
        "        #print('num')\n",
        "        data[col] = data[col].fillna(data[col].mean())"
      ]
    },
    {
      "cell_type": "code",
      "execution_count": null,
      "id": "d066458e",
      "metadata": {
        "id": "d066458e"
      },
      "outputs": [],
      "source": []
    },
    {
      "cell_type": "code",
      "execution_count": null,
      "id": "2bcaccb0",
      "metadata": {
        "id": "2bcaccb0"
      },
      "outputs": [],
      "source": []
    },
    {
      "cell_type": "code",
      "execution_count": null,
      "id": "0ff4fd96",
      "metadata": {
        "id": "0ff4fd96",
        "outputId": "b5eab916-8f17-4463-eaf8-5955ca499fa7"
      },
      "outputs": [
        {
          "data": {
            "text/html": [
              "<div>\n",
              "<style scoped>\n",
              "    .dataframe tbody tr th:only-of-type {\n",
              "        vertical-align: middle;\n",
              "    }\n",
              "\n",
              "    .dataframe tbody tr th {\n",
              "        vertical-align: top;\n",
              "    }\n",
              "\n",
              "    .dataframe thead th {\n",
              "        text-align: right;\n",
              "    }\n",
              "</style>\n",
              "<table border=\"1\" class=\"dataframe\">\n",
              "  <thead>\n",
              "    <tr style=\"text-align: right;\">\n",
              "      <th></th>\n",
              "      <th>age</th>\n",
              "      <th>job</th>\n",
              "      <th>marital</th>\n",
              "      <th>education</th>\n",
              "      <th>default</th>\n",
              "      <th>housing</th>\n",
              "      <th>loan</th>\n",
              "      <th>contact</th>\n",
              "      <th>month</th>\n",
              "      <th>day_of_week</th>\n",
              "      <th>...</th>\n",
              "      <th>campaign</th>\n",
              "      <th>pdays</th>\n",
              "      <th>previous</th>\n",
              "      <th>poutcome</th>\n",
              "      <th>emp.var.rate</th>\n",
              "      <th>cons.price.idx</th>\n",
              "      <th>cons.conf.idx</th>\n",
              "      <th>euribor3m</th>\n",
              "      <th>nr.employed</th>\n",
              "      <th>y</th>\n",
              "    </tr>\n",
              "  </thead>\n",
              "  <tbody>\n",
              "    <tr>\n",
              "      <th>41181</th>\n",
              "      <td>37.00</td>\n",
              "      <td>admin.</td>\n",
              "      <td>married</td>\n",
              "      <td>university.degree</td>\n",
              "      <td>no</td>\n",
              "      <td>yes</td>\n",
              "      <td>no</td>\n",
              "      <td>cellular</td>\n",
              "      <td>nov</td>\n",
              "      <td>fri</td>\n",
              "      <td>...</td>\n",
              "      <td>1.00</td>\n",
              "      <td>999.00</td>\n",
              "      <td>0.00</td>\n",
              "      <td>nonexistent</td>\n",
              "      <td>-1.10</td>\n",
              "      <td>94.77</td>\n",
              "      <td>-50.80</td>\n",
              "      <td>1.03</td>\n",
              "      <td>4,963.60</td>\n",
              "      <td>1</td>\n",
              "    </tr>\n",
              "    <tr>\n",
              "      <th>41182</th>\n",
              "      <td>29.00</td>\n",
              "      <td>unemployed</td>\n",
              "      <td>single</td>\n",
              "      <td>basic.4y</td>\n",
              "      <td>no</td>\n",
              "      <td>yes</td>\n",
              "      <td>no</td>\n",
              "      <td>cellular</td>\n",
              "      <td>nov</td>\n",
              "      <td>fri</td>\n",
              "      <td>...</td>\n",
              "      <td>1.00</td>\n",
              "      <td>9.00</td>\n",
              "      <td>1.00</td>\n",
              "      <td>success</td>\n",
              "      <td>-1.10</td>\n",
              "      <td>94.77</td>\n",
              "      <td>-50.80</td>\n",
              "      <td>1.03</td>\n",
              "      <td>4,963.60</td>\n",
              "      <td>0</td>\n",
              "    </tr>\n",
              "    <tr>\n",
              "      <th>41184</th>\n",
              "      <td>46.00</td>\n",
              "      <td>blue-collar</td>\n",
              "      <td>married</td>\n",
              "      <td>professional.course</td>\n",
              "      <td>no</td>\n",
              "      <td>no</td>\n",
              "      <td>no</td>\n",
              "      <td>cellular</td>\n",
              "      <td>nov</td>\n",
              "      <td>fri</td>\n",
              "      <td>...</td>\n",
              "      <td>1.00</td>\n",
              "      <td>999.00</td>\n",
              "      <td>0.00</td>\n",
              "      <td>nonexistent</td>\n",
              "      <td>-1.10</td>\n",
              "      <td>94.77</td>\n",
              "      <td>-50.80</td>\n",
              "      <td>1.03</td>\n",
              "      <td>4,963.60</td>\n",
              "      <td>0</td>\n",
              "    </tr>\n",
              "    <tr>\n",
              "      <th>41185</th>\n",
              "      <td>56.00</td>\n",
              "      <td>retired</td>\n",
              "      <td>married</td>\n",
              "      <td>university.degree</td>\n",
              "      <td>no</td>\n",
              "      <td>yes</td>\n",
              "      <td>no</td>\n",
              "      <td>cellular</td>\n",
              "      <td>nov</td>\n",
              "      <td>fri</td>\n",
              "      <td>...</td>\n",
              "      <td>2.00</td>\n",
              "      <td>999.00</td>\n",
              "      <td>0.00</td>\n",
              "      <td>nonexistent</td>\n",
              "      <td>-1.10</td>\n",
              "      <td>94.77</td>\n",
              "      <td>-50.80</td>\n",
              "      <td>1.03</td>\n",
              "      <td>4,963.60</td>\n",
              "      <td>0</td>\n",
              "    </tr>\n",
              "    <tr>\n",
              "      <th>41186</th>\n",
              "      <td>44.00</td>\n",
              "      <td>technician</td>\n",
              "      <td>married</td>\n",
              "      <td>professional.course</td>\n",
              "      <td>no</td>\n",
              "      <td>no</td>\n",
              "      <td>no</td>\n",
              "      <td>cellular</td>\n",
              "      <td>nov</td>\n",
              "      <td>fri</td>\n",
              "      <td>...</td>\n",
              "      <td>1.00</td>\n",
              "      <td>999.00</td>\n",
              "      <td>0.00</td>\n",
              "      <td>nonexistent</td>\n",
              "      <td>-1.10</td>\n",
              "      <td>94.77</td>\n",
              "      <td>-50.80</td>\n",
              "      <td>1.03</td>\n",
              "      <td>4,963.60</td>\n",
              "      <td>1</td>\n",
              "    </tr>\n",
              "  </tbody>\n",
              "</table>\n",
              "<p>5 rows × 21 columns</p>\n",
              "</div>"
            ],
            "text/plain": [
              "                       age          job  marital            education default  \\\n",
              "41181                37.00       admin.  married    university.degree      no   \n",
              "41182                29.00   unemployed   single             basic.4y      no   \n",
              "41184                46.00  blue-collar  married  professional.course      no   \n",
              "41185                56.00      retired  married    university.degree      no   \n",
              "41186                44.00   technician  married  professional.course      no   \n",
              "\n",
              "      housing loan   contact month day_of_week  ...             campaign  \\\n",
              "41181     yes   no  cellular   nov         fri  ...                 1.00   \n",
              "41182     yes   no  cellular   nov         fri  ...                 1.00   \n",
              "41184      no   no  cellular   nov         fri  ...                 1.00   \n",
              "41185     yes   no  cellular   nov         fri  ...                 2.00   \n",
              "41186      no   no  cellular   nov         fri  ...                 1.00   \n",
              "\n",
              "                     pdays             previous     poutcome  \\\n",
              "41181               999.00                 0.00  nonexistent   \n",
              "41182                 9.00                 1.00      success   \n",
              "41184               999.00                 0.00  nonexistent   \n",
              "41185               999.00                 0.00  nonexistent   \n",
              "41186               999.00                 0.00  nonexistent   \n",
              "\n",
              "              emp.var.rate       cons.price.idx        cons.conf.idx  \\\n",
              "41181                -1.10                94.77               -50.80   \n",
              "41182                -1.10                94.77               -50.80   \n",
              "41184                -1.10                94.77               -50.80   \n",
              "41185                -1.10                94.77               -50.80   \n",
              "41186                -1.10                94.77               -50.80   \n",
              "\n",
              "                 euribor3m          nr.employed  y  \n",
              "41181                 1.03             4,963.60  1  \n",
              "41182                 1.03             4,963.60  0  \n",
              "41184                 1.03             4,963.60  0  \n",
              "41185                 1.03             4,963.60  0  \n",
              "41186                 1.03             4,963.60  1  \n",
              "\n",
              "[5 rows x 21 columns]"
            ]
          },
          "execution_count": 130,
          "metadata": {},
          "output_type": "execute_result"
        }
      ],
      "source": [
        "data.tail()"
      ]
    },
    {
      "cell_type": "raw",
      "id": "a03f6fbb",
      "metadata": {
        "id": "a03f6fbb"
      },
      "source": [
        "after replacing with mean/median and mode ,we can check for the null values again and check the result"
      ]
    },
    {
      "cell_type": "code",
      "execution_count": null,
      "id": "948da157",
      "metadata": {
        "id": "948da157",
        "outputId": "52318658-2e46-48a5-be2c-b011a547ee7f"
      },
      "outputs": [
        {
          "data": {
            "text/plain": [
              "age               0\n",
              "job               0\n",
              "marital           0\n",
              "education         0\n",
              "default           0\n",
              "housing           0\n",
              "loan              0\n",
              "contact           0\n",
              "month             0\n",
              "day_of_week       0\n",
              "duration          0\n",
              "campaign          0\n",
              "pdays             0\n",
              "previous          0\n",
              "poutcome          0\n",
              "emp.var.rate      0\n",
              "cons.price.idx    0\n",
              "cons.conf.idx     0\n",
              "euribor3m         0\n",
              "nr.employed       0\n",
              "y                 0\n",
              "dtype: int64"
            ]
          },
          "execution_count": 131,
          "metadata": {},
          "output_type": "execute_result"
        }
      ],
      "source": [
        "\n",
        "\n",
        "data.isna().sum()"
      ]
    },
    {
      "cell_type": "markdown",
      "id": "432b8be3",
      "metadata": {
        "id": "432b8be3"
      },
      "source": [
        "# Feature Selection\n",
        "\n",
        "Why feature selection methods on the data?\n",
        "\n",
        "\n",
        "because once you select a relevant features(independent attributes) ,then your model become more interpretable and model training speeds up and you'll end up with a efficient model."
      ]
    },
    {
      "cell_type": "raw",
      "id": "92621d43",
      "metadata": {
        "id": "92621d43"
      },
      "source": [
        "\n",
        "\n",
        "Bin values into discrete intervals.\n",
        "\n",
        "Use `cut` when you need to segment and sort data values into bins. This\n",
        "function is also useful for going from a continuous variable to a\n",
        "categorical variable.\n",
        "\n"
      ]
    },
    {
      "cell_type": "code",
      "execution_count": null,
      "id": "f2a52a49",
      "metadata": {
        "id": "f2a52a49"
      },
      "outputs": [],
      "source": [
        "\n",
        "bins = [0, 50, 100]\n",
        "data['age'] = pd.cut(data['age'], bins)\n",
        "\n",
        "data['age'] = data.age.astype(str)"
      ]
    },
    {
      "cell_type": "code",
      "execution_count": null,
      "id": "6393ccee",
      "metadata": {
        "id": "6393ccee",
        "outputId": "f35cca70-e12c-48e9-febf-03a4175a5877"
      },
      "outputs": [
        {
          "data": {
            "text/plain": [
              "(0, 50]                     0.84\n",
              "(50, 100]                   0.16\n",
              "Name: age, dtype: float64"
            ]
          },
          "execution_count": 133,
          "metadata": {},
          "output_type": "execute_result"
        }
      ],
      "source": [
        "data['age'].value_counts()/len(data['age'])"
      ]
    },
    {
      "cell_type": "code",
      "execution_count": null,
      "id": "75caec3c",
      "metadata": {
        "id": "75caec3c",
        "outputId": "730098d8-7844-4708-a948-2474fa437d64"
      },
      "outputs": [
        {
          "data": {
            "text/html": [
              "<div>\n",
              "<style scoped>\n",
              "    .dataframe tbody tr th:only-of-type {\n",
              "        vertical-align: middle;\n",
              "    }\n",
              "\n",
              "    .dataframe tbody tr th {\n",
              "        vertical-align: top;\n",
              "    }\n",
              "\n",
              "    .dataframe thead th {\n",
              "        text-align: right;\n",
              "    }\n",
              "</style>\n",
              "<table border=\"1\" class=\"dataframe\">\n",
              "  <thead>\n",
              "    <tr style=\"text-align: right;\">\n",
              "      <th></th>\n",
              "      <th>age</th>\n",
              "      <th>job</th>\n",
              "      <th>marital</th>\n",
              "      <th>education</th>\n",
              "      <th>default</th>\n",
              "      <th>housing</th>\n",
              "      <th>loan</th>\n",
              "      <th>contact</th>\n",
              "      <th>month</th>\n",
              "      <th>day_of_week</th>\n",
              "      <th>...</th>\n",
              "      <th>campaign</th>\n",
              "      <th>pdays</th>\n",
              "      <th>previous</th>\n",
              "      <th>poutcome</th>\n",
              "      <th>emp.var.rate</th>\n",
              "      <th>cons.price.idx</th>\n",
              "      <th>cons.conf.idx</th>\n",
              "      <th>euribor3m</th>\n",
              "      <th>nr.employed</th>\n",
              "      <th>y</th>\n",
              "    </tr>\n",
              "  </thead>\n",
              "  <tbody>\n",
              "    <tr>\n",
              "      <th>0</th>\n",
              "      <td>(50, 100]</td>\n",
              "      <td>housemaid</td>\n",
              "      <td>married</td>\n",
              "      <td>basic.4y</td>\n",
              "      <td>no</td>\n",
              "      <td>no</td>\n",
              "      <td>no</td>\n",
              "      <td>telephone</td>\n",
              "      <td>may</td>\n",
              "      <td>mon</td>\n",
              "      <td>...</td>\n",
              "      <td>1.00</td>\n",
              "      <td>999.00</td>\n",
              "      <td>0.00</td>\n",
              "      <td>nonexistent</td>\n",
              "      <td>1.10</td>\n",
              "      <td>93.99</td>\n",
              "      <td>-36.40</td>\n",
              "      <td>4.86</td>\n",
              "      <td>5,191.00</td>\n",
              "      <td>0</td>\n",
              "    </tr>\n",
              "    <tr>\n",
              "      <th>1</th>\n",
              "      <td>(50, 100]</td>\n",
              "      <td>services</td>\n",
              "      <td>married</td>\n",
              "      <td>high.school</td>\n",
              "      <td>unknown</td>\n",
              "      <td>no</td>\n",
              "      <td>no</td>\n",
              "      <td>telephone</td>\n",
              "      <td>may</td>\n",
              "      <td>mon</td>\n",
              "      <td>...</td>\n",
              "      <td>1.00</td>\n",
              "      <td>999.00</td>\n",
              "      <td>0.00</td>\n",
              "      <td>nonexistent</td>\n",
              "      <td>1.10</td>\n",
              "      <td>93.99</td>\n",
              "      <td>-36.40</td>\n",
              "      <td>4.86</td>\n",
              "      <td>5,191.00</td>\n",
              "      <td>0</td>\n",
              "    </tr>\n",
              "    <tr>\n",
              "      <th>2</th>\n",
              "      <td>(0, 50]</td>\n",
              "      <td>services</td>\n",
              "      <td>married</td>\n",
              "      <td>high.school</td>\n",
              "      <td>no</td>\n",
              "      <td>yes</td>\n",
              "      <td>no</td>\n",
              "      <td>telephone</td>\n",
              "      <td>may</td>\n",
              "      <td>mon</td>\n",
              "      <td>...</td>\n",
              "      <td>1.00</td>\n",
              "      <td>999.00</td>\n",
              "      <td>0.00</td>\n",
              "      <td>nonexistent</td>\n",
              "      <td>1.10</td>\n",
              "      <td>93.99</td>\n",
              "      <td>-36.40</td>\n",
              "      <td>4.86</td>\n",
              "      <td>5,191.00</td>\n",
              "      <td>0</td>\n",
              "    </tr>\n",
              "    <tr>\n",
              "      <th>3</th>\n",
              "      <td>(0, 50]</td>\n",
              "      <td>admin.</td>\n",
              "      <td>married</td>\n",
              "      <td>basic.6y</td>\n",
              "      <td>no</td>\n",
              "      <td>no</td>\n",
              "      <td>no</td>\n",
              "      <td>telephone</td>\n",
              "      <td>may</td>\n",
              "      <td>mon</td>\n",
              "      <td>...</td>\n",
              "      <td>1.00</td>\n",
              "      <td>999.00</td>\n",
              "      <td>0.00</td>\n",
              "      <td>nonexistent</td>\n",
              "      <td>1.10</td>\n",
              "      <td>93.99</td>\n",
              "      <td>-36.40</td>\n",
              "      <td>4.86</td>\n",
              "      <td>5,191.00</td>\n",
              "      <td>0</td>\n",
              "    </tr>\n",
              "    <tr>\n",
              "      <th>4</th>\n",
              "      <td>(50, 100]</td>\n",
              "      <td>services</td>\n",
              "      <td>married</td>\n",
              "      <td>high.school</td>\n",
              "      <td>no</td>\n",
              "      <td>no</td>\n",
              "      <td>yes</td>\n",
              "      <td>telephone</td>\n",
              "      <td>may</td>\n",
              "      <td>mon</td>\n",
              "      <td>...</td>\n",
              "      <td>1.00</td>\n",
              "      <td>999.00</td>\n",
              "      <td>0.00</td>\n",
              "      <td>nonexistent</td>\n",
              "      <td>1.10</td>\n",
              "      <td>93.99</td>\n",
              "      <td>-36.40</td>\n",
              "      <td>4.86</td>\n",
              "      <td>5,191.00</td>\n",
              "      <td>0</td>\n",
              "    </tr>\n",
              "    <tr>\n",
              "      <th>...</th>\n",
              "      <td>...</td>\n",
              "      <td>...</td>\n",
              "      <td>...</td>\n",
              "      <td>...</td>\n",
              "      <td>...</td>\n",
              "      <td>...</td>\n",
              "      <td>...</td>\n",
              "      <td>...</td>\n",
              "      <td>...</td>\n",
              "      <td>...</td>\n",
              "      <td>...</td>\n",
              "      <td>...</td>\n",
              "      <td>...</td>\n",
              "      <td>...</td>\n",
              "      <td>...</td>\n",
              "      <td>...</td>\n",
              "      <td>...</td>\n",
              "      <td>...</td>\n",
              "      <td>...</td>\n",
              "      <td>...</td>\n",
              "      <td>...</td>\n",
              "    </tr>\n",
              "    <tr>\n",
              "      <th>41181</th>\n",
              "      <td>(0, 50]</td>\n",
              "      <td>admin.</td>\n",
              "      <td>married</td>\n",
              "      <td>university.degree</td>\n",
              "      <td>no</td>\n",
              "      <td>yes</td>\n",
              "      <td>no</td>\n",
              "      <td>cellular</td>\n",
              "      <td>nov</td>\n",
              "      <td>fri</td>\n",
              "      <td>...</td>\n",
              "      <td>1.00</td>\n",
              "      <td>999.00</td>\n",
              "      <td>0.00</td>\n",
              "      <td>nonexistent</td>\n",
              "      <td>-1.10</td>\n",
              "      <td>94.77</td>\n",
              "      <td>-50.80</td>\n",
              "      <td>1.03</td>\n",
              "      <td>4,963.60</td>\n",
              "      <td>1</td>\n",
              "    </tr>\n",
              "    <tr>\n",
              "      <th>41182</th>\n",
              "      <td>(0, 50]</td>\n",
              "      <td>unemployed</td>\n",
              "      <td>single</td>\n",
              "      <td>basic.4y</td>\n",
              "      <td>no</td>\n",
              "      <td>yes</td>\n",
              "      <td>no</td>\n",
              "      <td>cellular</td>\n",
              "      <td>nov</td>\n",
              "      <td>fri</td>\n",
              "      <td>...</td>\n",
              "      <td>1.00</td>\n",
              "      <td>9.00</td>\n",
              "      <td>1.00</td>\n",
              "      <td>success</td>\n",
              "      <td>-1.10</td>\n",
              "      <td>94.77</td>\n",
              "      <td>-50.80</td>\n",
              "      <td>1.03</td>\n",
              "      <td>4,963.60</td>\n",
              "      <td>0</td>\n",
              "    </tr>\n",
              "    <tr>\n",
              "      <th>41184</th>\n",
              "      <td>(0, 50]</td>\n",
              "      <td>blue-collar</td>\n",
              "      <td>married</td>\n",
              "      <td>professional.course</td>\n",
              "      <td>no</td>\n",
              "      <td>no</td>\n",
              "      <td>no</td>\n",
              "      <td>cellular</td>\n",
              "      <td>nov</td>\n",
              "      <td>fri</td>\n",
              "      <td>...</td>\n",
              "      <td>1.00</td>\n",
              "      <td>999.00</td>\n",
              "      <td>0.00</td>\n",
              "      <td>nonexistent</td>\n",
              "      <td>-1.10</td>\n",
              "      <td>94.77</td>\n",
              "      <td>-50.80</td>\n",
              "      <td>1.03</td>\n",
              "      <td>4,963.60</td>\n",
              "      <td>0</td>\n",
              "    </tr>\n",
              "    <tr>\n",
              "      <th>41185</th>\n",
              "      <td>(50, 100]</td>\n",
              "      <td>retired</td>\n",
              "      <td>married</td>\n",
              "      <td>university.degree</td>\n",
              "      <td>no</td>\n",
              "      <td>yes</td>\n",
              "      <td>no</td>\n",
              "      <td>cellular</td>\n",
              "      <td>nov</td>\n",
              "      <td>fri</td>\n",
              "      <td>...</td>\n",
              "      <td>2.00</td>\n",
              "      <td>999.00</td>\n",
              "      <td>0.00</td>\n",
              "      <td>nonexistent</td>\n",
              "      <td>-1.10</td>\n",
              "      <td>94.77</td>\n",
              "      <td>-50.80</td>\n",
              "      <td>1.03</td>\n",
              "      <td>4,963.60</td>\n",
              "      <td>0</td>\n",
              "    </tr>\n",
              "    <tr>\n",
              "      <th>41186</th>\n",
              "      <td>(0, 50]</td>\n",
              "      <td>technician</td>\n",
              "      <td>married</td>\n",
              "      <td>professional.course</td>\n",
              "      <td>no</td>\n",
              "      <td>no</td>\n",
              "      <td>no</td>\n",
              "      <td>cellular</td>\n",
              "      <td>nov</td>\n",
              "      <td>fri</td>\n",
              "      <td>...</td>\n",
              "      <td>1.00</td>\n",
              "      <td>999.00</td>\n",
              "      <td>0.00</td>\n",
              "      <td>nonexistent</td>\n",
              "      <td>-1.10</td>\n",
              "      <td>94.77</td>\n",
              "      <td>-50.80</td>\n",
              "      <td>1.03</td>\n",
              "      <td>4,963.60</td>\n",
              "      <td>1</td>\n",
              "    </tr>\n",
              "  </tbody>\n",
              "</table>\n",
              "<p>35176 rows × 21 columns</p>\n",
              "</div>"
            ],
            "text/plain": [
              "             age          job  marital            education  default housing  \\\n",
              "0      (50, 100]    housemaid  married             basic.4y       no      no   \n",
              "1      (50, 100]     services  married          high.school  unknown      no   \n",
              "2        (0, 50]     services  married          high.school       no     yes   \n",
              "3        (0, 50]       admin.  married             basic.6y       no      no   \n",
              "4      (50, 100]     services  married          high.school       no      no   \n",
              "...          ...          ...      ...                  ...      ...     ...   \n",
              "41181    (0, 50]       admin.  married    university.degree       no     yes   \n",
              "41182    (0, 50]   unemployed   single             basic.4y       no     yes   \n",
              "41184    (0, 50]  blue-collar  married  professional.course       no      no   \n",
              "41185  (50, 100]      retired  married    university.degree       no     yes   \n",
              "41186    (0, 50]   technician  married  professional.course       no      no   \n",
              "\n",
              "      loan    contact month day_of_week  ...             campaign  \\\n",
              "0       no  telephone   may         mon  ...                 1.00   \n",
              "1       no  telephone   may         mon  ...                 1.00   \n",
              "2       no  telephone   may         mon  ...                 1.00   \n",
              "3       no  telephone   may         mon  ...                 1.00   \n",
              "4      yes  telephone   may         mon  ...                 1.00   \n",
              "...    ...        ...   ...         ...  ...                  ...   \n",
              "41181   no   cellular   nov         fri  ...                 1.00   \n",
              "41182   no   cellular   nov         fri  ...                 1.00   \n",
              "41184   no   cellular   nov         fri  ...                 1.00   \n",
              "41185   no   cellular   nov         fri  ...                 2.00   \n",
              "41186   no   cellular   nov         fri  ...                 1.00   \n",
              "\n",
              "                     pdays             previous     poutcome  \\\n",
              "0                   999.00                 0.00  nonexistent   \n",
              "1                   999.00                 0.00  nonexistent   \n",
              "2                   999.00                 0.00  nonexistent   \n",
              "3                   999.00                 0.00  nonexistent   \n",
              "4                   999.00                 0.00  nonexistent   \n",
              "...                    ...                  ...          ...   \n",
              "41181               999.00                 0.00  nonexistent   \n",
              "41182                 9.00                 1.00      success   \n",
              "41184               999.00                 0.00  nonexistent   \n",
              "41185               999.00                 0.00  nonexistent   \n",
              "41186               999.00                 0.00  nonexistent   \n",
              "\n",
              "              emp.var.rate       cons.price.idx        cons.conf.idx  \\\n",
              "0                     1.10                93.99               -36.40   \n",
              "1                     1.10                93.99               -36.40   \n",
              "2                     1.10                93.99               -36.40   \n",
              "3                     1.10                93.99               -36.40   \n",
              "4                     1.10                93.99               -36.40   \n",
              "...                    ...                  ...                  ...   \n",
              "41181                -1.10                94.77               -50.80   \n",
              "41182                -1.10                94.77               -50.80   \n",
              "41184                -1.10                94.77               -50.80   \n",
              "41185                -1.10                94.77               -50.80   \n",
              "41186                -1.10                94.77               -50.80   \n",
              "\n",
              "                 euribor3m          nr.employed  y  \n",
              "0                     4.86             5,191.00  0  \n",
              "1                     4.86             5,191.00  0  \n",
              "2                     4.86             5,191.00  0  \n",
              "3                     4.86             5,191.00  0  \n",
              "4                     4.86             5,191.00  0  \n",
              "...                    ...                  ... ..  \n",
              "41181                 1.03             4,963.60  1  \n",
              "41182                 1.03             4,963.60  0  \n",
              "41184                 1.03             4,963.60  0  \n",
              "41185                 1.03             4,963.60  0  \n",
              "41186                 1.03             4,963.60  1  \n",
              "\n",
              "[35176 rows x 21 columns]"
            ]
          },
          "execution_count": 134,
          "metadata": {},
          "output_type": "execute_result"
        }
      ],
      "source": [
        "data"
      ]
    },
    {
      "cell_type": "code",
      "execution_count": null,
      "id": "54610977",
      "metadata": {
        "id": "54610977",
        "outputId": "31a0fb08-9305-44bc-d4bd-e030d7e3c43e"
      },
      "outputs": [
        {
          "data": {
            "text/plain": [
              "Index(['age', 'job', 'marital', 'education', 'default', 'housing', 'loan',\n",
              "       'contact', 'month', 'day_of_week', 'duration', 'campaign', 'pdays',\n",
              "       'previous', 'poutcome', 'emp.var.rate', 'cons.price.idx',\n",
              "       'cons.conf.idx', 'euribor3m', 'nr.employed', 'y'],\n",
              "      dtype='object')"
            ]
          },
          "execution_count": 135,
          "metadata": {},
          "output_type": "execute_result"
        }
      ],
      "source": [
        "data.columns"
      ]
    },
    {
      "cell_type": "code",
      "execution_count": null,
      "id": "61b0e862",
      "metadata": {
        "id": "61b0e862",
        "outputId": "f88aab91-6157-497a-e9bc-5831b6b21805"
      },
      "outputs": [
        {
          "data": {
            "text/plain": [
              "(0, 50]      29410\n",
              "(50, 100]     5766\n",
              "Name: age, dtype: int64"
            ]
          },
          "execution_count": 136,
          "metadata": {},
          "output_type": "execute_result"
        }
      ],
      "source": [
        "data.age.value_counts()"
      ]
    },
    {
      "cell_type": "markdown",
      "id": "4f27c19e",
      "metadata": {
        "id": "4f27c19e"
      },
      "source": [
        "# 1.Chi-Square test"
      ]
    },
    {
      "cell_type": "raw",
      "id": "723ddda7",
      "metadata": {
        "id": "723ddda7"
      },
      "source": [
        "Chi-Square test is normally done on Categorical data(object) ,where we will select each independent attribute and calculating chi-Square statistics value with the help of  observed value and expected value.\n",
        "\n",
        "if observed and expected values are close then we'll have high chi-square statistics.(high chi-square stats implies attributes are highly independent)\n",
        "if observed and expected values are far then we'll have less chi-square statistics.(less chi-square stats implies attributes are  not independent)\n",
        "\n",
        "With the above concept we'll set null and alternative hypothesis and check for its acceptance or rejection through p-value and alpha value (significance value)\n",
        "\n",
        "if p -value > alpha value ,we reject null hypothesis\n",
        "if p-value  < alpha value ,we accept null hypothesis"
      ]
    },
    {
      "cell_type": "code",
      "execution_count": null,
      "id": "555f9758",
      "metadata": {
        "id": "555f9758"
      },
      "outputs": [],
      "source": []
    },
    {
      "cell_type": "code",
      "execution_count": null,
      "id": "8e0d649f",
      "metadata": {
        "id": "8e0d649f",
        "outputId": "41d87fac-73ff-4582-8254-c417e01d0a99"
      },
      "outputs": [
        {
          "name": "stdout",
          "output_type": "stream",
          "text": [
            "y              0     1\n",
            "age                   \n",
            "(0, 50]    27248  2162\n",
            "(50, 100]   5197   569\n"
          ]
        }
      ],
      "source": [
        "from scipy.stats import chisquare\n",
        "import scipy.stats\n",
        "from scipy.stats import chi2\n",
        "#from scipy import stats\n",
        "from scipy.stats import chi2_contingency\n",
        "\n",
        "###Chisq Test for Independence\n",
        "dataset_table=pd.crosstab(data['age'],data['y'])\n",
        "print(dataset_table)"
      ]
    },
    {
      "cell_type": "code",
      "execution_count": null,
      "id": "be7c613a",
      "metadata": {
        "id": "be7c613a",
        "outputId": "79b854f0-b5c5-4691-fa1d-a1e191544f4c"
      },
      "outputs": [
        {
          "name": "stdout",
          "output_type": "stream",
          "text": [
            "Observed Values :-\n",
            " [[27248  2162]\n",
            " [ 5197   569]]\n"
          ]
        }
      ],
      "source": [
        "#Observed Values\n",
        "Observed_Values = dataset_table.values\n",
        "print(\"Observed Values :-\\n\",Observed_Values)"
      ]
    },
    {
      "cell_type": "code",
      "execution_count": null,
      "id": "740141d5",
      "metadata": {
        "id": "740141d5",
        "scrolled": true,
        "outputId": "3738fc3d-5034-4870-8f6a-9f14332c038b"
      },
      "outputs": [
        {
          "data": {
            "text/plain": [
              "(42.29702584601093,\n",
              " 7.841171316615297e-11,\n",
              " 1,\n",
              " array([[27126.6616443,  2283.3383557],\n",
              "        [ 5318.3383557,   447.6616443]]))"
            ]
          },
          "execution_count": 139,
          "metadata": {},
          "output_type": "execute_result"
        }
      ],
      "source": [
        "val=chi2_contingency(dataset_table)\n",
        "val"
      ]
    },
    {
      "cell_type": "code",
      "execution_count": null,
      "id": "19b5e635",
      "metadata": {
        "id": "19b5e635",
        "outputId": "f01672fe-ef8e-4ca3-cd05-ba05460cf6ab"
      },
      "outputs": [
        {
          "data": {
            "text/plain": [
              "array([[27126.6616443,  2283.3383557],\n",
              "       [ 5318.3383557,   447.6616443]])"
            ]
          },
          "execution_count": 140,
          "metadata": {},
          "output_type": "execute_result"
        }
      ],
      "source": [
        "val[3]"
      ]
    },
    {
      "cell_type": "code",
      "execution_count": null,
      "id": "e4f4e074",
      "metadata": {
        "id": "e4f4e074",
        "outputId": "678fb5a1-c0ee-4cbd-f2b5-3d9f68cc784d"
      },
      "outputs": [
        {
          "data": {
            "text/plain": [
              "array([[27126.6616443,  2283.3383557],\n",
              "       [ 5318.3383557,   447.6616443]])"
            ]
          },
          "execution_count": 141,
          "metadata": {},
          "output_type": "execute_result"
        }
      ],
      "source": [
        "Expected_Values=val[3]\n",
        "Expected_Values"
      ]
    },
    {
      "cell_type": "code",
      "execution_count": null,
      "id": "8205a21b",
      "metadata": {
        "id": "8205a21b"
      },
      "outputs": [],
      "source": [
        "a=zip(Observed_Values,Expected_Values)"
      ]
    },
    {
      "cell_type": "code",
      "execution_count": null,
      "id": "e0c5044d",
      "metadata": {
        "id": "e0c5044d",
        "outputId": "b78198a3-f414-4b60-dec8-09bba137f117"
      },
      "outputs": [
        {
          "data": {
            "text/plain": [
              "<zip at 0x1d3020653c0>"
            ]
          },
          "execution_count": 143,
          "metadata": {},
          "output_type": "execute_result"
        }
      ],
      "source": [
        "a"
      ]
    },
    {
      "cell_type": "code",
      "execution_count": null,
      "id": "a35dab6e",
      "metadata": {
        "id": "a35dab6e",
        "outputId": "ad974516-9b25-42d3-fed2-24e8f348cf3f"
      },
      "outputs": [
        {
          "data": {
            "text/plain": [
              "42.64777981855778"
            ]
          },
          "execution_count": 144,
          "metadata": {},
          "output_type": "execute_result"
        }
      ],
      "source": [
        "chi_square=sum([(o-e)**2./e for o,e in zip(Observed_Values,Expected_Values)])\n",
        "chi_square_statistic=chi_square[0]+chi_square[1]\n",
        "chi_square_statistic"
      ]
    },
    {
      "cell_type": "code",
      "execution_count": null,
      "id": "a8c06cb7",
      "metadata": {
        "id": "a8c06cb7",
        "outputId": "db4d0306-706d-4353-d274-1b7b5c72174d"
      },
      "outputs": [
        {
          "name": "stdout",
          "output_type": "stream",
          "text": [
            "Degree of Freedom:- 1\n"
          ]
        }
      ],
      "source": [
        "no_of_rows=len(dataset_table.iloc[0:2,0])\n",
        "no_of_columns=len(dataset_table.iloc[0,0:2])\n",
        "ddof=(no_of_rows-1)*(no_of_columns-1)\n",
        "print(\"Degree of Freedom:-\",ddof)"
      ]
    },
    {
      "cell_type": "code",
      "execution_count": null,
      "id": "a41891a3",
      "metadata": {
        "id": "a41891a3",
        "outputId": "ed672570-28ef-402d-ad33-041cb66ea98a"
      },
      "outputs": [
        {
          "name": "stdout",
          "output_type": "stream",
          "text": [
            "chi-square statistic:- 42.64777981855778\n"
          ]
        }
      ],
      "source": [
        "alpha = 0.05\n",
        "print(\"chi-square statistic:-\",chi_square_statistic)\n"
      ]
    },
    {
      "cell_type": "code",
      "execution_count": null,
      "id": "3c1b2f38",
      "metadata": {
        "id": "3c1b2f38",
        "outputId": "339c6cf6-5c4e-46aa-f96d-a68431f78ffc"
      },
      "outputs": [
        {
          "name": "stdout",
          "output_type": "stream",
          "text": [
            "critical_value: 3.841458820694124\n"
          ]
        }
      ],
      "source": [
        "critical_value=scipy.stats.chi2.ppf(q=1-alpha,df=ddof)\n",
        "print('critical_value:',critical_value)"
      ]
    },
    {
      "cell_type": "code",
      "execution_count": null,
      "id": "787a9259",
      "metadata": {
        "id": "787a9259",
        "outputId": "bebe44e8-e2ad-40d1-83d0-83f986cd320f"
      },
      "outputs": [
        {
          "name": "stdout",
          "output_type": "stream",
          "text": [
            "p-value: 6.55387966119747e-11\n",
            "Significance level:  0.05\n",
            "Degree of Freedom:  1\n",
            "p-value: 6.55387966119747e-11\n"
          ]
        }
      ],
      "source": [
        "#p-value\n",
        "p_value=1-chi2.cdf(x=chi_square_statistic,df=ddof)\n",
        "print('p-value:',p_value)\n",
        "print('Significance level: ',alpha)\n",
        "print('Degree of Freedom: ',ddof)\n",
        "print('p-value:',p_value)"
      ]
    },
    {
      "cell_type": "code",
      "execution_count": null,
      "id": "1ff8f011",
      "metadata": {
        "id": "1ff8f011",
        "outputId": "54555bef-062d-4851-88b5-00602e5e6e38"
      },
      "outputs": [
        {
          "data": {
            "text/html": [
              "<div>\n",
              "<style scoped>\n",
              "    .dataframe tbody tr th:only-of-type {\n",
              "        vertical-align: middle;\n",
              "    }\n",
              "\n",
              "    .dataframe tbody tr th {\n",
              "        vertical-align: top;\n",
              "    }\n",
              "\n",
              "    .dataframe thead th {\n",
              "        text-align: right;\n",
              "    }\n",
              "</style>\n",
              "<table border=\"1\" class=\"dataframe\">\n",
              "  <thead>\n",
              "    <tr style=\"text-align: right;\">\n",
              "      <th></th>\n",
              "      <th>Age</th>\n",
              "    </tr>\n",
              "  </thead>\n",
              "  <tbody>\n",
              "    <tr>\n",
              "      <th>0</th>\n",
              "      <td>0.00</td>\n",
              "    </tr>\n",
              "  </tbody>\n",
              "</table>\n",
              "</div>"
            ],
            "text/plain": [
              "                   Age\n",
              "0                 0.00"
            ]
          },
          "execution_count": 149,
          "metadata": {},
          "output_type": "execute_result"
        }
      ],
      "source": [
        "di={'Age':p_value}\n",
        "df=pd.DataFrame()\n",
        "df.append(di,ignore_index=True)"
      ]
    },
    {
      "cell_type": "code",
      "execution_count": null,
      "id": "6ce5039d",
      "metadata": {
        "id": "6ce5039d"
      },
      "outputs": [],
      "source": [
        "pd.options.display.float_format = '{:20,.2f}'.format"
      ]
    },
    {
      "cell_type": "code",
      "execution_count": null,
      "id": "d130b22a",
      "metadata": {
        "id": "d130b22a",
        "outputId": "2535d26a-ec6a-4024-8573-745d2b219109"
      },
      "outputs": [
        {
          "data": {
            "text/html": [
              "<div>\n",
              "<style scoped>\n",
              "    .dataframe tbody tr th:only-of-type {\n",
              "        vertical-align: middle;\n",
              "    }\n",
              "\n",
              "    .dataframe tbody tr th {\n",
              "        vertical-align: top;\n",
              "    }\n",
              "\n",
              "    .dataframe thead th {\n",
              "        text-align: right;\n",
              "    }\n",
              "</style>\n",
              "<table border=\"1\" class=\"dataframe\">\n",
              "  <thead>\n",
              "    <tr style=\"text-align: right;\">\n",
              "      <th></th>\n",
              "      <th>Feature</th>\n",
              "      <th>P-value</th>\n",
              "    </tr>\n",
              "  </thead>\n",
              "  <tbody>\n",
              "    <tr>\n",
              "      <th>0</th>\n",
              "      <td>age</td>\n",
              "      <td>0.00</td>\n",
              "    </tr>\n",
              "    <tr>\n",
              "      <th>1</th>\n",
              "      <td>job</td>\n",
              "      <td>0.00</td>\n",
              "    </tr>\n",
              "    <tr>\n",
              "      <th>2</th>\n",
              "      <td>marital</td>\n",
              "      <td>0.00</td>\n",
              "    </tr>\n",
              "    <tr>\n",
              "      <th>3</th>\n",
              "      <td>education</td>\n",
              "      <td>0.00</td>\n",
              "    </tr>\n",
              "    <tr>\n",
              "      <th>4</th>\n",
              "      <td>default</td>\n",
              "      <td>0.00</td>\n",
              "    </tr>\n",
              "    <tr>\n",
              "      <th>5</th>\n",
              "      <td>housing</td>\n",
              "      <td>0.02</td>\n",
              "    </tr>\n",
              "    <tr>\n",
              "      <th>6</th>\n",
              "      <td>loan</td>\n",
              "      <td>0.34</td>\n",
              "    </tr>\n",
              "    <tr>\n",
              "      <th>7</th>\n",
              "      <td>contact</td>\n",
              "      <td>0.00</td>\n",
              "    </tr>\n",
              "    <tr>\n",
              "      <th>8</th>\n",
              "      <td>month</td>\n",
              "      <td>0.00</td>\n",
              "    </tr>\n",
              "    <tr>\n",
              "      <th>9</th>\n",
              "      <td>day_of_week</td>\n",
              "      <td>0.00</td>\n",
              "    </tr>\n",
              "    <tr>\n",
              "      <th>10</th>\n",
              "      <td>poutcome</td>\n",
              "      <td>0.00</td>\n",
              "    </tr>\n",
              "  </tbody>\n",
              "</table>\n",
              "</div>"
            ],
            "text/plain": [
              "        Feature              P-value\n",
              "0           age                 0.00\n",
              "1           job                 0.00\n",
              "2       marital                 0.00\n",
              "3     education                 0.00\n",
              "4       default                 0.00\n",
              "5       housing                 0.02\n",
              "6          loan                 0.34\n",
              "7       contact                 0.00\n",
              "8         month                 0.00\n",
              "9   day_of_week                 0.00\n",
              "10     poutcome                 0.00"
            ]
          },
          "execution_count": 151,
          "metadata": {},
          "output_type": "execute_result"
        }
      ],
      "source": [
        "###Chisq Test for Independence for all object fields\n",
        "col_list = list(data.columns)\n",
        "col_list.remove('y')\n",
        "df=pd.DataFrame(columns=['Feature','P-value'])\n",
        "\n",
        "for col in col_list:\n",
        "    if data[[col]][col].dtype == 'object':\n",
        "        dataset_table=pd.crosstab(data[col],data['y'])\n",
        "        Observed_Values = dataset_table.values\n",
        "        val=chi2_contingency(dataset_table)\n",
        "        Expected_Values=val[3]\n",
        "        chi_square=sum([(o-e)**2./e for o,e in zip(Observed_Values,Expected_Values)])\n",
        "        chi_square_statistic=chi_square[0]+chi_square[1]\n",
        "        no_of_rows=Observed_Values.shape[0]\n",
        "        no_of_columns=Observed_Values.shape[1]\n",
        "        ddof=(no_of_rows-1)*(no_of_columns-1)\n",
        "        alpha = 0.05\n",
        "        critical_value=scipy.stats.chi2.ppf(q=1-alpha,df=ddof)\n",
        "        p_value=1-chi2.cdf(x=chi_square_statistic,df=ddof)\n",
        "        df=df.append({'Feature':col, 'P-value': p_value}, ignore_index=True)\n",
        "\n",
        "df"
      ]
    },
    {
      "cell_type": "raw",
      "id": "6e85e062",
      "metadata": {
        "id": "6e85e062"
      },
      "source": [
        "#so from above output we can see ,loan and housing attribute have p-value greater than alpha value so we'll be removing the attributes"
      ]
    },
    {
      "cell_type": "code",
      "execution_count": null,
      "id": "0be74c22",
      "metadata": {
        "id": "0be74c22"
      },
      "outputs": [],
      "source": [
        "df=pd.DataFrame(columns=['Feature','P-value'])"
      ]
    },
    {
      "cell_type": "code",
      "execution_count": null,
      "id": "ac62f667",
      "metadata": {
        "id": "ac62f667"
      },
      "outputs": [],
      "source": [
        "df=df.append({'Feature':col, 'P-value': p_value}, ignore_index=True)"
      ]
    },
    {
      "cell_type": "code",
      "execution_count": null,
      "id": "25ac284a",
      "metadata": {
        "id": "25ac284a",
        "outputId": "a87c5e93-e613-4180-e81a-3dfeef6b5ff3"
      },
      "outputs": [
        {
          "name": "stdout",
          "output_type": "stream",
          "text": [
            "       Feature              P-value\n",
            "0  nr.employed                 0.00\n"
          ]
        }
      ],
      "source": [
        "print(df)"
      ]
    },
    {
      "cell_type": "code",
      "execution_count": null,
      "id": "a233087a",
      "metadata": {
        "id": "a233087a"
      },
      "outputs": [],
      "source": [
        "data.drop(columns = ['loan','housing'],inplace = True)"
      ]
    },
    {
      "cell_type": "code",
      "execution_count": null,
      "id": "edbb0795",
      "metadata": {
        "id": "edbb0795",
        "outputId": "203fd30c-ab68-477d-9f04-f1e7a07eda7a"
      },
      "outputs": [
        {
          "data": {
            "text/html": [
              "<div>\n",
              "<style scoped>\n",
              "    .dataframe tbody tr th:only-of-type {\n",
              "        vertical-align: middle;\n",
              "    }\n",
              "\n",
              "    .dataframe tbody tr th {\n",
              "        vertical-align: top;\n",
              "    }\n",
              "\n",
              "    .dataframe thead th {\n",
              "        text-align: right;\n",
              "    }\n",
              "</style>\n",
              "<table border=\"1\" class=\"dataframe\">\n",
              "  <thead>\n",
              "    <tr style=\"text-align: right;\">\n",
              "      <th></th>\n",
              "      <th>age</th>\n",
              "      <th>job</th>\n",
              "      <th>marital</th>\n",
              "      <th>education</th>\n",
              "      <th>default</th>\n",
              "      <th>contact</th>\n",
              "      <th>month</th>\n",
              "      <th>day_of_week</th>\n",
              "      <th>duration</th>\n",
              "      <th>campaign</th>\n",
              "      <th>pdays</th>\n",
              "      <th>previous</th>\n",
              "      <th>poutcome</th>\n",
              "      <th>emp.var.rate</th>\n",
              "      <th>cons.price.idx</th>\n",
              "      <th>cons.conf.idx</th>\n",
              "      <th>euribor3m</th>\n",
              "      <th>nr.employed</th>\n",
              "      <th>y</th>\n",
              "    </tr>\n",
              "  </thead>\n",
              "  <tbody>\n",
              "    <tr>\n",
              "      <th>0</th>\n",
              "      <td>(50, 100]</td>\n",
              "      <td>housemaid</td>\n",
              "      <td>married</td>\n",
              "      <td>basic.4y</td>\n",
              "      <td>no</td>\n",
              "      <td>telephone</td>\n",
              "      <td>may</td>\n",
              "      <td>mon</td>\n",
              "      <td>261.00</td>\n",
              "      <td>1.00</td>\n",
              "      <td>999.00</td>\n",
              "      <td>0.00</td>\n",
              "      <td>nonexistent</td>\n",
              "      <td>1.10</td>\n",
              "      <td>93.99</td>\n",
              "      <td>-36.40</td>\n",
              "      <td>4.86</td>\n",
              "      <td>5,191.00</td>\n",
              "      <td>0</td>\n",
              "    </tr>\n",
              "    <tr>\n",
              "      <th>1</th>\n",
              "      <td>(50, 100]</td>\n",
              "      <td>services</td>\n",
              "      <td>married</td>\n",
              "      <td>high.school</td>\n",
              "      <td>unknown</td>\n",
              "      <td>telephone</td>\n",
              "      <td>may</td>\n",
              "      <td>mon</td>\n",
              "      <td>149.00</td>\n",
              "      <td>1.00</td>\n",
              "      <td>999.00</td>\n",
              "      <td>0.00</td>\n",
              "      <td>nonexistent</td>\n",
              "      <td>1.10</td>\n",
              "      <td>93.99</td>\n",
              "      <td>-36.40</td>\n",
              "      <td>4.86</td>\n",
              "      <td>5,191.00</td>\n",
              "      <td>0</td>\n",
              "    </tr>\n",
              "    <tr>\n",
              "      <th>2</th>\n",
              "      <td>(0, 50]</td>\n",
              "      <td>services</td>\n",
              "      <td>married</td>\n",
              "      <td>high.school</td>\n",
              "      <td>no</td>\n",
              "      <td>telephone</td>\n",
              "      <td>may</td>\n",
              "      <td>mon</td>\n",
              "      <td>226.00</td>\n",
              "      <td>1.00</td>\n",
              "      <td>999.00</td>\n",
              "      <td>0.00</td>\n",
              "      <td>nonexistent</td>\n",
              "      <td>1.10</td>\n",
              "      <td>93.99</td>\n",
              "      <td>-36.40</td>\n",
              "      <td>4.86</td>\n",
              "      <td>5,191.00</td>\n",
              "      <td>0</td>\n",
              "    </tr>\n",
              "    <tr>\n",
              "      <th>3</th>\n",
              "      <td>(0, 50]</td>\n",
              "      <td>admin.</td>\n",
              "      <td>married</td>\n",
              "      <td>basic.6y</td>\n",
              "      <td>no</td>\n",
              "      <td>telephone</td>\n",
              "      <td>may</td>\n",
              "      <td>mon</td>\n",
              "      <td>151.00</td>\n",
              "      <td>1.00</td>\n",
              "      <td>999.00</td>\n",
              "      <td>0.00</td>\n",
              "      <td>nonexistent</td>\n",
              "      <td>1.10</td>\n",
              "      <td>93.99</td>\n",
              "      <td>-36.40</td>\n",
              "      <td>4.86</td>\n",
              "      <td>5,191.00</td>\n",
              "      <td>0</td>\n",
              "    </tr>\n",
              "    <tr>\n",
              "      <th>4</th>\n",
              "      <td>(50, 100]</td>\n",
              "      <td>services</td>\n",
              "      <td>married</td>\n",
              "      <td>high.school</td>\n",
              "      <td>no</td>\n",
              "      <td>telephone</td>\n",
              "      <td>may</td>\n",
              "      <td>mon</td>\n",
              "      <td>307.00</td>\n",
              "      <td>1.00</td>\n",
              "      <td>999.00</td>\n",
              "      <td>0.00</td>\n",
              "      <td>nonexistent</td>\n",
              "      <td>1.10</td>\n",
              "      <td>93.99</td>\n",
              "      <td>-36.40</td>\n",
              "      <td>4.86</td>\n",
              "      <td>5,191.00</td>\n",
              "      <td>0</td>\n",
              "    </tr>\n",
              "  </tbody>\n",
              "</table>\n",
              "</div>"
            ],
            "text/plain": [
              "         age        job  marital    education  default    contact month  \\\n",
              "0  (50, 100]  housemaid  married     basic.4y       no  telephone   may   \n",
              "1  (50, 100]   services  married  high.school  unknown  telephone   may   \n",
              "2    (0, 50]   services  married  high.school       no  telephone   may   \n",
              "3    (0, 50]     admin.  married     basic.6y       no  telephone   may   \n",
              "4  (50, 100]   services  married  high.school       no  telephone   may   \n",
              "\n",
              "  day_of_week             duration             campaign                pdays  \\\n",
              "0         mon               261.00                 1.00               999.00   \n",
              "1         mon               149.00                 1.00               999.00   \n",
              "2         mon               226.00                 1.00               999.00   \n",
              "3         mon               151.00                 1.00               999.00   \n",
              "4         mon               307.00                 1.00               999.00   \n",
              "\n",
              "              previous     poutcome         emp.var.rate       cons.price.idx  \\\n",
              "0                 0.00  nonexistent                 1.10                93.99   \n",
              "1                 0.00  nonexistent                 1.10                93.99   \n",
              "2                 0.00  nonexistent                 1.10                93.99   \n",
              "3                 0.00  nonexistent                 1.10                93.99   \n",
              "4                 0.00  nonexistent                 1.10                93.99   \n",
              "\n",
              "         cons.conf.idx            euribor3m          nr.employed  y  \n",
              "0               -36.40                 4.86             5,191.00  0  \n",
              "1               -36.40                 4.86             5,191.00  0  \n",
              "2               -36.40                 4.86             5,191.00  0  \n",
              "3               -36.40                 4.86             5,191.00  0  \n",
              "4               -36.40                 4.86             5,191.00  0  "
            ]
          },
          "execution_count": 156,
          "metadata": {},
          "output_type": "execute_result"
        }
      ],
      "source": [
        "data.head()"
      ]
    },
    {
      "cell_type": "code",
      "execution_count": null,
      "id": "3a3c5b30",
      "metadata": {
        "id": "3a3c5b30",
        "outputId": "ee6de85a-afd8-40bd-f266-7c2fee716201"
      },
      "outputs": [
        {
          "data": {
            "text/html": [
              "<div>\n",
              "<style scoped>\n",
              "    .dataframe tbody tr th:only-of-type {\n",
              "        vertical-align: middle;\n",
              "    }\n",
              "\n",
              "    .dataframe tbody tr th {\n",
              "        vertical-align: top;\n",
              "    }\n",
              "\n",
              "    .dataframe thead th {\n",
              "        text-align: right;\n",
              "    }\n",
              "</style>\n",
              "<table border=\"1\" class=\"dataframe\">\n",
              "  <thead>\n",
              "    <tr style=\"text-align: right;\">\n",
              "      <th></th>\n",
              "      <th>age</th>\n",
              "      <th>job</th>\n",
              "      <th>marital</th>\n",
              "      <th>education</th>\n",
              "      <th>default</th>\n",
              "      <th>contact</th>\n",
              "      <th>month</th>\n",
              "      <th>day_of_week</th>\n",
              "      <th>duration</th>\n",
              "      <th>campaign</th>\n",
              "      <th>pdays</th>\n",
              "      <th>previous</th>\n",
              "      <th>poutcome</th>\n",
              "      <th>emp.var.rate</th>\n",
              "      <th>cons.price.idx</th>\n",
              "      <th>cons.conf.idx</th>\n",
              "      <th>euribor3m</th>\n",
              "      <th>nr.employed</th>\n",
              "      <th>y</th>\n",
              "    </tr>\n",
              "  </thead>\n",
              "  <tbody>\n",
              "    <tr>\n",
              "      <th>0</th>\n",
              "      <td>(50, 100]</td>\n",
              "      <td>housemaid</td>\n",
              "      <td>married</td>\n",
              "      <td>basic.4y</td>\n",
              "      <td>no</td>\n",
              "      <td>telephone</td>\n",
              "      <td>may</td>\n",
              "      <td>mon</td>\n",
              "      <td>261.00</td>\n",
              "      <td>1.00</td>\n",
              "      <td>999.00</td>\n",
              "      <td>0.00</td>\n",
              "      <td>nonexistent</td>\n",
              "      <td>1.10</td>\n",
              "      <td>93.99</td>\n",
              "      <td>-36.40</td>\n",
              "      <td>4.86</td>\n",
              "      <td>5,191.00</td>\n",
              "      <td>0</td>\n",
              "    </tr>\n",
              "    <tr>\n",
              "      <th>1</th>\n",
              "      <td>(50, 100]</td>\n",
              "      <td>services</td>\n",
              "      <td>married</td>\n",
              "      <td>high.school</td>\n",
              "      <td>unknown</td>\n",
              "      <td>telephone</td>\n",
              "      <td>may</td>\n",
              "      <td>mon</td>\n",
              "      <td>149.00</td>\n",
              "      <td>1.00</td>\n",
              "      <td>999.00</td>\n",
              "      <td>0.00</td>\n",
              "      <td>nonexistent</td>\n",
              "      <td>1.10</td>\n",
              "      <td>93.99</td>\n",
              "      <td>-36.40</td>\n",
              "      <td>4.86</td>\n",
              "      <td>5,191.00</td>\n",
              "      <td>0</td>\n",
              "    </tr>\n",
              "    <tr>\n",
              "      <th>2</th>\n",
              "      <td>(0, 50]</td>\n",
              "      <td>services</td>\n",
              "      <td>married</td>\n",
              "      <td>high.school</td>\n",
              "      <td>no</td>\n",
              "      <td>telephone</td>\n",
              "      <td>may</td>\n",
              "      <td>mon</td>\n",
              "      <td>226.00</td>\n",
              "      <td>1.00</td>\n",
              "      <td>999.00</td>\n",
              "      <td>0.00</td>\n",
              "      <td>nonexistent</td>\n",
              "      <td>1.10</td>\n",
              "      <td>93.99</td>\n",
              "      <td>-36.40</td>\n",
              "      <td>4.86</td>\n",
              "      <td>5,191.00</td>\n",
              "      <td>0</td>\n",
              "    </tr>\n",
              "    <tr>\n",
              "      <th>3</th>\n",
              "      <td>(0, 50]</td>\n",
              "      <td>admin.</td>\n",
              "      <td>married</td>\n",
              "      <td>basic.6y</td>\n",
              "      <td>no</td>\n",
              "      <td>telephone</td>\n",
              "      <td>may</td>\n",
              "      <td>mon</td>\n",
              "      <td>151.00</td>\n",
              "      <td>1.00</td>\n",
              "      <td>999.00</td>\n",
              "      <td>0.00</td>\n",
              "      <td>nonexistent</td>\n",
              "      <td>1.10</td>\n",
              "      <td>93.99</td>\n",
              "      <td>-36.40</td>\n",
              "      <td>4.86</td>\n",
              "      <td>5,191.00</td>\n",
              "      <td>0</td>\n",
              "    </tr>\n",
              "    <tr>\n",
              "      <th>4</th>\n",
              "      <td>(50, 100]</td>\n",
              "      <td>services</td>\n",
              "      <td>married</td>\n",
              "      <td>high.school</td>\n",
              "      <td>no</td>\n",
              "      <td>telephone</td>\n",
              "      <td>may</td>\n",
              "      <td>mon</td>\n",
              "      <td>307.00</td>\n",
              "      <td>1.00</td>\n",
              "      <td>999.00</td>\n",
              "      <td>0.00</td>\n",
              "      <td>nonexistent</td>\n",
              "      <td>1.10</td>\n",
              "      <td>93.99</td>\n",
              "      <td>-36.40</td>\n",
              "      <td>4.86</td>\n",
              "      <td>5,191.00</td>\n",
              "      <td>0</td>\n",
              "    </tr>\n",
              "    <tr>\n",
              "      <th>...</th>\n",
              "      <td>...</td>\n",
              "      <td>...</td>\n",
              "      <td>...</td>\n",
              "      <td>...</td>\n",
              "      <td>...</td>\n",
              "      <td>...</td>\n",
              "      <td>...</td>\n",
              "      <td>...</td>\n",
              "      <td>...</td>\n",
              "      <td>...</td>\n",
              "      <td>...</td>\n",
              "      <td>...</td>\n",
              "      <td>...</td>\n",
              "      <td>...</td>\n",
              "      <td>...</td>\n",
              "      <td>...</td>\n",
              "      <td>...</td>\n",
              "      <td>...</td>\n",
              "      <td>...</td>\n",
              "    </tr>\n",
              "    <tr>\n",
              "      <th>41181</th>\n",
              "      <td>(0, 50]</td>\n",
              "      <td>admin.</td>\n",
              "      <td>married</td>\n",
              "      <td>university.degree</td>\n",
              "      <td>no</td>\n",
              "      <td>cellular</td>\n",
              "      <td>nov</td>\n",
              "      <td>fri</td>\n",
              "      <td>281.00</td>\n",
              "      <td>1.00</td>\n",
              "      <td>999.00</td>\n",
              "      <td>0.00</td>\n",
              "      <td>nonexistent</td>\n",
              "      <td>-1.10</td>\n",
              "      <td>94.77</td>\n",
              "      <td>-50.80</td>\n",
              "      <td>1.03</td>\n",
              "      <td>4,963.60</td>\n",
              "      <td>1</td>\n",
              "    </tr>\n",
              "    <tr>\n",
              "      <th>41182</th>\n",
              "      <td>(0, 50]</td>\n",
              "      <td>unemployed</td>\n",
              "      <td>single</td>\n",
              "      <td>basic.4y</td>\n",
              "      <td>no</td>\n",
              "      <td>cellular</td>\n",
              "      <td>nov</td>\n",
              "      <td>fri</td>\n",
              "      <td>112.00</td>\n",
              "      <td>1.00</td>\n",
              "      <td>9.00</td>\n",
              "      <td>1.00</td>\n",
              "      <td>success</td>\n",
              "      <td>-1.10</td>\n",
              "      <td>94.77</td>\n",
              "      <td>-50.80</td>\n",
              "      <td>1.03</td>\n",
              "      <td>4,963.60</td>\n",
              "      <td>0</td>\n",
              "    </tr>\n",
              "    <tr>\n",
              "      <th>41184</th>\n",
              "      <td>(0, 50]</td>\n",
              "      <td>blue-collar</td>\n",
              "      <td>married</td>\n",
              "      <td>professional.course</td>\n",
              "      <td>no</td>\n",
              "      <td>cellular</td>\n",
              "      <td>nov</td>\n",
              "      <td>fri</td>\n",
              "      <td>383.00</td>\n",
              "      <td>1.00</td>\n",
              "      <td>999.00</td>\n",
              "      <td>0.00</td>\n",
              "      <td>nonexistent</td>\n",
              "      <td>-1.10</td>\n",
              "      <td>94.77</td>\n",
              "      <td>-50.80</td>\n",
              "      <td>1.03</td>\n",
              "      <td>4,963.60</td>\n",
              "      <td>0</td>\n",
              "    </tr>\n",
              "    <tr>\n",
              "      <th>41185</th>\n",
              "      <td>(50, 100]</td>\n",
              "      <td>retired</td>\n",
              "      <td>married</td>\n",
              "      <td>university.degree</td>\n",
              "      <td>no</td>\n",
              "      <td>cellular</td>\n",
              "      <td>nov</td>\n",
              "      <td>fri</td>\n",
              "      <td>189.00</td>\n",
              "      <td>2.00</td>\n",
              "      <td>999.00</td>\n",
              "      <td>0.00</td>\n",
              "      <td>nonexistent</td>\n",
              "      <td>-1.10</td>\n",
              "      <td>94.77</td>\n",
              "      <td>-50.80</td>\n",
              "      <td>1.03</td>\n",
              "      <td>4,963.60</td>\n",
              "      <td>0</td>\n",
              "    </tr>\n",
              "    <tr>\n",
              "      <th>41186</th>\n",
              "      <td>(0, 50]</td>\n",
              "      <td>technician</td>\n",
              "      <td>married</td>\n",
              "      <td>professional.course</td>\n",
              "      <td>no</td>\n",
              "      <td>cellular</td>\n",
              "      <td>nov</td>\n",
              "      <td>fri</td>\n",
              "      <td>442.00</td>\n",
              "      <td>1.00</td>\n",
              "      <td>999.00</td>\n",
              "      <td>0.00</td>\n",
              "      <td>nonexistent</td>\n",
              "      <td>-1.10</td>\n",
              "      <td>94.77</td>\n",
              "      <td>-50.80</td>\n",
              "      <td>1.03</td>\n",
              "      <td>4,963.60</td>\n",
              "      <td>1</td>\n",
              "    </tr>\n",
              "  </tbody>\n",
              "</table>\n",
              "<p>35176 rows × 19 columns</p>\n",
              "</div>"
            ],
            "text/plain": [
              "             age          job  marital            education  default  \\\n",
              "0      (50, 100]    housemaid  married             basic.4y       no   \n",
              "1      (50, 100]     services  married          high.school  unknown   \n",
              "2        (0, 50]     services  married          high.school       no   \n",
              "3        (0, 50]       admin.  married             basic.6y       no   \n",
              "4      (50, 100]     services  married          high.school       no   \n",
              "...          ...          ...      ...                  ...      ...   \n",
              "41181    (0, 50]       admin.  married    university.degree       no   \n",
              "41182    (0, 50]   unemployed   single             basic.4y       no   \n",
              "41184    (0, 50]  blue-collar  married  professional.course       no   \n",
              "41185  (50, 100]      retired  married    university.degree       no   \n",
              "41186    (0, 50]   technician  married  professional.course       no   \n",
              "\n",
              "         contact month day_of_week             duration             campaign  \\\n",
              "0      telephone   may         mon               261.00                 1.00   \n",
              "1      telephone   may         mon               149.00                 1.00   \n",
              "2      telephone   may         mon               226.00                 1.00   \n",
              "3      telephone   may         mon               151.00                 1.00   \n",
              "4      telephone   may         mon               307.00                 1.00   \n",
              "...          ...   ...         ...                  ...                  ...   \n",
              "41181   cellular   nov         fri               281.00                 1.00   \n",
              "41182   cellular   nov         fri               112.00                 1.00   \n",
              "41184   cellular   nov         fri               383.00                 1.00   \n",
              "41185   cellular   nov         fri               189.00                 2.00   \n",
              "41186   cellular   nov         fri               442.00                 1.00   \n",
              "\n",
              "                     pdays             previous     poutcome  \\\n",
              "0                   999.00                 0.00  nonexistent   \n",
              "1                   999.00                 0.00  nonexistent   \n",
              "2                   999.00                 0.00  nonexistent   \n",
              "3                   999.00                 0.00  nonexistent   \n",
              "4                   999.00                 0.00  nonexistent   \n",
              "...                    ...                  ...          ...   \n",
              "41181               999.00                 0.00  nonexistent   \n",
              "41182                 9.00                 1.00      success   \n",
              "41184               999.00                 0.00  nonexistent   \n",
              "41185               999.00                 0.00  nonexistent   \n",
              "41186               999.00                 0.00  nonexistent   \n",
              "\n",
              "              emp.var.rate       cons.price.idx        cons.conf.idx  \\\n",
              "0                     1.10                93.99               -36.40   \n",
              "1                     1.10                93.99               -36.40   \n",
              "2                     1.10                93.99               -36.40   \n",
              "3                     1.10                93.99               -36.40   \n",
              "4                     1.10                93.99               -36.40   \n",
              "...                    ...                  ...                  ...   \n",
              "41181                -1.10                94.77               -50.80   \n",
              "41182                -1.10                94.77               -50.80   \n",
              "41184                -1.10                94.77               -50.80   \n",
              "41185                -1.10                94.77               -50.80   \n",
              "41186                -1.10                94.77               -50.80   \n",
              "\n",
              "                 euribor3m          nr.employed  y  \n",
              "0                     4.86             5,191.00  0  \n",
              "1                     4.86             5,191.00  0  \n",
              "2                     4.86             5,191.00  0  \n",
              "3                     4.86             5,191.00  0  \n",
              "4                     4.86             5,191.00  0  \n",
              "...                    ...                  ... ..  \n",
              "41181                 1.03             4,963.60  1  \n",
              "41182                 1.03             4,963.60  0  \n",
              "41184                 1.03             4,963.60  0  \n",
              "41185                 1.03             4,963.60  0  \n",
              "41186                 1.03             4,963.60  1  \n",
              "\n",
              "[35176 rows x 19 columns]"
            ]
          },
          "execution_count": 157,
          "metadata": {},
          "output_type": "execute_result"
        }
      ],
      "source": [
        "data"
      ]
    },
    {
      "cell_type": "markdown",
      "id": "b0236dba",
      "metadata": {
        "id": "b0236dba"
      },
      "source": [
        "# IV analysis"
      ]
    },
    {
      "cell_type": "raw",
      "id": "ffb385a4",
      "metadata": {
        "id": "ffb385a4"
      },
      "source": [
        "# IV analysis\n",
        "\n",
        "IV analysis is done on features to check the predictive power of features(independent attributes) by binning the values and calculating the weight of eveidence and finaly computing IV-Score which gives you the predictive power based on predefined range of IV-Score. below are the range of data\n",
        "\n",
        "#Information Value \t        Predictive power\n",
        "\n",
        "#<0.02\t                     Useless\n",
        "\n",
        "#0.02 to 0.1\t             Weak predictors\n",
        "\n",
        "#0.1 to 0.3\t                 Medium Predictors\n",
        "\n",
        "#0.3 to 0.5\t                 Strong predictors\n",
        "\n",
        "#>0.5\t                     Suspicious\n",
        "\n",
        "Note:before calculating the weight of evidence make sure to bin the features if they are not categorical.and make sure each bin should have atleast 5% of data distributed in each bin\n",
        "\n"
      ]
    },
    {
      "cell_type": "code",
      "execution_count": null,
      "id": "4cd86dc4",
      "metadata": {
        "id": "4cd86dc4"
      },
      "outputs": [],
      "source": [
        "def calculate_woe_iv(dataset, feature, target):\n",
        "    lst = []\n",
        "    for i in range(dataset[feature].nunique()):\n",
        "        val = list(dataset[feature].unique())[i]\n",
        "        lst.append({\n",
        "            'Value': val,\n",
        "            'All': dataset[dataset[feature] == val].count()[feature],\n",
        "            'Good': dataset[(dataset[feature] == val) & (dataset[target] == 1)].count()[feature],\n",
        "            'Bad': dataset[(dataset[feature] == val) & (dataset[target] == 0)].count()[feature]\n",
        "        })\n",
        "\n",
        "    dset = pd.DataFrame(lst)\n",
        "    dset['Distr_Good'] = dset['Good'] / dset['Good'].sum()\n",
        "    dset['Distr_Bad'] = dset['Bad'] / dset['Bad'].sum()\n",
        "    dset['WoE'] = np.log(dset['Distr_Good'] / dset['Distr_Bad'])\n",
        "    dset = dset.replace({'WoE': {np.inf: 0, -np.inf: 0}})\n",
        "    dset['IV'] = (dset['Distr_Good'] - dset['Distr_Bad']) * dset['WoE']\n",
        "    iv = dset['IV'].sum()\n",
        "\n",
        "    dset = dset.sort_values(by='WoE')\n",
        "\n",
        "    return dset, iv"
      ]
    },
    {
      "cell_type": "code",
      "execution_count": null,
      "id": "34af2f4d",
      "metadata": {
        "id": "34af2f4d"
      },
      "outputs": [],
      "source": []
    },
    {
      "cell_type": "code",
      "execution_count": null,
      "id": "f10cb25c",
      "metadata": {
        "id": "f10cb25c",
        "outputId": "253f22dc-1cfc-4f71-9fa4-31cd36ee0bf0"
      },
      "outputs": [
        {
          "data": {
            "text/html": [
              "<div>\n",
              "<style scoped>\n",
              "    .dataframe tbody tr th:only-of-type {\n",
              "        vertical-align: middle;\n",
              "    }\n",
              "\n",
              "    .dataframe tbody tr th {\n",
              "        vertical-align: top;\n",
              "    }\n",
              "\n",
              "    .dataframe thead th {\n",
              "        text-align: right;\n",
              "    }\n",
              "</style>\n",
              "<table border=\"1\" class=\"dataframe\">\n",
              "  <thead>\n",
              "    <tr style=\"text-align: right;\">\n",
              "      <th></th>\n",
              "      <th>age</th>\n",
              "      <th>job</th>\n",
              "      <th>marital</th>\n",
              "      <th>education</th>\n",
              "      <th>default</th>\n",
              "      <th>contact</th>\n",
              "      <th>month</th>\n",
              "      <th>day_of_week</th>\n",
              "      <th>duration</th>\n",
              "      <th>campaign</th>\n",
              "      <th>pdays</th>\n",
              "      <th>previous</th>\n",
              "      <th>poutcome</th>\n",
              "      <th>emp.var.rate</th>\n",
              "      <th>cons.price.idx</th>\n",
              "      <th>cons.conf.idx</th>\n",
              "      <th>euribor3m</th>\n",
              "      <th>nr.employed</th>\n",
              "      <th>y</th>\n",
              "    </tr>\n",
              "  </thead>\n",
              "  <tbody>\n",
              "    <tr>\n",
              "      <th>0</th>\n",
              "      <td>(50, 100]</td>\n",
              "      <td>housemaid</td>\n",
              "      <td>married</td>\n",
              "      <td>basic.4y</td>\n",
              "      <td>no</td>\n",
              "      <td>telephone</td>\n",
              "      <td>may</td>\n",
              "      <td>mon</td>\n",
              "      <td>261.00</td>\n",
              "      <td>1.00</td>\n",
              "      <td>999.00</td>\n",
              "      <td>0.00</td>\n",
              "      <td>nonexistent</td>\n",
              "      <td>1.10</td>\n",
              "      <td>93.99</td>\n",
              "      <td>-36.40</td>\n",
              "      <td>4.86</td>\n",
              "      <td>5,191.00</td>\n",
              "      <td>0</td>\n",
              "    </tr>\n",
              "    <tr>\n",
              "      <th>1</th>\n",
              "      <td>(50, 100]</td>\n",
              "      <td>services</td>\n",
              "      <td>married</td>\n",
              "      <td>high.school</td>\n",
              "      <td>unknown</td>\n",
              "      <td>telephone</td>\n",
              "      <td>may</td>\n",
              "      <td>mon</td>\n",
              "      <td>149.00</td>\n",
              "      <td>1.00</td>\n",
              "      <td>999.00</td>\n",
              "      <td>0.00</td>\n",
              "      <td>nonexistent</td>\n",
              "      <td>1.10</td>\n",
              "      <td>93.99</td>\n",
              "      <td>-36.40</td>\n",
              "      <td>4.86</td>\n",
              "      <td>5,191.00</td>\n",
              "      <td>0</td>\n",
              "    </tr>\n",
              "    <tr>\n",
              "      <th>2</th>\n",
              "      <td>(0, 50]</td>\n",
              "      <td>services</td>\n",
              "      <td>married</td>\n",
              "      <td>high.school</td>\n",
              "      <td>no</td>\n",
              "      <td>telephone</td>\n",
              "      <td>may</td>\n",
              "      <td>mon</td>\n",
              "      <td>226.00</td>\n",
              "      <td>1.00</td>\n",
              "      <td>999.00</td>\n",
              "      <td>0.00</td>\n",
              "      <td>nonexistent</td>\n",
              "      <td>1.10</td>\n",
              "      <td>93.99</td>\n",
              "      <td>-36.40</td>\n",
              "      <td>4.86</td>\n",
              "      <td>5,191.00</td>\n",
              "      <td>0</td>\n",
              "    </tr>\n",
              "    <tr>\n",
              "      <th>3</th>\n",
              "      <td>(0, 50]</td>\n",
              "      <td>admin.</td>\n",
              "      <td>married</td>\n",
              "      <td>basic.6y</td>\n",
              "      <td>no</td>\n",
              "      <td>telephone</td>\n",
              "      <td>may</td>\n",
              "      <td>mon</td>\n",
              "      <td>151.00</td>\n",
              "      <td>1.00</td>\n",
              "      <td>999.00</td>\n",
              "      <td>0.00</td>\n",
              "      <td>nonexistent</td>\n",
              "      <td>1.10</td>\n",
              "      <td>93.99</td>\n",
              "      <td>-36.40</td>\n",
              "      <td>4.86</td>\n",
              "      <td>5,191.00</td>\n",
              "      <td>0</td>\n",
              "    </tr>\n",
              "    <tr>\n",
              "      <th>4</th>\n",
              "      <td>(50, 100]</td>\n",
              "      <td>services</td>\n",
              "      <td>married</td>\n",
              "      <td>high.school</td>\n",
              "      <td>no</td>\n",
              "      <td>telephone</td>\n",
              "      <td>may</td>\n",
              "      <td>mon</td>\n",
              "      <td>307.00</td>\n",
              "      <td>1.00</td>\n",
              "      <td>999.00</td>\n",
              "      <td>0.00</td>\n",
              "      <td>nonexistent</td>\n",
              "      <td>1.10</td>\n",
              "      <td>93.99</td>\n",
              "      <td>-36.40</td>\n",
              "      <td>4.86</td>\n",
              "      <td>5,191.00</td>\n",
              "      <td>0</td>\n",
              "    </tr>\n",
              "    <tr>\n",
              "      <th>...</th>\n",
              "      <td>...</td>\n",
              "      <td>...</td>\n",
              "      <td>...</td>\n",
              "      <td>...</td>\n",
              "      <td>...</td>\n",
              "      <td>...</td>\n",
              "      <td>...</td>\n",
              "      <td>...</td>\n",
              "      <td>...</td>\n",
              "      <td>...</td>\n",
              "      <td>...</td>\n",
              "      <td>...</td>\n",
              "      <td>...</td>\n",
              "      <td>...</td>\n",
              "      <td>...</td>\n",
              "      <td>...</td>\n",
              "      <td>...</td>\n",
              "      <td>...</td>\n",
              "      <td>...</td>\n",
              "    </tr>\n",
              "    <tr>\n",
              "      <th>41181</th>\n",
              "      <td>(0, 50]</td>\n",
              "      <td>admin.</td>\n",
              "      <td>married</td>\n",
              "      <td>university.degree</td>\n",
              "      <td>no</td>\n",
              "      <td>cellular</td>\n",
              "      <td>nov</td>\n",
              "      <td>fri</td>\n",
              "      <td>281.00</td>\n",
              "      <td>1.00</td>\n",
              "      <td>999.00</td>\n",
              "      <td>0.00</td>\n",
              "      <td>nonexistent</td>\n",
              "      <td>-1.10</td>\n",
              "      <td>94.77</td>\n",
              "      <td>-50.80</td>\n",
              "      <td>1.03</td>\n",
              "      <td>4,963.60</td>\n",
              "      <td>1</td>\n",
              "    </tr>\n",
              "    <tr>\n",
              "      <th>41182</th>\n",
              "      <td>(0, 50]</td>\n",
              "      <td>unemployed</td>\n",
              "      <td>single</td>\n",
              "      <td>basic.4y</td>\n",
              "      <td>no</td>\n",
              "      <td>cellular</td>\n",
              "      <td>nov</td>\n",
              "      <td>fri</td>\n",
              "      <td>112.00</td>\n",
              "      <td>1.00</td>\n",
              "      <td>9.00</td>\n",
              "      <td>1.00</td>\n",
              "      <td>success</td>\n",
              "      <td>-1.10</td>\n",
              "      <td>94.77</td>\n",
              "      <td>-50.80</td>\n",
              "      <td>1.03</td>\n",
              "      <td>4,963.60</td>\n",
              "      <td>0</td>\n",
              "    </tr>\n",
              "    <tr>\n",
              "      <th>41184</th>\n",
              "      <td>(0, 50]</td>\n",
              "      <td>blue-collar</td>\n",
              "      <td>married</td>\n",
              "      <td>professional.course</td>\n",
              "      <td>no</td>\n",
              "      <td>cellular</td>\n",
              "      <td>nov</td>\n",
              "      <td>fri</td>\n",
              "      <td>383.00</td>\n",
              "      <td>1.00</td>\n",
              "      <td>999.00</td>\n",
              "      <td>0.00</td>\n",
              "      <td>nonexistent</td>\n",
              "      <td>-1.10</td>\n",
              "      <td>94.77</td>\n",
              "      <td>-50.80</td>\n",
              "      <td>1.03</td>\n",
              "      <td>4,963.60</td>\n",
              "      <td>0</td>\n",
              "    </tr>\n",
              "    <tr>\n",
              "      <th>41185</th>\n",
              "      <td>(50, 100]</td>\n",
              "      <td>retired</td>\n",
              "      <td>married</td>\n",
              "      <td>university.degree</td>\n",
              "      <td>no</td>\n",
              "      <td>cellular</td>\n",
              "      <td>nov</td>\n",
              "      <td>fri</td>\n",
              "      <td>189.00</td>\n",
              "      <td>2.00</td>\n",
              "      <td>999.00</td>\n",
              "      <td>0.00</td>\n",
              "      <td>nonexistent</td>\n",
              "      <td>-1.10</td>\n",
              "      <td>94.77</td>\n",
              "      <td>-50.80</td>\n",
              "      <td>1.03</td>\n",
              "      <td>4,963.60</td>\n",
              "      <td>0</td>\n",
              "    </tr>\n",
              "    <tr>\n",
              "      <th>41186</th>\n",
              "      <td>(0, 50]</td>\n",
              "      <td>technician</td>\n",
              "      <td>married</td>\n",
              "      <td>professional.course</td>\n",
              "      <td>no</td>\n",
              "      <td>cellular</td>\n",
              "      <td>nov</td>\n",
              "      <td>fri</td>\n",
              "      <td>442.00</td>\n",
              "      <td>1.00</td>\n",
              "      <td>999.00</td>\n",
              "      <td>0.00</td>\n",
              "      <td>nonexistent</td>\n",
              "      <td>-1.10</td>\n",
              "      <td>94.77</td>\n",
              "      <td>-50.80</td>\n",
              "      <td>1.03</td>\n",
              "      <td>4,963.60</td>\n",
              "      <td>1</td>\n",
              "    </tr>\n",
              "  </tbody>\n",
              "</table>\n",
              "<p>35176 rows × 19 columns</p>\n",
              "</div>"
            ],
            "text/plain": [
              "             age          job  marital            education  default  \\\n",
              "0      (50, 100]    housemaid  married             basic.4y       no   \n",
              "1      (50, 100]     services  married          high.school  unknown   \n",
              "2        (0, 50]     services  married          high.school       no   \n",
              "3        (0, 50]       admin.  married             basic.6y       no   \n",
              "4      (50, 100]     services  married          high.school       no   \n",
              "...          ...          ...      ...                  ...      ...   \n",
              "41181    (0, 50]       admin.  married    university.degree       no   \n",
              "41182    (0, 50]   unemployed   single             basic.4y       no   \n",
              "41184    (0, 50]  blue-collar  married  professional.course       no   \n",
              "41185  (50, 100]      retired  married    university.degree       no   \n",
              "41186    (0, 50]   technician  married  professional.course       no   \n",
              "\n",
              "         contact month day_of_week             duration             campaign  \\\n",
              "0      telephone   may         mon               261.00                 1.00   \n",
              "1      telephone   may         mon               149.00                 1.00   \n",
              "2      telephone   may         mon               226.00                 1.00   \n",
              "3      telephone   may         mon               151.00                 1.00   \n",
              "4      telephone   may         mon               307.00                 1.00   \n",
              "...          ...   ...         ...                  ...                  ...   \n",
              "41181   cellular   nov         fri               281.00                 1.00   \n",
              "41182   cellular   nov         fri               112.00                 1.00   \n",
              "41184   cellular   nov         fri               383.00                 1.00   \n",
              "41185   cellular   nov         fri               189.00                 2.00   \n",
              "41186   cellular   nov         fri               442.00                 1.00   \n",
              "\n",
              "                     pdays             previous     poutcome  \\\n",
              "0                   999.00                 0.00  nonexistent   \n",
              "1                   999.00                 0.00  nonexistent   \n",
              "2                   999.00                 0.00  nonexistent   \n",
              "3                   999.00                 0.00  nonexistent   \n",
              "4                   999.00                 0.00  nonexistent   \n",
              "...                    ...                  ...          ...   \n",
              "41181               999.00                 0.00  nonexistent   \n",
              "41182                 9.00                 1.00      success   \n",
              "41184               999.00                 0.00  nonexistent   \n",
              "41185               999.00                 0.00  nonexistent   \n",
              "41186               999.00                 0.00  nonexistent   \n",
              "\n",
              "              emp.var.rate       cons.price.idx        cons.conf.idx  \\\n",
              "0                     1.10                93.99               -36.40   \n",
              "1                     1.10                93.99               -36.40   \n",
              "2                     1.10                93.99               -36.40   \n",
              "3                     1.10                93.99               -36.40   \n",
              "4                     1.10                93.99               -36.40   \n",
              "...                    ...                  ...                  ...   \n",
              "41181                -1.10                94.77               -50.80   \n",
              "41182                -1.10                94.77               -50.80   \n",
              "41184                -1.10                94.77               -50.80   \n",
              "41185                -1.10                94.77               -50.80   \n",
              "41186                -1.10                94.77               -50.80   \n",
              "\n",
              "                 euribor3m          nr.employed  y  \n",
              "0                     4.86             5,191.00  0  \n",
              "1                     4.86             5,191.00  0  \n",
              "2                     4.86             5,191.00  0  \n",
              "3                     4.86             5,191.00  0  \n",
              "4                     4.86             5,191.00  0  \n",
              "...                    ...                  ... ..  \n",
              "41181                 1.03             4,963.60  1  \n",
              "41182                 1.03             4,963.60  0  \n",
              "41184                 1.03             4,963.60  0  \n",
              "41185                 1.03             4,963.60  0  \n",
              "41186                 1.03             4,963.60  1  \n",
              "\n",
              "[35176 rows x 19 columns]"
            ]
          },
          "execution_count": 159,
          "metadata": {},
          "output_type": "execute_result"
        }
      ],
      "source": [
        "data"
      ]
    },
    {
      "cell_type": "code",
      "execution_count": null,
      "id": "3e13450a",
      "metadata": {
        "id": "3e13450a"
      },
      "outputs": [],
      "source": [
        "data['y'] = data['y'].astype(int)"
      ]
    },
    {
      "cell_type": "code",
      "execution_count": null,
      "id": "e41665e4",
      "metadata": {
        "id": "e41665e4"
      },
      "outputs": [],
      "source": [
        "df_new=pd.DataFrame(columns=['Feature','IV-Score'])"
      ]
    },
    {
      "cell_type": "code",
      "execution_count": null,
      "id": "c43b2424",
      "metadata": {
        "id": "c43b2424",
        "outputId": "5337cbe4-6616-4b9a-ea20-b1bcb9eee567"
      },
      "outputs": [
        {
          "data": {
            "text/html": [
              "<div>\n",
              "<style scoped>\n",
              "    .dataframe tbody tr th:only-of-type {\n",
              "        vertical-align: middle;\n",
              "    }\n",
              "\n",
              "    .dataframe tbody tr th {\n",
              "        vertical-align: top;\n",
              "    }\n",
              "\n",
              "    .dataframe thead th {\n",
              "        text-align: right;\n",
              "    }\n",
              "</style>\n",
              "<table border=\"1\" class=\"dataframe\">\n",
              "  <thead>\n",
              "    <tr style=\"text-align: right;\">\n",
              "      <th></th>\n",
              "      <th>age</th>\n",
              "      <th>job</th>\n",
              "      <th>marital</th>\n",
              "      <th>education</th>\n",
              "      <th>default</th>\n",
              "      <th>contact</th>\n",
              "      <th>month</th>\n",
              "      <th>day_of_week</th>\n",
              "      <th>duration</th>\n",
              "      <th>campaign</th>\n",
              "      <th>pdays</th>\n",
              "      <th>previous</th>\n",
              "      <th>poutcome</th>\n",
              "      <th>emp.var.rate</th>\n",
              "      <th>cons.price.idx</th>\n",
              "      <th>cons.conf.idx</th>\n",
              "      <th>euribor3m</th>\n",
              "      <th>nr.employed</th>\n",
              "      <th>y</th>\n",
              "    </tr>\n",
              "  </thead>\n",
              "  <tbody>\n",
              "    <tr>\n",
              "      <th>0</th>\n",
              "      <td>(50, 100]</td>\n",
              "      <td>housemaid</td>\n",
              "      <td>married</td>\n",
              "      <td>basic.4y</td>\n",
              "      <td>no</td>\n",
              "      <td>telephone</td>\n",
              "      <td>may</td>\n",
              "      <td>mon</td>\n",
              "      <td>261.00</td>\n",
              "      <td>1.00</td>\n",
              "      <td>999.00</td>\n",
              "      <td>0.00</td>\n",
              "      <td>nonexistent</td>\n",
              "      <td>1.10</td>\n",
              "      <td>93.99</td>\n",
              "      <td>-36.40</td>\n",
              "      <td>4.86</td>\n",
              "      <td>5,191.00</td>\n",
              "      <td>0</td>\n",
              "    </tr>\n",
              "    <tr>\n",
              "      <th>1</th>\n",
              "      <td>(50, 100]</td>\n",
              "      <td>services</td>\n",
              "      <td>married</td>\n",
              "      <td>high.school</td>\n",
              "      <td>unknown</td>\n",
              "      <td>telephone</td>\n",
              "      <td>may</td>\n",
              "      <td>mon</td>\n",
              "      <td>149.00</td>\n",
              "      <td>1.00</td>\n",
              "      <td>999.00</td>\n",
              "      <td>0.00</td>\n",
              "      <td>nonexistent</td>\n",
              "      <td>1.10</td>\n",
              "      <td>93.99</td>\n",
              "      <td>-36.40</td>\n",
              "      <td>4.86</td>\n",
              "      <td>5,191.00</td>\n",
              "      <td>0</td>\n",
              "    </tr>\n",
              "    <tr>\n",
              "      <th>2</th>\n",
              "      <td>(0, 50]</td>\n",
              "      <td>services</td>\n",
              "      <td>married</td>\n",
              "      <td>high.school</td>\n",
              "      <td>no</td>\n",
              "      <td>telephone</td>\n",
              "      <td>may</td>\n",
              "      <td>mon</td>\n",
              "      <td>226.00</td>\n",
              "      <td>1.00</td>\n",
              "      <td>999.00</td>\n",
              "      <td>0.00</td>\n",
              "      <td>nonexistent</td>\n",
              "      <td>1.10</td>\n",
              "      <td>93.99</td>\n",
              "      <td>-36.40</td>\n",
              "      <td>4.86</td>\n",
              "      <td>5,191.00</td>\n",
              "      <td>0</td>\n",
              "    </tr>\n",
              "    <tr>\n",
              "      <th>3</th>\n",
              "      <td>(0, 50]</td>\n",
              "      <td>admin.</td>\n",
              "      <td>married</td>\n",
              "      <td>basic.6y</td>\n",
              "      <td>no</td>\n",
              "      <td>telephone</td>\n",
              "      <td>may</td>\n",
              "      <td>mon</td>\n",
              "      <td>151.00</td>\n",
              "      <td>1.00</td>\n",
              "      <td>999.00</td>\n",
              "      <td>0.00</td>\n",
              "      <td>nonexistent</td>\n",
              "      <td>1.10</td>\n",
              "      <td>93.99</td>\n",
              "      <td>-36.40</td>\n",
              "      <td>4.86</td>\n",
              "      <td>5,191.00</td>\n",
              "      <td>0</td>\n",
              "    </tr>\n",
              "    <tr>\n",
              "      <th>4</th>\n",
              "      <td>(50, 100]</td>\n",
              "      <td>services</td>\n",
              "      <td>married</td>\n",
              "      <td>high.school</td>\n",
              "      <td>no</td>\n",
              "      <td>telephone</td>\n",
              "      <td>may</td>\n",
              "      <td>mon</td>\n",
              "      <td>307.00</td>\n",
              "      <td>1.00</td>\n",
              "      <td>999.00</td>\n",
              "      <td>0.00</td>\n",
              "      <td>nonexistent</td>\n",
              "      <td>1.10</td>\n",
              "      <td>93.99</td>\n",
              "      <td>-36.40</td>\n",
              "      <td>4.86</td>\n",
              "      <td>5,191.00</td>\n",
              "      <td>0</td>\n",
              "    </tr>\n",
              "    <tr>\n",
              "      <th>...</th>\n",
              "      <td>...</td>\n",
              "      <td>...</td>\n",
              "      <td>...</td>\n",
              "      <td>...</td>\n",
              "      <td>...</td>\n",
              "      <td>...</td>\n",
              "      <td>...</td>\n",
              "      <td>...</td>\n",
              "      <td>...</td>\n",
              "      <td>...</td>\n",
              "      <td>...</td>\n",
              "      <td>...</td>\n",
              "      <td>...</td>\n",
              "      <td>...</td>\n",
              "      <td>...</td>\n",
              "      <td>...</td>\n",
              "      <td>...</td>\n",
              "      <td>...</td>\n",
              "      <td>...</td>\n",
              "    </tr>\n",
              "    <tr>\n",
              "      <th>41181</th>\n",
              "      <td>(0, 50]</td>\n",
              "      <td>admin.</td>\n",
              "      <td>married</td>\n",
              "      <td>university.degree</td>\n",
              "      <td>no</td>\n",
              "      <td>cellular</td>\n",
              "      <td>nov</td>\n",
              "      <td>fri</td>\n",
              "      <td>281.00</td>\n",
              "      <td>1.00</td>\n",
              "      <td>999.00</td>\n",
              "      <td>0.00</td>\n",
              "      <td>nonexistent</td>\n",
              "      <td>-1.10</td>\n",
              "      <td>94.77</td>\n",
              "      <td>-50.80</td>\n",
              "      <td>1.03</td>\n",
              "      <td>4,963.60</td>\n",
              "      <td>1</td>\n",
              "    </tr>\n",
              "    <tr>\n",
              "      <th>41182</th>\n",
              "      <td>(0, 50]</td>\n",
              "      <td>unemployed</td>\n",
              "      <td>single</td>\n",
              "      <td>basic.4y</td>\n",
              "      <td>no</td>\n",
              "      <td>cellular</td>\n",
              "      <td>nov</td>\n",
              "      <td>fri</td>\n",
              "      <td>112.00</td>\n",
              "      <td>1.00</td>\n",
              "      <td>9.00</td>\n",
              "      <td>1.00</td>\n",
              "      <td>success</td>\n",
              "      <td>-1.10</td>\n",
              "      <td>94.77</td>\n",
              "      <td>-50.80</td>\n",
              "      <td>1.03</td>\n",
              "      <td>4,963.60</td>\n",
              "      <td>0</td>\n",
              "    </tr>\n",
              "    <tr>\n",
              "      <th>41184</th>\n",
              "      <td>(0, 50]</td>\n",
              "      <td>blue-collar</td>\n",
              "      <td>married</td>\n",
              "      <td>professional.course</td>\n",
              "      <td>no</td>\n",
              "      <td>cellular</td>\n",
              "      <td>nov</td>\n",
              "      <td>fri</td>\n",
              "      <td>383.00</td>\n",
              "      <td>1.00</td>\n",
              "      <td>999.00</td>\n",
              "      <td>0.00</td>\n",
              "      <td>nonexistent</td>\n",
              "      <td>-1.10</td>\n",
              "      <td>94.77</td>\n",
              "      <td>-50.80</td>\n",
              "      <td>1.03</td>\n",
              "      <td>4,963.60</td>\n",
              "      <td>0</td>\n",
              "    </tr>\n",
              "    <tr>\n",
              "      <th>41185</th>\n",
              "      <td>(50, 100]</td>\n",
              "      <td>retired</td>\n",
              "      <td>married</td>\n",
              "      <td>university.degree</td>\n",
              "      <td>no</td>\n",
              "      <td>cellular</td>\n",
              "      <td>nov</td>\n",
              "      <td>fri</td>\n",
              "      <td>189.00</td>\n",
              "      <td>2.00</td>\n",
              "      <td>999.00</td>\n",
              "      <td>0.00</td>\n",
              "      <td>nonexistent</td>\n",
              "      <td>-1.10</td>\n",
              "      <td>94.77</td>\n",
              "      <td>-50.80</td>\n",
              "      <td>1.03</td>\n",
              "      <td>4,963.60</td>\n",
              "      <td>0</td>\n",
              "    </tr>\n",
              "    <tr>\n",
              "      <th>41186</th>\n",
              "      <td>(0, 50]</td>\n",
              "      <td>technician</td>\n",
              "      <td>married</td>\n",
              "      <td>professional.course</td>\n",
              "      <td>no</td>\n",
              "      <td>cellular</td>\n",
              "      <td>nov</td>\n",
              "      <td>fri</td>\n",
              "      <td>442.00</td>\n",
              "      <td>1.00</td>\n",
              "      <td>999.00</td>\n",
              "      <td>0.00</td>\n",
              "      <td>nonexistent</td>\n",
              "      <td>-1.10</td>\n",
              "      <td>94.77</td>\n",
              "      <td>-50.80</td>\n",
              "      <td>1.03</td>\n",
              "      <td>4,963.60</td>\n",
              "      <td>1</td>\n",
              "    </tr>\n",
              "  </tbody>\n",
              "</table>\n",
              "<p>35176 rows × 19 columns</p>\n",
              "</div>"
            ],
            "text/plain": [
              "             age          job  marital            education  default  \\\n",
              "0      (50, 100]    housemaid  married             basic.4y       no   \n",
              "1      (50, 100]     services  married          high.school  unknown   \n",
              "2        (0, 50]     services  married          high.school       no   \n",
              "3        (0, 50]       admin.  married             basic.6y       no   \n",
              "4      (50, 100]     services  married          high.school       no   \n",
              "...          ...          ...      ...                  ...      ...   \n",
              "41181    (0, 50]       admin.  married    university.degree       no   \n",
              "41182    (0, 50]   unemployed   single             basic.4y       no   \n",
              "41184    (0, 50]  blue-collar  married  professional.course       no   \n",
              "41185  (50, 100]      retired  married    university.degree       no   \n",
              "41186    (0, 50]   technician  married  professional.course       no   \n",
              "\n",
              "         contact month day_of_week             duration             campaign  \\\n",
              "0      telephone   may         mon               261.00                 1.00   \n",
              "1      telephone   may         mon               149.00                 1.00   \n",
              "2      telephone   may         mon               226.00                 1.00   \n",
              "3      telephone   may         mon               151.00                 1.00   \n",
              "4      telephone   may         mon               307.00                 1.00   \n",
              "...          ...   ...         ...                  ...                  ...   \n",
              "41181   cellular   nov         fri               281.00                 1.00   \n",
              "41182   cellular   nov         fri               112.00                 1.00   \n",
              "41184   cellular   nov         fri               383.00                 1.00   \n",
              "41185   cellular   nov         fri               189.00                 2.00   \n",
              "41186   cellular   nov         fri               442.00                 1.00   \n",
              "\n",
              "                     pdays             previous     poutcome  \\\n",
              "0                   999.00                 0.00  nonexistent   \n",
              "1                   999.00                 0.00  nonexistent   \n",
              "2                   999.00                 0.00  nonexistent   \n",
              "3                   999.00                 0.00  nonexistent   \n",
              "4                   999.00                 0.00  nonexistent   \n",
              "...                    ...                  ...          ...   \n",
              "41181               999.00                 0.00  nonexistent   \n",
              "41182                 9.00                 1.00      success   \n",
              "41184               999.00                 0.00  nonexistent   \n",
              "41185               999.00                 0.00  nonexistent   \n",
              "41186               999.00                 0.00  nonexistent   \n",
              "\n",
              "              emp.var.rate       cons.price.idx        cons.conf.idx  \\\n",
              "0                     1.10                93.99               -36.40   \n",
              "1                     1.10                93.99               -36.40   \n",
              "2                     1.10                93.99               -36.40   \n",
              "3                     1.10                93.99               -36.40   \n",
              "4                     1.10                93.99               -36.40   \n",
              "...                    ...                  ...                  ...   \n",
              "41181                -1.10                94.77               -50.80   \n",
              "41182                -1.10                94.77               -50.80   \n",
              "41184                -1.10                94.77               -50.80   \n",
              "41185                -1.10                94.77               -50.80   \n",
              "41186                -1.10                94.77               -50.80   \n",
              "\n",
              "                 euribor3m          nr.employed  y  \n",
              "0                     4.86             5,191.00  0  \n",
              "1                     4.86             5,191.00  0  \n",
              "2                     4.86             5,191.00  0  \n",
              "3                     4.86             5,191.00  0  \n",
              "4                     4.86             5,191.00  0  \n",
              "...                    ...                  ... ..  \n",
              "41181                 1.03             4,963.60  1  \n",
              "41182                 1.03             4,963.60  0  \n",
              "41184                 1.03             4,963.60  0  \n",
              "41185                 1.03             4,963.60  0  \n",
              "41186                 1.03             4,963.60  1  \n",
              "\n",
              "[35176 rows x 19 columns]"
            ]
          },
          "execution_count": 162,
          "metadata": {},
          "output_type": "execute_result"
        }
      ],
      "source": [
        "data"
      ]
    },
    {
      "cell_type": "code",
      "execution_count": null,
      "id": "92d512cd",
      "metadata": {
        "id": "92d512cd"
      },
      "outputs": [],
      "source": []
    },
    {
      "cell_type": "code",
      "execution_count": null,
      "id": "c33b0df3",
      "metadata": {
        "id": "c33b0df3",
        "scrolled": true,
        "outputId": "83ea6fc6-9873-40c2-bc5f-329a3a133dff"
      },
      "outputs": [
        {
          "name": "stderr",
          "output_type": "stream",
          "text": [
            "C:\\Users\\Admin\\anaconda3\\new ann\\New folder (2)\\lib\\site-packages\\pandas\\core\\arraylike.py:364: RuntimeWarning: divide by zero encountered in log\n",
            "  result = getattr(ufunc, method)(*inputs, **kwargs)\n"
          ]
        },
        {
          "data": {
            "text/html": [
              "<div>\n",
              "<style scoped>\n",
              "    .dataframe tbody tr th:only-of-type {\n",
              "        vertical-align: middle;\n",
              "    }\n",
              "\n",
              "    .dataframe tbody tr th {\n",
              "        vertical-align: top;\n",
              "    }\n",
              "\n",
              "    .dataframe thead th {\n",
              "        text-align: right;\n",
              "    }\n",
              "</style>\n",
              "<table border=\"1\" class=\"dataframe\">\n",
              "  <thead>\n",
              "    <tr style=\"text-align: right;\">\n",
              "      <th></th>\n",
              "      <th>Feature</th>\n",
              "      <th>IV-Score</th>\n",
              "    </tr>\n",
              "  </thead>\n",
              "  <tbody>\n",
              "    <tr>\n",
              "      <th>0</th>\n",
              "      <td>age</td>\n",
              "      <td>0.02</td>\n",
              "    </tr>\n",
              "    <tr>\n",
              "      <th>1</th>\n",
              "      <td>job</td>\n",
              "      <td>0.29</td>\n",
              "    </tr>\n",
              "    <tr>\n",
              "      <th>2</th>\n",
              "      <td>marital</td>\n",
              "      <td>0.07</td>\n",
              "    </tr>\n",
              "    <tr>\n",
              "      <th>3</th>\n",
              "      <td>education</td>\n",
              "      <td>0.12</td>\n",
              "    </tr>\n",
              "    <tr>\n",
              "      <th>4</th>\n",
              "      <td>default</td>\n",
              "      <td>0.28</td>\n",
              "    </tr>\n",
              "    <tr>\n",
              "      <th>5</th>\n",
              "      <td>contact</td>\n",
              "      <td>0.39</td>\n",
              "    </tr>\n",
              "    <tr>\n",
              "      <th>6</th>\n",
              "      <td>month</td>\n",
              "      <td>0.77</td>\n",
              "    </tr>\n",
              "    <tr>\n",
              "      <th>7</th>\n",
              "      <td>day_of_week</td>\n",
              "      <td>0.01</td>\n",
              "    </tr>\n",
              "    <tr>\n",
              "      <th>8</th>\n",
              "      <td>poutcome</td>\n",
              "      <td>0.84</td>\n",
              "    </tr>\n",
              "  </tbody>\n",
              "</table>\n",
              "</div>"
            ],
            "text/plain": [
              "       Feature             IV-Score\n",
              "0          age                 0.02\n",
              "1          job                 0.29\n",
              "2      marital                 0.07\n",
              "3    education                 0.12\n",
              "4      default                 0.28\n",
              "5      contact                 0.39\n",
              "6        month                 0.77\n",
              "7  day_of_week                 0.01\n",
              "8     poutcome                 0.84"
            ]
          },
          "execution_count": 163,
          "metadata": {},
          "output_type": "execute_result"
        }
      ],
      "source": [
        "col_list = list(data.columns)\n",
        "for col in col_list:\n",
        "    if col == 'y':\n",
        "        continue\n",
        "    elif data[col].dtype == 'object':\n",
        "        df, iv = calculate_woe_iv(data, col, 'y')\n",
        "        df_new=df_new.append({'Feature':col, 'IV-Score': iv}, ignore_index=True)\n",
        "df_new"
      ]
    },
    {
      "cell_type": "raw",
      "id": "042aef20",
      "metadata": {
        "id": "042aef20"
      },
      "source": [
        "\n",
        "You can observe that these features (age, marital,education,day_of_week) have less predictive power ,henceforth we will be  dropping those columns"
      ]
    },
    {
      "cell_type": "code",
      "execution_count": null,
      "id": "9ee55feb",
      "metadata": {
        "id": "9ee55feb"
      },
      "outputs": [],
      "source": [
        "###Drop fields with low IV\n",
        "data.drop(columns = ['age', 'marital', 'education', 'day_of_week'],inplace = True)"
      ]
    },
    {
      "cell_type": "code",
      "execution_count": null,
      "id": "ea23f2b4",
      "metadata": {
        "id": "ea23f2b4",
        "outputId": "18db56ce-5619-4781-9b5f-9f57957a5cd5"
      },
      "outputs": [
        {
          "data": {
            "text/plain": [
              "Index(['job', 'default', 'contact', 'month', 'duration', 'campaign', 'pdays',\n",
              "       'previous', 'poutcome', 'emp.var.rate', 'cons.price.idx',\n",
              "       'cons.conf.idx', 'euribor3m', 'nr.employed', 'y'],\n",
              "      dtype='object')"
            ]
          },
          "execution_count": 165,
          "metadata": {},
          "output_type": "execute_result"
        }
      ],
      "source": [
        "data.columns"
      ]
    },
    {
      "cell_type": "code",
      "execution_count": null,
      "id": "1bca80db",
      "metadata": {
        "id": "1bca80db",
        "outputId": "cfbb78fa-42c3-4665-ce6d-557186a3e2bc"
      },
      "outputs": [
        {
          "data": {
            "text/plain": [
              "job                object\n",
              "default            object\n",
              "contact            object\n",
              "month              object\n",
              "duration          float64\n",
              "campaign          float64\n",
              "pdays             float64\n",
              "previous          float64\n",
              "poutcome           object\n",
              "emp.var.rate      float64\n",
              "cons.price.idx    float64\n",
              "cons.conf.idx     float64\n",
              "euribor3m         float64\n",
              "nr.employed       float64\n",
              "y                   int32\n",
              "dtype: object"
            ]
          },
          "execution_count": 166,
          "metadata": {},
          "output_type": "execute_result"
        }
      ],
      "source": [
        "data.dtypes"
      ]
    },
    {
      "cell_type": "markdown",
      "id": "dbac721a",
      "metadata": {
        "id": "dbac721a"
      },
      "source": [
        "# Label encoding"
      ]
    },
    {
      "cell_type": "code",
      "execution_count": null,
      "id": "90251853",
      "metadata": {
        "id": "90251853"
      },
      "outputs": [],
      "source": [
        "col_list = []\n",
        "for col in data.columns:\n",
        "    if ((data[col].dtype == 'object') & (col != 'y') ):\n",
        "        col_list.append(col)\n",
        "from sklearn.preprocessing import LabelEncoder\n",
        "labelencoder = LabelEncoder()\n",
        "for i in col_list:\n",
        "    data[i]=labelencoder.fit_transform(data[i])"
      ]
    },
    {
      "cell_type": "code",
      "execution_count": null,
      "id": "6ba1fef3",
      "metadata": {
        "id": "6ba1fef3",
        "outputId": "cbca96c0-f019-4a9a-cdaf-60b8ca634d1e"
      },
      "outputs": [
        {
          "data": {
            "text/html": [
              "<div>\n",
              "<style scoped>\n",
              "    .dataframe tbody tr th:only-of-type {\n",
              "        vertical-align: middle;\n",
              "    }\n",
              "\n",
              "    .dataframe tbody tr th {\n",
              "        vertical-align: top;\n",
              "    }\n",
              "\n",
              "    .dataframe thead th {\n",
              "        text-align: right;\n",
              "    }\n",
              "</style>\n",
              "<table border=\"1\" class=\"dataframe\">\n",
              "  <thead>\n",
              "    <tr style=\"text-align: right;\">\n",
              "      <th></th>\n",
              "      <th>job</th>\n",
              "      <th>default</th>\n",
              "      <th>contact</th>\n",
              "      <th>month</th>\n",
              "      <th>duration</th>\n",
              "      <th>campaign</th>\n",
              "      <th>pdays</th>\n",
              "      <th>previous</th>\n",
              "      <th>poutcome</th>\n",
              "      <th>emp.var.rate</th>\n",
              "      <th>cons.price.idx</th>\n",
              "      <th>cons.conf.idx</th>\n",
              "      <th>euribor3m</th>\n",
              "      <th>nr.employed</th>\n",
              "      <th>y</th>\n",
              "    </tr>\n",
              "  </thead>\n",
              "  <tbody>\n",
              "    <tr>\n",
              "      <th>0</th>\n",
              "      <td>3</td>\n",
              "      <td>0</td>\n",
              "      <td>1</td>\n",
              "      <td>6</td>\n",
              "      <td>261.00</td>\n",
              "      <td>1.00</td>\n",
              "      <td>999.00</td>\n",
              "      <td>0.00</td>\n",
              "      <td>1</td>\n",
              "      <td>1.10</td>\n",
              "      <td>93.99</td>\n",
              "      <td>-36.40</td>\n",
              "      <td>4.86</td>\n",
              "      <td>5,191.00</td>\n",
              "      <td>0</td>\n",
              "    </tr>\n",
              "    <tr>\n",
              "      <th>1</th>\n",
              "      <td>7</td>\n",
              "      <td>1</td>\n",
              "      <td>1</td>\n",
              "      <td>6</td>\n",
              "      <td>149.00</td>\n",
              "      <td>1.00</td>\n",
              "      <td>999.00</td>\n",
              "      <td>0.00</td>\n",
              "      <td>1</td>\n",
              "      <td>1.10</td>\n",
              "      <td>93.99</td>\n",
              "      <td>-36.40</td>\n",
              "      <td>4.86</td>\n",
              "      <td>5,191.00</td>\n",
              "      <td>0</td>\n",
              "    </tr>\n",
              "    <tr>\n",
              "      <th>2</th>\n",
              "      <td>7</td>\n",
              "      <td>0</td>\n",
              "      <td>1</td>\n",
              "      <td>6</td>\n",
              "      <td>226.00</td>\n",
              "      <td>1.00</td>\n",
              "      <td>999.00</td>\n",
              "      <td>0.00</td>\n",
              "      <td>1</td>\n",
              "      <td>1.10</td>\n",
              "      <td>93.99</td>\n",
              "      <td>-36.40</td>\n",
              "      <td>4.86</td>\n",
              "      <td>5,191.00</td>\n",
              "      <td>0</td>\n",
              "    </tr>\n",
              "    <tr>\n",
              "      <th>3</th>\n",
              "      <td>0</td>\n",
              "      <td>0</td>\n",
              "      <td>1</td>\n",
              "      <td>6</td>\n",
              "      <td>151.00</td>\n",
              "      <td>1.00</td>\n",
              "      <td>999.00</td>\n",
              "      <td>0.00</td>\n",
              "      <td>1</td>\n",
              "      <td>1.10</td>\n",
              "      <td>93.99</td>\n",
              "      <td>-36.40</td>\n",
              "      <td>4.86</td>\n",
              "      <td>5,191.00</td>\n",
              "      <td>0</td>\n",
              "    </tr>\n",
              "    <tr>\n",
              "      <th>4</th>\n",
              "      <td>7</td>\n",
              "      <td>0</td>\n",
              "      <td>1</td>\n",
              "      <td>6</td>\n",
              "      <td>307.00</td>\n",
              "      <td>1.00</td>\n",
              "      <td>999.00</td>\n",
              "      <td>0.00</td>\n",
              "      <td>1</td>\n",
              "      <td>1.10</td>\n",
              "      <td>93.99</td>\n",
              "      <td>-36.40</td>\n",
              "      <td>4.86</td>\n",
              "      <td>5,191.00</td>\n",
              "      <td>0</td>\n",
              "    </tr>\n",
              "    <tr>\n",
              "      <th>...</th>\n",
              "      <td>...</td>\n",
              "      <td>...</td>\n",
              "      <td>...</td>\n",
              "      <td>...</td>\n",
              "      <td>...</td>\n",
              "      <td>...</td>\n",
              "      <td>...</td>\n",
              "      <td>...</td>\n",
              "      <td>...</td>\n",
              "      <td>...</td>\n",
              "      <td>...</td>\n",
              "      <td>...</td>\n",
              "      <td>...</td>\n",
              "      <td>...</td>\n",
              "      <td>...</td>\n",
              "    </tr>\n",
              "    <tr>\n",
              "      <th>41181</th>\n",
              "      <td>0</td>\n",
              "      <td>0</td>\n",
              "      <td>0</td>\n",
              "      <td>7</td>\n",
              "      <td>281.00</td>\n",
              "      <td>1.00</td>\n",
              "      <td>999.00</td>\n",
              "      <td>0.00</td>\n",
              "      <td>1</td>\n",
              "      <td>-1.10</td>\n",
              "      <td>94.77</td>\n",
              "      <td>-50.80</td>\n",
              "      <td>1.03</td>\n",
              "      <td>4,963.60</td>\n",
              "      <td>1</td>\n",
              "    </tr>\n",
              "    <tr>\n",
              "      <th>41182</th>\n",
              "      <td>10</td>\n",
              "      <td>0</td>\n",
              "      <td>0</td>\n",
              "      <td>7</td>\n",
              "      <td>112.00</td>\n",
              "      <td>1.00</td>\n",
              "      <td>9.00</td>\n",
              "      <td>1.00</td>\n",
              "      <td>2</td>\n",
              "      <td>-1.10</td>\n",
              "      <td>94.77</td>\n",
              "      <td>-50.80</td>\n",
              "      <td>1.03</td>\n",
              "      <td>4,963.60</td>\n",
              "      <td>0</td>\n",
              "    </tr>\n",
              "    <tr>\n",
              "      <th>41184</th>\n",
              "      <td>1</td>\n",
              "      <td>0</td>\n",
              "      <td>0</td>\n",
              "      <td>7</td>\n",
              "      <td>383.00</td>\n",
              "      <td>1.00</td>\n",
              "      <td>999.00</td>\n",
              "      <td>0.00</td>\n",
              "      <td>1</td>\n",
              "      <td>-1.10</td>\n",
              "      <td>94.77</td>\n",
              "      <td>-50.80</td>\n",
              "      <td>1.03</td>\n",
              "      <td>4,963.60</td>\n",
              "      <td>0</td>\n",
              "    </tr>\n",
              "    <tr>\n",
              "      <th>41185</th>\n",
              "      <td>5</td>\n",
              "      <td>0</td>\n",
              "      <td>0</td>\n",
              "      <td>7</td>\n",
              "      <td>189.00</td>\n",
              "      <td>2.00</td>\n",
              "      <td>999.00</td>\n",
              "      <td>0.00</td>\n",
              "      <td>1</td>\n",
              "      <td>-1.10</td>\n",
              "      <td>94.77</td>\n",
              "      <td>-50.80</td>\n",
              "      <td>1.03</td>\n",
              "      <td>4,963.60</td>\n",
              "      <td>0</td>\n",
              "    </tr>\n",
              "    <tr>\n",
              "      <th>41186</th>\n",
              "      <td>9</td>\n",
              "      <td>0</td>\n",
              "      <td>0</td>\n",
              "      <td>7</td>\n",
              "      <td>442.00</td>\n",
              "      <td>1.00</td>\n",
              "      <td>999.00</td>\n",
              "      <td>0.00</td>\n",
              "      <td>1</td>\n",
              "      <td>-1.10</td>\n",
              "      <td>94.77</td>\n",
              "      <td>-50.80</td>\n",
              "      <td>1.03</td>\n",
              "      <td>4,963.60</td>\n",
              "      <td>1</td>\n",
              "    </tr>\n",
              "  </tbody>\n",
              "</table>\n",
              "<p>35176 rows × 15 columns</p>\n",
              "</div>"
            ],
            "text/plain": [
              "       job  default  contact  month             duration             campaign  \\\n",
              "0        3        0        1      6               261.00                 1.00   \n",
              "1        7        1        1      6               149.00                 1.00   \n",
              "2        7        0        1      6               226.00                 1.00   \n",
              "3        0        0        1      6               151.00                 1.00   \n",
              "4        7        0        1      6               307.00                 1.00   \n",
              "...    ...      ...      ...    ...                  ...                  ...   \n",
              "41181    0        0        0      7               281.00                 1.00   \n",
              "41182   10        0        0      7               112.00                 1.00   \n",
              "41184    1        0        0      7               383.00                 1.00   \n",
              "41185    5        0        0      7               189.00                 2.00   \n",
              "41186    9        0        0      7               442.00                 1.00   \n",
              "\n",
              "                     pdays             previous  poutcome  \\\n",
              "0                   999.00                 0.00         1   \n",
              "1                   999.00                 0.00         1   \n",
              "2                   999.00                 0.00         1   \n",
              "3                   999.00                 0.00         1   \n",
              "4                   999.00                 0.00         1   \n",
              "...                    ...                  ...       ...   \n",
              "41181               999.00                 0.00         1   \n",
              "41182                 9.00                 1.00         2   \n",
              "41184               999.00                 0.00         1   \n",
              "41185               999.00                 0.00         1   \n",
              "41186               999.00                 0.00         1   \n",
              "\n",
              "              emp.var.rate       cons.price.idx        cons.conf.idx  \\\n",
              "0                     1.10                93.99               -36.40   \n",
              "1                     1.10                93.99               -36.40   \n",
              "2                     1.10                93.99               -36.40   \n",
              "3                     1.10                93.99               -36.40   \n",
              "4                     1.10                93.99               -36.40   \n",
              "...                    ...                  ...                  ...   \n",
              "41181                -1.10                94.77               -50.80   \n",
              "41182                -1.10                94.77               -50.80   \n",
              "41184                -1.10                94.77               -50.80   \n",
              "41185                -1.10                94.77               -50.80   \n",
              "41186                -1.10                94.77               -50.80   \n",
              "\n",
              "                 euribor3m          nr.employed  y  \n",
              "0                     4.86             5,191.00  0  \n",
              "1                     4.86             5,191.00  0  \n",
              "2                     4.86             5,191.00  0  \n",
              "3                     4.86             5,191.00  0  \n",
              "4                     4.86             5,191.00  0  \n",
              "...                    ...                  ... ..  \n",
              "41181                 1.03             4,963.60  1  \n",
              "41182                 1.03             4,963.60  0  \n",
              "41184                 1.03             4,963.60  0  \n",
              "41185                 1.03             4,963.60  0  \n",
              "41186                 1.03             4,963.60  1  \n",
              "\n",
              "[35176 rows x 15 columns]"
            ]
          },
          "execution_count": 168,
          "metadata": {},
          "output_type": "execute_result"
        }
      ],
      "source": [
        "data"
      ]
    },
    {
      "cell_type": "markdown",
      "id": "d96296ab",
      "metadata": {
        "id": "d96296ab"
      },
      "source": [
        "# 3.VIF\n",
        "\n",
        "A variance inflation factor (VIF) is  a measure of multicollinearity among the independent variables in a multiple regression model.\n",
        "\n",
        "\n",
        "Finding  multicollinearity is important because while multicollinearity does not reduce the explanatory power of the model, it does reduce the statistical significance of the independent variables.\n",
        "\n",
        "\n",
        "A large variance inflation factor (VIF) on an independent variable indicates a highly collinear relationship to the other variables that should be considered or adjusted for in the structure of the model and selection of independent variables.\n",
        "\n",
        "\n",
        "So we'll consider the VIF values <=5 ,rest all we'll remove the featuers with value >5.\n"
      ]
    },
    {
      "cell_type": "code",
      "execution_count": null,
      "id": "7e01c0a7",
      "metadata": {
        "id": "7e01c0a7",
        "outputId": "89b5de1d-5e8a-4f4f-d2ea-bba49b703c9c"
      },
      "outputs": [
        {
          "name": "stdout",
          "output_type": "stream",
          "text": [
            "           feature                  VIF\n",
            "0              job                 2.06\n",
            "1          default                 1.33\n",
            "2          contact                 2.91\n",
            "3            month                 6.63\n",
            "4         duration                 3.23\n",
            "5         campaign                 3.60\n",
            "6            pdays               174.89\n",
            "7         previous                 6.07\n",
            "8         poutcome                34.92\n",
            "9     emp.var.rate                37.46\n",
            "10  cons.price.idx            37,747.95\n",
            "11   cons.conf.idx               141.62\n",
            "12       euribor3m               321.81\n",
            "13     nr.employed            43,073.42\n"
          ]
        }
      ],
      "source": [
        "\n",
        "\n",
        "from statsmodels.stats.outliers_influence import variance_inflation_factor\n",
        "col_list = []\n",
        "for col in data.columns:\n",
        "    if ((data[col].dtype != 'object') & (col != 'y') ):\n",
        "        col_list.append(col)\n",
        "\n",
        "X = data[col_list]\n",
        "vif_data = pd.DataFrame()\n",
        "vif_data[\"feature\"] = X.columns\n",
        "vif_data[\"VIF\"] = [variance_inflation_factor(X.values, i)\n",
        "                          for i in range(len(X.columns))]\n",
        "print(vif_data)"
      ]
    },
    {
      "cell_type": "code",
      "execution_count": null,
      "id": "9147548e",
      "metadata": {
        "id": "9147548e"
      },
      "outputs": [],
      "source": [
        "data=data.drop(['nr.employed'], axis = 1)"
      ]
    },
    {
      "cell_type": "code",
      "execution_count": null,
      "id": "a0c43448",
      "metadata": {
        "id": "a0c43448",
        "outputId": "cae95a6a-3013-4276-dde6-e6221ca86550"
      },
      "outputs": [
        {
          "name": "stdout",
          "output_type": "stream",
          "text": [
            "           feature                  VIF\n",
            "0              job                 2.06\n",
            "1          default                 1.33\n",
            "2          contact                 2.41\n",
            "3            month                 5.74\n",
            "4         duration                 3.22\n",
            "5         campaign                 3.59\n",
            "6            pdays               174.85\n",
            "7         previous                 5.97\n",
            "8         poutcome                34.66\n",
            "9     emp.var.rate                22.21\n",
            "10  cons.price.idx               676.05\n",
            "11   cons.conf.idx               122.69\n",
            "12       euribor3m               130.38\n"
          ]
        }
      ],
      "source": [
        "col_list = []\n",
        "for col in data.columns:\n",
        "    if ((data[col].dtype != 'object') & (col != 'y') ):\n",
        "        col_list.append(col)\n",
        "\n",
        "X = data[col_list]\n",
        "vif_data = pd.DataFrame()\n",
        "vif_data[\"feature\"] = X.columns\n",
        "vif_data[\"VIF\"] = [variance_inflation_factor(X.values, i)\n",
        "                          for i in range(len(X.columns))]\n",
        "print(vif_data)"
      ]
    },
    {
      "cell_type": "code",
      "execution_count": null,
      "id": "263fa8ad",
      "metadata": {
        "id": "263fa8ad"
      },
      "outputs": [],
      "source": [
        "data=data.drop(['cons.price.idx'], axis = 1)"
      ]
    },
    {
      "cell_type": "code",
      "execution_count": null,
      "id": "26e35cae",
      "metadata": {
        "id": "26e35cae",
        "outputId": "5fb05798-7232-4aff-b102-9e0ba25d4f6d"
      },
      "outputs": [
        {
          "name": "stdout",
          "output_type": "stream",
          "text": [
            "          feature                  VIF\n",
            "0             job                 2.05\n",
            "1         default                 1.32\n",
            "2         contact                 2.26\n",
            "3           month                 5.57\n",
            "4        duration                 3.17\n",
            "5        campaign                 3.55\n",
            "6        previous                 1.46\n",
            "7        poutcome                 7.91\n",
            "8    emp.var.rate                10.85\n",
            "9   cons.conf.idx                37.28\n",
            "10      euribor3m                50.72\n"
          ]
        }
      ],
      "source": [
        "col_list = []\n",
        "for col in data.columns:\n",
        "    if ((data[col].dtype != 'object') & (col != 'y') ):\n",
        "        col_list.append(col)\n",
        "\n",
        "X = data[col_list]\n",
        "vif_data = pd.DataFrame()\n",
        "vif_data[\"feature\"] = X.columns\n",
        "vif_data[\"VIF\"] = [variance_inflation_factor(X.values, i)\n",
        "                          for i in range(len(X.columns))]\n",
        "print(vif_data)"
      ]
    },
    {
      "cell_type": "code",
      "execution_count": null,
      "id": "cfb08b33",
      "metadata": {
        "id": "cfb08b33"
      },
      "outputs": [],
      "source": [
        "data=data.drop(['euribor3m'], axis = 1)"
      ]
    },
    {
      "cell_type": "code",
      "execution_count": null,
      "id": "13f66b68",
      "metadata": {
        "id": "13f66b68",
        "outputId": "51bef1cd-065e-48b9-ad48-b1d31a92f0ce"
      },
      "outputs": [
        {
          "name": "stdout",
          "output_type": "stream",
          "text": [
            "         feature                  VIF\n",
            "0            job                 2.02\n",
            "1        default                 1.32\n",
            "2        contact                 2.25\n",
            "3          month                 5.24\n",
            "4       duration                 3.16\n",
            "5       campaign                 3.54\n",
            "6       previous                 1.46\n",
            "7       poutcome                 7.51\n",
            "8   emp.var.rate                 1.52\n",
            "9  cons.conf.idx                14.97\n"
          ]
        }
      ],
      "source": [
        "col_list = []\n",
        "for col in data.columns:\n",
        "    if ((data[col].dtype != 'object') & (col != 'y') ):\n",
        "        col_list.append(col)\n",
        "\n",
        "X = data[col_list]\n",
        "vif_data = pd.DataFrame()\n",
        "vif_data[\"feature\"] = X.columns\n",
        "vif_data[\"VIF\"] = [variance_inflation_factor(X.values, i)\n",
        "                          for i in range(len(X.columns))]\n",
        "print(vif_data)"
      ]
    },
    {
      "cell_type": "code",
      "execution_count": null,
      "id": "b44dc4a4",
      "metadata": {
        "id": "b44dc4a4"
      },
      "outputs": [],
      "source": [
        "data=data.drop(['cons.conf.idx'], axis = 1)"
      ]
    },
    {
      "cell_type": "code",
      "execution_count": null,
      "id": "54976525",
      "metadata": {
        "id": "54976525",
        "outputId": "6c88e901-da1d-4a62-943b-d0e11b3cbe2c"
      },
      "outputs": [
        {
          "name": "stdout",
          "output_type": "stream",
          "text": [
            "        feature                  VIF\n",
            "0           job                 1.93\n",
            "1       default                 1.30\n",
            "2       contact                 2.22\n",
            "3         month                 4.29\n",
            "4      duration                 2.88\n",
            "5      campaign                 3.02\n",
            "6      previous                 1.40\n",
            "7      poutcome                 5.07\n",
            "8  emp.var.rate                 1.52\n"
          ]
        }
      ],
      "source": [
        "col_list = []\n",
        "for col in data.columns:\n",
        "    if ((data[col].dtype != 'object') & (col != 'y') ):\n",
        "        col_list.append(col)\n",
        "\n",
        "X = data[col_list]\n",
        "vif_data = pd.DataFrame()\n",
        "vif_data[\"feature\"] = X.columns\n",
        "vif_data[\"VIF\"] = [variance_inflation_factor(X.values, i)\n",
        "                          for i in range(len(X.columns))]\n",
        "print(vif_data)"
      ]
    },
    {
      "cell_type": "code",
      "execution_count": null,
      "id": "6c72e58c",
      "metadata": {
        "id": "6c72e58c",
        "outputId": "ec647f58-cfdc-4b5f-8785-691cc9d475b2"
      },
      "outputs": [
        {
          "data": {
            "text/html": [
              "<div>\n",
              "<style scoped>\n",
              "    .dataframe tbody tr th:only-of-type {\n",
              "        vertical-align: middle;\n",
              "    }\n",
              "\n",
              "    .dataframe tbody tr th {\n",
              "        vertical-align: top;\n",
              "    }\n",
              "\n",
              "    .dataframe thead th {\n",
              "        text-align: right;\n",
              "    }\n",
              "</style>\n",
              "<table border=\"1\" class=\"dataframe\">\n",
              "  <thead>\n",
              "    <tr style=\"text-align: right;\">\n",
              "      <th></th>\n",
              "      <th>job</th>\n",
              "      <th>default</th>\n",
              "      <th>contact</th>\n",
              "      <th>month</th>\n",
              "      <th>duration</th>\n",
              "      <th>campaign</th>\n",
              "      <th>previous</th>\n",
              "      <th>poutcome</th>\n",
              "      <th>emp.var.rate</th>\n",
              "      <th>y</th>\n",
              "    </tr>\n",
              "  </thead>\n",
              "  <tbody>\n",
              "    <tr>\n",
              "      <th>0</th>\n",
              "      <td>3</td>\n",
              "      <td>0</td>\n",
              "      <td>1</td>\n",
              "      <td>6</td>\n",
              "      <td>261.00</td>\n",
              "      <td>1.00</td>\n",
              "      <td>0.00</td>\n",
              "      <td>1</td>\n",
              "      <td>1.10</td>\n",
              "      <td>0</td>\n",
              "    </tr>\n",
              "    <tr>\n",
              "      <th>1</th>\n",
              "      <td>7</td>\n",
              "      <td>1</td>\n",
              "      <td>1</td>\n",
              "      <td>6</td>\n",
              "      <td>149.00</td>\n",
              "      <td>1.00</td>\n",
              "      <td>0.00</td>\n",
              "      <td>1</td>\n",
              "      <td>1.10</td>\n",
              "      <td>0</td>\n",
              "    </tr>\n",
              "    <tr>\n",
              "      <th>2</th>\n",
              "      <td>7</td>\n",
              "      <td>0</td>\n",
              "      <td>1</td>\n",
              "      <td>6</td>\n",
              "      <td>226.00</td>\n",
              "      <td>1.00</td>\n",
              "      <td>0.00</td>\n",
              "      <td>1</td>\n",
              "      <td>1.10</td>\n",
              "      <td>0</td>\n",
              "    </tr>\n",
              "    <tr>\n",
              "      <th>3</th>\n",
              "      <td>0</td>\n",
              "      <td>0</td>\n",
              "      <td>1</td>\n",
              "      <td>6</td>\n",
              "      <td>151.00</td>\n",
              "      <td>1.00</td>\n",
              "      <td>0.00</td>\n",
              "      <td>1</td>\n",
              "      <td>1.10</td>\n",
              "      <td>0</td>\n",
              "    </tr>\n",
              "    <tr>\n",
              "      <th>4</th>\n",
              "      <td>7</td>\n",
              "      <td>0</td>\n",
              "      <td>1</td>\n",
              "      <td>6</td>\n",
              "      <td>307.00</td>\n",
              "      <td>1.00</td>\n",
              "      <td>0.00</td>\n",
              "      <td>1</td>\n",
              "      <td>1.10</td>\n",
              "      <td>0</td>\n",
              "    </tr>\n",
              "    <tr>\n",
              "      <th>...</th>\n",
              "      <td>...</td>\n",
              "      <td>...</td>\n",
              "      <td>...</td>\n",
              "      <td>...</td>\n",
              "      <td>...</td>\n",
              "      <td>...</td>\n",
              "      <td>...</td>\n",
              "      <td>...</td>\n",
              "      <td>...</td>\n",
              "      <td>...</td>\n",
              "    </tr>\n",
              "    <tr>\n",
              "      <th>41181</th>\n",
              "      <td>0</td>\n",
              "      <td>0</td>\n",
              "      <td>0</td>\n",
              "      <td>7</td>\n",
              "      <td>281.00</td>\n",
              "      <td>1.00</td>\n",
              "      <td>0.00</td>\n",
              "      <td>1</td>\n",
              "      <td>-1.10</td>\n",
              "      <td>1</td>\n",
              "    </tr>\n",
              "    <tr>\n",
              "      <th>41182</th>\n",
              "      <td>10</td>\n",
              "      <td>0</td>\n",
              "      <td>0</td>\n",
              "      <td>7</td>\n",
              "      <td>112.00</td>\n",
              "      <td>1.00</td>\n",
              "      <td>1.00</td>\n",
              "      <td>2</td>\n",
              "      <td>-1.10</td>\n",
              "      <td>0</td>\n",
              "    </tr>\n",
              "    <tr>\n",
              "      <th>41184</th>\n",
              "      <td>1</td>\n",
              "      <td>0</td>\n",
              "      <td>0</td>\n",
              "      <td>7</td>\n",
              "      <td>383.00</td>\n",
              "      <td>1.00</td>\n",
              "      <td>0.00</td>\n",
              "      <td>1</td>\n",
              "      <td>-1.10</td>\n",
              "      <td>0</td>\n",
              "    </tr>\n",
              "    <tr>\n",
              "      <th>41185</th>\n",
              "      <td>5</td>\n",
              "      <td>0</td>\n",
              "      <td>0</td>\n",
              "      <td>7</td>\n",
              "      <td>189.00</td>\n",
              "      <td>2.00</td>\n",
              "      <td>0.00</td>\n",
              "      <td>1</td>\n",
              "      <td>-1.10</td>\n",
              "      <td>0</td>\n",
              "    </tr>\n",
              "    <tr>\n",
              "      <th>41186</th>\n",
              "      <td>9</td>\n",
              "      <td>0</td>\n",
              "      <td>0</td>\n",
              "      <td>7</td>\n",
              "      <td>442.00</td>\n",
              "      <td>1.00</td>\n",
              "      <td>0.00</td>\n",
              "      <td>1</td>\n",
              "      <td>-1.10</td>\n",
              "      <td>1</td>\n",
              "    </tr>\n",
              "  </tbody>\n",
              "</table>\n",
              "<p>35176 rows × 10 columns</p>\n",
              "</div>"
            ],
            "text/plain": [
              "       job  default  contact  month             duration             campaign  \\\n",
              "0        3        0        1      6               261.00                 1.00   \n",
              "1        7        1        1      6               149.00                 1.00   \n",
              "2        7        0        1      6               226.00                 1.00   \n",
              "3        0        0        1      6               151.00                 1.00   \n",
              "4        7        0        1      6               307.00                 1.00   \n",
              "...    ...      ...      ...    ...                  ...                  ...   \n",
              "41181    0        0        0      7               281.00                 1.00   \n",
              "41182   10        0        0      7               112.00                 1.00   \n",
              "41184    1        0        0      7               383.00                 1.00   \n",
              "41185    5        0        0      7               189.00                 2.00   \n",
              "41186    9        0        0      7               442.00                 1.00   \n",
              "\n",
              "                  previous  poutcome         emp.var.rate  y  \n",
              "0                     0.00         1                 1.10  0  \n",
              "1                     0.00         1                 1.10  0  \n",
              "2                     0.00         1                 1.10  0  \n",
              "3                     0.00         1                 1.10  0  \n",
              "4                     0.00         1                 1.10  0  \n",
              "...                    ...       ...                  ... ..  \n",
              "41181                 0.00         1                -1.10  1  \n",
              "41182                 1.00         2                -1.10  0  \n",
              "41184                 0.00         1                -1.10  0  \n",
              "41185                 0.00         1                -1.10  0  \n",
              "41186                 0.00         1                -1.10  1  \n",
              "\n",
              "[35176 rows x 10 columns]"
            ]
          },
          "execution_count": 181,
          "metadata": {},
          "output_type": "execute_result"
        }
      ],
      "source": [
        "data"
      ]
    },
    {
      "cell_type": "markdown",
      "id": "db62817b",
      "metadata": {
        "id": "db62817b"
      },
      "source": [
        "# Model building"
      ]
    },
    {
      "cell_type": "code",
      "execution_count": null,
      "id": "fe904399",
      "metadata": {
        "id": "fe904399",
        "outputId": "1840a2b2-a023-4f57-92f0-811321b8f0f5",
        "colab": {
          "base_uri": "https://localhost:8080/",
          "height": 217
        }
      },
      "outputs": [
        {
          "output_type": "error",
          "ename": "NameError",
          "evalue": "ignored",
          "traceback": [
            "\u001b[0;31m---------------------------------------------------------------------------\u001b[0m",
            "\u001b[0;31mNameError\u001b[0m                                 Traceback (most recent call last)",
            "\u001b[0;32m<ipython-input-1-f34457162de9>\u001b[0m in \u001b[0;36m<module>\u001b[0;34m()\u001b[0m\n\u001b[0;32m----> 1\u001b[0;31m \u001b[0mInd_Features\u001b[0m \u001b[0;34m=\u001b[0m \u001b[0mlist\u001b[0m\u001b[0;34m(\u001b[0m\u001b[0mdata\u001b[0m\u001b[0;34m.\u001b[0m\u001b[0mcolumns\u001b[0m\u001b[0;34m)\u001b[0m\u001b[0;34m\u001b[0m\u001b[0;34m\u001b[0m\u001b[0m\n\u001b[0m\u001b[1;32m      2\u001b[0m \u001b[0mInd_Features\u001b[0m\u001b[0;34m.\u001b[0m\u001b[0mremove\u001b[0m\u001b[0;34m(\u001b[0m\u001b[0;34m'y'\u001b[0m\u001b[0;34m)\u001b[0m\u001b[0;34m\u001b[0m\u001b[0;34m\u001b[0m\u001b[0m\n\u001b[1;32m      3\u001b[0m \u001b[0mx\u001b[0m \u001b[0;34m=\u001b[0m \u001b[0mdf_combined\u001b[0m\u001b[0;34m[\u001b[0m\u001b[0mInd_Features\u001b[0m\u001b[0;34m]\u001b[0m\u001b[0;34m\u001b[0m\u001b[0;34m\u001b[0m\u001b[0m\n\u001b[1;32m      4\u001b[0m \u001b[0my\u001b[0m \u001b[0;34m=\u001b[0m \u001b[0mdf_combined\u001b[0m\u001b[0;34m[\u001b[0m\u001b[0;34m'y'\u001b[0m\u001b[0;34m]\u001b[0m\u001b[0;34m\u001b[0m\u001b[0;34m\u001b[0m\u001b[0m\n",
            "\u001b[0;31mNameError\u001b[0m: name 'data' is not defined"
          ]
        }
      ],
      "source": [
        "Ind_Features = list(data.columns)\n",
        "Ind_Features.remove('y')\n",
        "x = df_combined[Ind_Features]\n",
        "y = df_combined['y']"
      ]
    },
    {
      "cell_type": "code",
      "execution_count": null,
      "id": "73df3d8c",
      "metadata": {
        "id": "73df3d8c"
      },
      "outputs": [],
      "source": [
        "data"
      ]
    },
    {
      "cell_type": "code",
      "execution_count": null,
      "id": "be227de6",
      "metadata": {
        "id": "be227de6"
      },
      "outputs": [],
      "source": [
        "y"
      ]
    },
    {
      "cell_type": "code",
      "execution_count": null,
      "id": "4959db9a",
      "metadata": {
        "id": "4959db9a",
        "scrolled": true
      },
      "outputs": [],
      "source": [
        "x"
      ]
    },
    {
      "cell_type": "code",
      "execution_count": null,
      "id": "1f17578f",
      "metadata": {
        "id": "1f17578f"
      },
      "outputs": [],
      "source": [
        "from sklearn.model_selection import train_test_split\n",
        "x_train, x_test, y_train, y_test = train_test_split(x, y, test_size=0.25, random_state=0)"
      ]
    },
    {
      "cell_type": "code",
      "execution_count": null,
      "id": "58863ba5",
      "metadata": {
        "id": "58863ba5"
      },
      "outputs": [],
      "source": [
        "from sklearn.preprocessing import StandardScaler\n",
        "\n",
        "SC=StandardScaler()\n",
        "x_train=SC.fit_transform(x_train)\n",
        "x_test=SC.transform(x_test)\n"
      ]
    },
    {
      "cell_type": "code",
      "execution_count": null,
      "id": "b4c927aa",
      "metadata": {
        "id": "b4c927aa"
      },
      "outputs": [],
      "source": [
        "pd.DataFrame(x_train)"
      ]
    },
    {
      "cell_type": "code",
      "execution_count": null,
      "id": "86627833",
      "metadata": {
        "id": "86627833"
      },
      "outputs": [],
      "source": [
        "pd.DataFrame(x_test)"
      ]
    },
    {
      "cell_type": "code",
      "execution_count": null,
      "id": "5de4d187",
      "metadata": {
        "id": "5de4d187"
      },
      "outputs": [],
      "source": [
        "y_train"
      ]
    },
    {
      "cell_type": "code",
      "execution_count": null,
      "id": "f86a0849",
      "metadata": {
        "id": "f86a0849"
      },
      "outputs": [],
      "source": [
        "from sklearn.linear_model import LogisticRegression"
      ]
    },
    {
      "cell_type": "code",
      "execution_count": null,
      "id": "6105b770",
      "metadata": {
        "id": "6105b770"
      },
      "outputs": [],
      "source": [
        "logisticRegr = LogisticRegression()"
      ]
    },
    {
      "cell_type": "code",
      "execution_count": null,
      "id": "fb22b409",
      "metadata": {
        "id": "fb22b409"
      },
      "outputs": [],
      "source": [
        "#####Model Fitting/Training###\n",
        "logisticRegr.fit(x_train, y_train)"
      ]
    },
    {
      "cell_type": "code",
      "execution_count": null,
      "id": "6f9470c6",
      "metadata": {
        "id": "6f9470c6"
      },
      "outputs": [],
      "source": [
        "test_pred = logisticRegr.predict(x_test)"
      ]
    },
    {
      "cell_type": "code",
      "execution_count": null,
      "id": "b828836b",
      "metadata": {
        "id": "b828836b"
      },
      "outputs": [],
      "source": [
        "test_pred"
      ]
    },
    {
      "cell_type": "markdown",
      "id": "a2642a4a",
      "metadata": {
        "id": "a2642a4a"
      },
      "source": [
        "# predict proba"
      ]
    },
    {
      "cell_type": "code",
      "execution_count": null,
      "id": "d0f72867",
      "metadata": {
        "id": "d0f72867"
      },
      "outputs": [],
      "source": [
        "#predict proba\n",
        "proba_valid = pd.DataFrame(logisticRegr.predict_proba(x_test)[:, 1])"
      ]
    },
    {
      "cell_type": "code",
      "execution_count": null,
      "id": "7b654443",
      "metadata": {
        "id": "7b654443",
        "outputId": "ad1595e0-9ecd-4cb4-c903-f48efba21616"
      },
      "outputs": [
        {
          "data": {
            "text/plain": [
              "array([[ 1.46537086,  1.93219334, -0.76603305, ..., -0.35179448,\n",
              "         0.20411663, -1.24519283],\n",
              "       [-1.02519848, -0.51706042,  1.3054267 , ..., -0.35179448,\n",
              "         0.20411663,  0.64504451],\n",
              "       [-1.02519848,  1.93219334, -0.76603305, ..., -0.35179448,\n",
              "         0.20411663,  0.8405863 ],\n",
              "       ...,\n",
              "       [ 0.63518108, -0.51706042, -0.76603305, ..., -0.35179448,\n",
              "         0.20411663, -1.24519283],\n",
              "       [-0.74846855,  1.93219334,  1.3054267 , ..., -0.35179448,\n",
              "         0.20411663,  0.8405863 ],\n",
              "       [-0.74846855, -0.51706042, -0.76603305, ..., -0.35179448,\n",
              "         0.20411663, -1.24519283]])"
            ]
          },
          "execution_count": 227,
          "metadata": {},
          "output_type": "execute_result"
        }
      ],
      "source": [
        "x_test"
      ]
    },
    {
      "cell_type": "code",
      "execution_count": null,
      "id": "131cf062",
      "metadata": {
        "id": "131cf062",
        "scrolled": true,
        "outputId": "158ff117-5138-4d49-c921-46d019f2f92b"
      },
      "outputs": [
        {
          "data": {
            "text/plain": [
              "array([[7.54860322e-01, 2.45139678e-01],\n",
              "       [9.93405585e-01, 6.59441536e-03],\n",
              "       [9.99192367e-01, 8.07633382e-04],\n",
              "       ...,\n",
              "       [4.21967456e-01, 5.78032544e-01],\n",
              "       [9.99512030e-01, 4.87969903e-04],\n",
              "       [9.74215597e-01, 2.57844033e-02]])"
            ]
          },
          "execution_count": 228,
          "metadata": {},
          "output_type": "execute_result"
        }
      ],
      "source": [
        "logisticRegr.predict_proba(x_test)"
      ]
    },
    {
      "cell_type": "code",
      "execution_count": null,
      "id": "324dc1ab",
      "metadata": {
        "id": "324dc1ab",
        "outputId": "6faf0f05-ac5c-4983-ced9-a68f78b4110e"
      },
      "outputs": [
        {
          "data": {
            "text/html": [
              "<div>\n",
              "<style scoped>\n",
              "    .dataframe tbody tr th:only-of-type {\n",
              "        vertical-align: middle;\n",
              "    }\n",
              "\n",
              "    .dataframe tbody tr th {\n",
              "        vertical-align: top;\n",
              "    }\n",
              "\n",
              "    .dataframe thead th {\n",
              "        text-align: right;\n",
              "    }\n",
              "</style>\n",
              "<table border=\"1\" class=\"dataframe\">\n",
              "  <thead>\n",
              "    <tr style=\"text-align: right;\">\n",
              "      <th></th>\n",
              "      <th>0</th>\n",
              "    </tr>\n",
              "  </thead>\n",
              "  <tbody>\n",
              "    <tr>\n",
              "      <th>0</th>\n",
              "      <td>0.25</td>\n",
              "    </tr>\n",
              "    <tr>\n",
              "      <th>1</th>\n",
              "      <td>0.01</td>\n",
              "    </tr>\n",
              "    <tr>\n",
              "      <th>2</th>\n",
              "      <td>0.00</td>\n",
              "    </tr>\n",
              "    <tr>\n",
              "      <th>3</th>\n",
              "      <td>0.00</td>\n",
              "    </tr>\n",
              "    <tr>\n",
              "      <th>4</th>\n",
              "      <td>0.19</td>\n",
              "    </tr>\n",
              "    <tr>\n",
              "      <th>...</th>\n",
              "      <td>...</td>\n",
              "    </tr>\n",
              "    <tr>\n",
              "      <th>8511</th>\n",
              "      <td>0.00</td>\n",
              "    </tr>\n",
              "    <tr>\n",
              "      <th>8512</th>\n",
              "      <td>0.01</td>\n",
              "    </tr>\n",
              "    <tr>\n",
              "      <th>8513</th>\n",
              "      <td>0.58</td>\n",
              "    </tr>\n",
              "    <tr>\n",
              "      <th>8514</th>\n",
              "      <td>0.00</td>\n",
              "    </tr>\n",
              "    <tr>\n",
              "      <th>8515</th>\n",
              "      <td>0.03</td>\n",
              "    </tr>\n",
              "  </tbody>\n",
              "</table>\n",
              "<p>8516 rows × 1 columns</p>\n",
              "</div>"
            ],
            "text/plain": [
              "                        0\n",
              "0                    0.25\n",
              "1                    0.01\n",
              "2                    0.00\n",
              "3                    0.00\n",
              "4                    0.19\n",
              "...                   ...\n",
              "8511                 0.00\n",
              "8512                 0.01\n",
              "8513                 0.58\n",
              "8514                 0.00\n",
              "8515                 0.03\n",
              "\n",
              "[8516 rows x 1 columns]"
            ]
          },
          "execution_count": 229,
          "metadata": {},
          "output_type": "execute_result"
        }
      ],
      "source": [
        "proba_valid"
      ]
    },
    {
      "cell_type": "code",
      "execution_count": null,
      "id": "d1949196",
      "metadata": {
        "id": "d1949196"
      },
      "outputs": [],
      "source": [
        "df_new=pd.DataFrame({'Predictions':test_pred})"
      ]
    },
    {
      "cell_type": "code",
      "execution_count": null,
      "id": "31fc3e0f",
      "metadata": {
        "id": "31fc3e0f",
        "outputId": "d69f97c3-7e24-42ae-90d3-adec42c63813"
      },
      "outputs": [
        {
          "data": {
            "text/html": [
              "<div>\n",
              "<style scoped>\n",
              "    .dataframe tbody tr th:only-of-type {\n",
              "        vertical-align: middle;\n",
              "    }\n",
              "\n",
              "    .dataframe tbody tr th {\n",
              "        vertical-align: top;\n",
              "    }\n",
              "\n",
              "    .dataframe thead th {\n",
              "        text-align: right;\n",
              "    }\n",
              "</style>\n",
              "<table border=\"1\" class=\"dataframe\">\n",
              "  <thead>\n",
              "    <tr style=\"text-align: right;\">\n",
              "      <th></th>\n",
              "      <th>Predictions</th>\n",
              "    </tr>\n",
              "  </thead>\n",
              "  <tbody>\n",
              "    <tr>\n",
              "      <th>0</th>\n",
              "      <td>0</td>\n",
              "    </tr>\n",
              "    <tr>\n",
              "      <th>1</th>\n",
              "      <td>0</td>\n",
              "    </tr>\n",
              "    <tr>\n",
              "      <th>2</th>\n",
              "      <td>0</td>\n",
              "    </tr>\n",
              "    <tr>\n",
              "      <th>3</th>\n",
              "      <td>0</td>\n",
              "    </tr>\n",
              "    <tr>\n",
              "      <th>4</th>\n",
              "      <td>0</td>\n",
              "    </tr>\n",
              "    <tr>\n",
              "      <th>...</th>\n",
              "      <td>...</td>\n",
              "    </tr>\n",
              "    <tr>\n",
              "      <th>8511</th>\n",
              "      <td>0</td>\n",
              "    </tr>\n",
              "    <tr>\n",
              "      <th>8512</th>\n",
              "      <td>0</td>\n",
              "    </tr>\n",
              "    <tr>\n",
              "      <th>8513</th>\n",
              "      <td>1</td>\n",
              "    </tr>\n",
              "    <tr>\n",
              "      <th>8514</th>\n",
              "      <td>0</td>\n",
              "    </tr>\n",
              "    <tr>\n",
              "      <th>8515</th>\n",
              "      <td>0</td>\n",
              "    </tr>\n",
              "  </tbody>\n",
              "</table>\n",
              "<p>8516 rows × 1 columns</p>\n",
              "</div>"
            ],
            "text/plain": [
              "      Predictions\n",
              "0               0\n",
              "1               0\n",
              "2               0\n",
              "3               0\n",
              "4               0\n",
              "...           ...\n",
              "8511            0\n",
              "8512            0\n",
              "8513            1\n",
              "8514            0\n",
              "8515            0\n",
              "\n",
              "[8516 rows x 1 columns]"
            ]
          },
          "execution_count": 231,
          "metadata": {},
          "output_type": "execute_result"
        }
      ],
      "source": [
        "df_new"
      ]
    },
    {
      "cell_type": "code",
      "execution_count": null,
      "id": "2527a998",
      "metadata": {
        "id": "2527a998"
      },
      "outputs": [],
      "source": [
        "df_new.insert(1, \"Y_predict_proba\", proba_valid)"
      ]
    },
    {
      "cell_type": "code",
      "execution_count": null,
      "id": "02712586",
      "metadata": {
        "id": "02712586",
        "outputId": "c099ecd2-9261-476d-bdaf-1323f19a772f"
      },
      "outputs": [
        {
          "data": {
            "text/html": [
              "<div>\n",
              "<style scoped>\n",
              "    .dataframe tbody tr th:only-of-type {\n",
              "        vertical-align: middle;\n",
              "    }\n",
              "\n",
              "    .dataframe tbody tr th {\n",
              "        vertical-align: top;\n",
              "    }\n",
              "\n",
              "    .dataframe thead th {\n",
              "        text-align: right;\n",
              "    }\n",
              "</style>\n",
              "<table border=\"1\" class=\"dataframe\">\n",
              "  <thead>\n",
              "    <tr style=\"text-align: right;\">\n",
              "      <th></th>\n",
              "      <th>Predictions</th>\n",
              "      <th>Y_predict_proba</th>\n",
              "    </tr>\n",
              "  </thead>\n",
              "  <tbody>\n",
              "    <tr>\n",
              "      <th>0</th>\n",
              "      <td>0</td>\n",
              "      <td>0.25</td>\n",
              "    </tr>\n",
              "    <tr>\n",
              "      <th>1</th>\n",
              "      <td>0</td>\n",
              "      <td>0.01</td>\n",
              "    </tr>\n",
              "    <tr>\n",
              "      <th>2</th>\n",
              "      <td>0</td>\n",
              "      <td>0.00</td>\n",
              "    </tr>\n",
              "    <tr>\n",
              "      <th>3</th>\n",
              "      <td>0</td>\n",
              "      <td>0.00</td>\n",
              "    </tr>\n",
              "    <tr>\n",
              "      <th>4</th>\n",
              "      <td>0</td>\n",
              "      <td>0.19</td>\n",
              "    </tr>\n",
              "    <tr>\n",
              "      <th>...</th>\n",
              "      <td>...</td>\n",
              "      <td>...</td>\n",
              "    </tr>\n",
              "    <tr>\n",
              "      <th>8511</th>\n",
              "      <td>0</td>\n",
              "      <td>0.00</td>\n",
              "    </tr>\n",
              "    <tr>\n",
              "      <th>8512</th>\n",
              "      <td>0</td>\n",
              "      <td>0.01</td>\n",
              "    </tr>\n",
              "    <tr>\n",
              "      <th>8513</th>\n",
              "      <td>1</td>\n",
              "      <td>0.58</td>\n",
              "    </tr>\n",
              "    <tr>\n",
              "      <th>8514</th>\n",
              "      <td>0</td>\n",
              "      <td>0.00</td>\n",
              "    </tr>\n",
              "    <tr>\n",
              "      <th>8515</th>\n",
              "      <td>0</td>\n",
              "      <td>0.03</td>\n",
              "    </tr>\n",
              "  </tbody>\n",
              "</table>\n",
              "<p>8516 rows × 2 columns</p>\n",
              "</div>"
            ],
            "text/plain": [
              "      Predictions      Y_predict_proba\n",
              "0               0                 0.25\n",
              "1               0                 0.01\n",
              "2               0                 0.00\n",
              "3               0                 0.00\n",
              "4               0                 0.19\n",
              "...           ...                  ...\n",
              "8511            0                 0.00\n",
              "8512            0                 0.01\n",
              "8513            1                 0.58\n",
              "8514            0                 0.00\n",
              "8515            0                 0.03\n",
              "\n",
              "[8516 rows x 2 columns]"
            ]
          },
          "execution_count": 233,
          "metadata": {},
          "output_type": "execute_result"
        }
      ],
      "source": [
        "df_new"
      ]
    },
    {
      "cell_type": "code",
      "execution_count": null,
      "id": "7645ddf5",
      "metadata": {
        "id": "7645ddf5"
      },
      "outputs": [],
      "source": []
    },
    {
      "cell_type": "code",
      "execution_count": null,
      "id": "3ee1645d",
      "metadata": {
        "id": "3ee1645d"
      },
      "outputs": [],
      "source": [
        "df_new['Y_pred_0.1']=np.where((df_new['Y_predict_proba']>0.1), 1,0)"
      ]
    },
    {
      "cell_type": "code",
      "execution_count": null,
      "id": "9a156dbb",
      "metadata": {
        "id": "9a156dbb",
        "outputId": "7372eaa6-874c-47ce-dcab-994058965b52"
      },
      "outputs": [
        {
          "data": {
            "text/html": [
              "<div>\n",
              "<style scoped>\n",
              "    .dataframe tbody tr th:only-of-type {\n",
              "        vertical-align: middle;\n",
              "    }\n",
              "\n",
              "    .dataframe tbody tr th {\n",
              "        vertical-align: top;\n",
              "    }\n",
              "\n",
              "    .dataframe thead th {\n",
              "        text-align: right;\n",
              "    }\n",
              "</style>\n",
              "<table border=\"1\" class=\"dataframe\">\n",
              "  <thead>\n",
              "    <tr style=\"text-align: right;\">\n",
              "      <th></th>\n",
              "      <th>Predictions</th>\n",
              "      <th>Y_predict_proba</th>\n",
              "      <th>Y_pred_0.1</th>\n",
              "    </tr>\n",
              "  </thead>\n",
              "  <tbody>\n",
              "    <tr>\n",
              "      <th>0</th>\n",
              "      <td>0</td>\n",
              "      <td>0.25</td>\n",
              "      <td>1</td>\n",
              "    </tr>\n",
              "    <tr>\n",
              "      <th>1</th>\n",
              "      <td>0</td>\n",
              "      <td>0.01</td>\n",
              "      <td>0</td>\n",
              "    </tr>\n",
              "    <tr>\n",
              "      <th>2</th>\n",
              "      <td>0</td>\n",
              "      <td>0.00</td>\n",
              "      <td>0</td>\n",
              "    </tr>\n",
              "    <tr>\n",
              "      <th>3</th>\n",
              "      <td>0</td>\n",
              "      <td>0.00</td>\n",
              "      <td>0</td>\n",
              "    </tr>\n",
              "    <tr>\n",
              "      <th>4</th>\n",
              "      <td>0</td>\n",
              "      <td>0.19</td>\n",
              "      <td>1</td>\n",
              "    </tr>\n",
              "    <tr>\n",
              "      <th>...</th>\n",
              "      <td>...</td>\n",
              "      <td>...</td>\n",
              "      <td>...</td>\n",
              "    </tr>\n",
              "    <tr>\n",
              "      <th>8511</th>\n",
              "      <td>0</td>\n",
              "      <td>0.00</td>\n",
              "      <td>0</td>\n",
              "    </tr>\n",
              "    <tr>\n",
              "      <th>8512</th>\n",
              "      <td>0</td>\n",
              "      <td>0.01</td>\n",
              "      <td>0</td>\n",
              "    </tr>\n",
              "    <tr>\n",
              "      <th>8513</th>\n",
              "      <td>1</td>\n",
              "      <td>0.58</td>\n",
              "      <td>1</td>\n",
              "    </tr>\n",
              "    <tr>\n",
              "      <th>8514</th>\n",
              "      <td>0</td>\n",
              "      <td>0.00</td>\n",
              "      <td>0</td>\n",
              "    </tr>\n",
              "    <tr>\n",
              "      <th>8515</th>\n",
              "      <td>0</td>\n",
              "      <td>0.03</td>\n",
              "      <td>0</td>\n",
              "    </tr>\n",
              "  </tbody>\n",
              "</table>\n",
              "<p>8516 rows × 3 columns</p>\n",
              "</div>"
            ],
            "text/plain": [
              "      Predictions      Y_predict_proba  Y_pred_0.1\n",
              "0               0                 0.25           1\n",
              "1               0                 0.01           0\n",
              "2               0                 0.00           0\n",
              "3               0                 0.00           0\n",
              "4               0                 0.19           1\n",
              "...           ...                  ...         ...\n",
              "8511            0                 0.00           0\n",
              "8512            0                 0.01           0\n",
              "8513            1                 0.58           1\n",
              "8514            0                 0.00           0\n",
              "8515            0                 0.03           0\n",
              "\n",
              "[8516 rows x 3 columns]"
            ]
          },
          "execution_count": 235,
          "metadata": {},
          "output_type": "execute_result"
        }
      ],
      "source": [
        "df_new"
      ]
    },
    {
      "cell_type": "code",
      "execution_count": null,
      "id": "9ba25a48",
      "metadata": {
        "id": "9ba25a48"
      },
      "outputs": [],
      "source": [
        "df_new['Y_pred_0.2']=np.where(df_new['Y_predict_proba']>0.2,1,0)\n",
        "df_new['Y_pred_0.3']=np.where(df_new['Y_predict_proba']>0.3, 1,0)\n",
        "df_new['Y_pred_0.4']=np.where(df_new['Y_predict_proba']>0.4, 1,0)\n",
        "df_new['Y_pred_0.5']=np.where(df_new['Y_predict_proba']>0.5, 1,0)\n",
        "df_new['Y_pred_0.6']=np.where(df_new['Y_predict_proba']>0.6, 1,0)\n",
        "df_new['Y_pred_0.7']=np.where(df_new['Y_predict_proba']>0.7, 1,0)\n",
        "df_new['Y_pred_0.8']=np.where(df_new['Y_predict_proba']>0.8, 1,0)\n",
        "df_new['Y_pred_0.9']=np.where(df_new['Y_predict_proba']>0.9, 1,0)"
      ]
    },
    {
      "cell_type": "code",
      "execution_count": null,
      "id": "50201084",
      "metadata": {
        "id": "50201084",
        "outputId": "935fe85b-e52f-49ff-c389-1f80910ffe9a"
      },
      "outputs": [
        {
          "data": {
            "text/html": [
              "<div>\n",
              "<style scoped>\n",
              "    .dataframe tbody tr th:only-of-type {\n",
              "        vertical-align: middle;\n",
              "    }\n",
              "\n",
              "    .dataframe tbody tr th {\n",
              "        vertical-align: top;\n",
              "    }\n",
              "\n",
              "    .dataframe thead th {\n",
              "        text-align: right;\n",
              "    }\n",
              "</style>\n",
              "<table border=\"1\" class=\"dataframe\">\n",
              "  <thead>\n",
              "    <tr style=\"text-align: right;\">\n",
              "      <th></th>\n",
              "      <th>Predictions</th>\n",
              "      <th>Y_predict_proba</th>\n",
              "      <th>Y_pred_0.1</th>\n",
              "      <th>Y_pred_0.2</th>\n",
              "      <th>Y_pred_0.3</th>\n",
              "      <th>Y_pred_0.4</th>\n",
              "      <th>Y_pred_0.5</th>\n",
              "      <th>Y_pred_0.6</th>\n",
              "      <th>Y_pred_0.7</th>\n",
              "      <th>Y_pred_0.8</th>\n",
              "      <th>Y_pred_0.9</th>\n",
              "    </tr>\n",
              "  </thead>\n",
              "  <tbody>\n",
              "    <tr>\n",
              "      <th>0</th>\n",
              "      <td>0</td>\n",
              "      <td>0.25</td>\n",
              "      <td>1</td>\n",
              "      <td>1</td>\n",
              "      <td>0</td>\n",
              "      <td>0</td>\n",
              "      <td>0</td>\n",
              "      <td>0</td>\n",
              "      <td>0</td>\n",
              "      <td>0</td>\n",
              "      <td>0</td>\n",
              "    </tr>\n",
              "    <tr>\n",
              "      <th>1</th>\n",
              "      <td>0</td>\n",
              "      <td>0.01</td>\n",
              "      <td>0</td>\n",
              "      <td>0</td>\n",
              "      <td>0</td>\n",
              "      <td>0</td>\n",
              "      <td>0</td>\n",
              "      <td>0</td>\n",
              "      <td>0</td>\n",
              "      <td>0</td>\n",
              "      <td>0</td>\n",
              "    </tr>\n",
              "    <tr>\n",
              "      <th>2</th>\n",
              "      <td>0</td>\n",
              "      <td>0.00</td>\n",
              "      <td>0</td>\n",
              "      <td>0</td>\n",
              "      <td>0</td>\n",
              "      <td>0</td>\n",
              "      <td>0</td>\n",
              "      <td>0</td>\n",
              "      <td>0</td>\n",
              "      <td>0</td>\n",
              "      <td>0</td>\n",
              "    </tr>\n",
              "    <tr>\n",
              "      <th>3</th>\n",
              "      <td>0</td>\n",
              "      <td>0.00</td>\n",
              "      <td>0</td>\n",
              "      <td>0</td>\n",
              "      <td>0</td>\n",
              "      <td>0</td>\n",
              "      <td>0</td>\n",
              "      <td>0</td>\n",
              "      <td>0</td>\n",
              "      <td>0</td>\n",
              "      <td>0</td>\n",
              "    </tr>\n",
              "    <tr>\n",
              "      <th>4</th>\n",
              "      <td>0</td>\n",
              "      <td>0.19</td>\n",
              "      <td>1</td>\n",
              "      <td>0</td>\n",
              "      <td>0</td>\n",
              "      <td>0</td>\n",
              "      <td>0</td>\n",
              "      <td>0</td>\n",
              "      <td>0</td>\n",
              "      <td>0</td>\n",
              "      <td>0</td>\n",
              "    </tr>\n",
              "    <tr>\n",
              "      <th>...</th>\n",
              "      <td>...</td>\n",
              "      <td>...</td>\n",
              "      <td>...</td>\n",
              "      <td>...</td>\n",
              "      <td>...</td>\n",
              "      <td>...</td>\n",
              "      <td>...</td>\n",
              "      <td>...</td>\n",
              "      <td>...</td>\n",
              "      <td>...</td>\n",
              "      <td>...</td>\n",
              "    </tr>\n",
              "    <tr>\n",
              "      <th>8511</th>\n",
              "      <td>0</td>\n",
              "      <td>0.00</td>\n",
              "      <td>0</td>\n",
              "      <td>0</td>\n",
              "      <td>0</td>\n",
              "      <td>0</td>\n",
              "      <td>0</td>\n",
              "      <td>0</td>\n",
              "      <td>0</td>\n",
              "      <td>0</td>\n",
              "      <td>0</td>\n",
              "    </tr>\n",
              "    <tr>\n",
              "      <th>8512</th>\n",
              "      <td>0</td>\n",
              "      <td>0.01</td>\n",
              "      <td>0</td>\n",
              "      <td>0</td>\n",
              "      <td>0</td>\n",
              "      <td>0</td>\n",
              "      <td>0</td>\n",
              "      <td>0</td>\n",
              "      <td>0</td>\n",
              "      <td>0</td>\n",
              "      <td>0</td>\n",
              "    </tr>\n",
              "    <tr>\n",
              "      <th>8513</th>\n",
              "      <td>1</td>\n",
              "      <td>0.58</td>\n",
              "      <td>1</td>\n",
              "      <td>1</td>\n",
              "      <td>1</td>\n",
              "      <td>1</td>\n",
              "      <td>1</td>\n",
              "      <td>0</td>\n",
              "      <td>0</td>\n",
              "      <td>0</td>\n",
              "      <td>0</td>\n",
              "    </tr>\n",
              "    <tr>\n",
              "      <th>8514</th>\n",
              "      <td>0</td>\n",
              "      <td>0.00</td>\n",
              "      <td>0</td>\n",
              "      <td>0</td>\n",
              "      <td>0</td>\n",
              "      <td>0</td>\n",
              "      <td>0</td>\n",
              "      <td>0</td>\n",
              "      <td>0</td>\n",
              "      <td>0</td>\n",
              "      <td>0</td>\n",
              "    </tr>\n",
              "    <tr>\n",
              "      <th>8515</th>\n",
              "      <td>0</td>\n",
              "      <td>0.03</td>\n",
              "      <td>0</td>\n",
              "      <td>0</td>\n",
              "      <td>0</td>\n",
              "      <td>0</td>\n",
              "      <td>0</td>\n",
              "      <td>0</td>\n",
              "      <td>0</td>\n",
              "      <td>0</td>\n",
              "      <td>0</td>\n",
              "    </tr>\n",
              "  </tbody>\n",
              "</table>\n",
              "<p>8516 rows × 11 columns</p>\n",
              "</div>"
            ],
            "text/plain": [
              "      Predictions      Y_predict_proba  Y_pred_0.1  Y_pred_0.2  Y_pred_0.3  \\\n",
              "0               0                 0.25           1           1           0   \n",
              "1               0                 0.01           0           0           0   \n",
              "2               0                 0.00           0           0           0   \n",
              "3               0                 0.00           0           0           0   \n",
              "4               0                 0.19           1           0           0   \n",
              "...           ...                  ...         ...         ...         ...   \n",
              "8511            0                 0.00           0           0           0   \n",
              "8512            0                 0.01           0           0           0   \n",
              "8513            1                 0.58           1           1           1   \n",
              "8514            0                 0.00           0           0           0   \n",
              "8515            0                 0.03           0           0           0   \n",
              "\n",
              "      Y_pred_0.4  Y_pred_0.5  Y_pred_0.6  Y_pred_0.7  Y_pred_0.8  Y_pred_0.9  \n",
              "0              0           0           0           0           0           0  \n",
              "1              0           0           0           0           0           0  \n",
              "2              0           0           0           0           0           0  \n",
              "3              0           0           0           0           0           0  \n",
              "4              0           0           0           0           0           0  \n",
              "...          ...         ...         ...         ...         ...         ...  \n",
              "8511           0           0           0           0           0           0  \n",
              "8512           0           0           0           0           0           0  \n",
              "8513           1           1           0           0           0           0  \n",
              "8514           0           0           0           0           0           0  \n",
              "8515           0           0           0           0           0           0  \n",
              "\n",
              "[8516 rows x 11 columns]"
            ]
          },
          "execution_count": 237,
          "metadata": {},
          "output_type": "execute_result"
        }
      ],
      "source": [
        "df_new"
      ]
    },
    {
      "cell_type": "code",
      "execution_count": null,
      "id": "f171842b",
      "metadata": {
        "id": "f171842b"
      },
      "outputs": [],
      "source": [
        "from sklearn.metrics import confusion_matrix"
      ]
    },
    {
      "cell_type": "code",
      "execution_count": null,
      "id": "7273a5bf",
      "metadata": {
        "id": "7273a5bf"
      },
      "outputs": [],
      "source": [
        "c1=confusion_matrix(df_new.loc[:,'Predictions'],df_new.loc[:,'Y_pred_0.5'])"
      ]
    },
    {
      "cell_type": "code",
      "execution_count": null,
      "id": "5de495c9",
      "metadata": {
        "id": "5de495c9",
        "outputId": "1a317388-7887-4ead-f9f8-0edea5b30a2e"
      },
      "outputs": [
        {
          "data": {
            "text/plain": [
              "array([[8197,    0],\n",
              "       [   0,  319]], dtype=int64)"
            ]
          },
          "execution_count": 240,
          "metadata": {},
          "output_type": "execute_result"
        }
      ],
      "source": [
        "c1"
      ]
    },
    {
      "cell_type": "raw",
      "id": "0f6ab512",
      "metadata": {
        "id": "0f6ab512"
      },
      "source": [
        "'''\n",
        "Predicted   P\tN\n",
        "                0   1\n",
        "                y  n\n",
        "\n",
        "\n",
        "Actual  0  Py \tTP\tFN\n",
        "        1 Nn\tFP\tTN\n",
        "\n",
        "\n",
        "\n",
        "\n",
        "          #Sensitivity=TP/TP+FN\n",
        "          #Specificity=TN/TN+FP\n",
        "\n",
        "\n",
        "Sensitivity: the ability of a test to correctly identify as yes\n",
        "\n",
        "Specificity: the ability of a test to correctly identify as no\n",
        "'''"
      ]
    },
    {
      "cell_type": "code",
      "execution_count": null,
      "id": "69a5892f",
      "metadata": {
        "id": "69a5892f",
        "outputId": "b3c3cabc-2a2a-4456-915c-b12333a880a8"
      },
      "outputs": [
        {
          "data": {
            "text/plain": [
              "1.0"
            ]
          },
          "execution_count": 241,
          "metadata": {},
          "output_type": "execute_result"
        }
      ],
      "source": [
        "sen=c1[0,0]/(c1[0,0]+c1[0,1])\n",
        "sen"
      ]
    },
    {
      "cell_type": "code",
      "execution_count": null,
      "id": "54c9ab8c",
      "metadata": {
        "id": "54c9ab8c",
        "outputId": "1230ed65-ade2-4ea2-89db-4f5a29e7fe28"
      },
      "outputs": [
        {
          "data": {
            "text/plain": [
              "1.0"
            ]
          },
          "execution_count": 242,
          "metadata": {},
          "output_type": "execute_result"
        }
      ],
      "source": [
        "sep=c1[1,1]/(c1[1,1]+c1[1,0])\n",
        "sep"
      ]
    },
    {
      "cell_type": "code",
      "execution_count": null,
      "id": "15d7bc3a",
      "metadata": {
        "id": "15d7bc3a"
      },
      "outputs": [],
      "source": [
        "d11=pd.DataFrame(columns=['cutoff','Sensitivity','Specificity'])"
      ]
    },
    {
      "cell_type": "code",
      "execution_count": null,
      "id": "e8608910",
      "metadata": {
        "id": "e8608910"
      },
      "outputs": [],
      "source": [
        "d11=d11.append({'cutoff':0.2, 'Sensitivity': sen,'Specificity':sep}, ignore_index=True)"
      ]
    },
    {
      "cell_type": "code",
      "execution_count": null,
      "id": "df3bf85b",
      "metadata": {
        "id": "df3bf85b"
      },
      "outputs": [],
      "source": [
        "c1=confusion_matrix(df_new.loc[:,'Predictions'],df_new.loc[:,'Y_pred_0.1'])\n",
        "c2=confusion_matrix(df_new.loc[:,'Predictions'],df_new.loc[:,'Y_pred_0.2'])\n",
        "c3=confusion_matrix(df_new.loc[:,'Predictions'],df_new.loc[:,'Y_pred_0.3'])\n",
        "c4=confusion_matrix(df_new.loc[:,'Predictions'],df_new.loc[:,'Y_pred_0.4'])\n",
        "c5=confusion_matrix(df_new.loc[:,'Predictions'],df_new.loc[:,'Y_pred_0.5'])\n",
        "c6=confusion_matrix(df_new.loc[:,'Predictions'],df_new.loc[:,'Y_pred_0.6'])\n",
        "c7=confusion_matrix(df_new.loc[:,'Predictions'],df_new.loc[:,'Y_pred_0.7'])\n",
        "c8=confusion_matrix(df_new.loc[:,'Predictions'],df_new.loc[:,'Y_pred_0.8'])\n",
        "c9=confusion_matrix(df_new.loc[:,'Predictions'],df_new.loc[:,'Y_pred_0.9'])"
      ]
    },
    {
      "cell_type": "code",
      "execution_count": null,
      "id": "74b45291",
      "metadata": {
        "id": "74b45291"
      },
      "outputs": [],
      "source": [
        "sen1=c1[0,0]/(c1[0,0]+c1[0,1])\n",
        "sen2=c2[0,0]/(c2[0,0]+c2[0,1])\n",
        "sen3=c3[0,0]/(c3[0,0]+c3[0,1])\n",
        "sen4=c4[0,0]/(c4[0,0]+c4[0,1])\n",
        "sen5=c5[0,0]/(c5[0,0]+c5[0,1])\n",
        "sen6=c6[0,0]/(c6[0,0]+c6[0,1])\n",
        "sen7=c7[0,0]/(c7[0,0]+c7[0,1])\n",
        "sen8=c8[0,0]/(c8[0,0]+c8[0,1])\n",
        "sen9=c9[0,0]/(c9[0,0]+c9[0,1])"
      ]
    },
    {
      "cell_type": "code",
      "execution_count": null,
      "id": "b60275ac",
      "metadata": {
        "id": "b60275ac"
      },
      "outputs": [],
      "source": [
        "sep1=c1[1,1]/(c1[1,1]+c1[1,0])\n",
        "sep2=c2[1,1]/(c2[1,1]+c2[1,0])\n",
        "sep3=c3[1,1]/(c3[1,1]+c3[1,0])\n",
        "sep4=c4[1,1]/(c4[1,1]+c4[1,0])\n",
        "sep5=c5[1,1]/(c5[1,1]+c5[1,0])\n",
        "sep6=c6[1,1]/(c6[1,1]+c6[1,0])\n",
        "sep7=c7[1,1]/(c7[1,1]+c7[1,0])\n",
        "sep8=c8[1,1]/(c8[1,1]+c8[1,0])\n",
        "sep9=c9[1,1]/(c9[1,1]+c9[1,0])"
      ]
    },
    {
      "cell_type": "code",
      "execution_count": null,
      "id": "0b2cf4c8",
      "metadata": {
        "id": "0b2cf4c8"
      },
      "outputs": [],
      "source": [
        "d_cutoff_value=pd.DataFrame(columns=['cutoff','Sensitivity','Specificity'])"
      ]
    },
    {
      "cell_type": "code",
      "execution_count": null,
      "id": "2d327d7b",
      "metadata": {
        "id": "2d327d7b",
        "outputId": "5ad80870-144d-4ce8-b191-08d0d00ce0b8"
      },
      "outputs": [
        {
          "data": {
            "text/html": [
              "<div>\n",
              "<style scoped>\n",
              "    .dataframe tbody tr th:only-of-type {\n",
              "        vertical-align: middle;\n",
              "    }\n",
              "\n",
              "    .dataframe tbody tr th {\n",
              "        vertical-align: top;\n",
              "    }\n",
              "\n",
              "    .dataframe thead th {\n",
              "        text-align: right;\n",
              "    }\n",
              "</style>\n",
              "<table border=\"1\" class=\"dataframe\">\n",
              "  <thead>\n",
              "    <tr style=\"text-align: right;\">\n",
              "      <th></th>\n",
              "      <th>cutoff</th>\n",
              "      <th>Sensitivity</th>\n",
              "      <th>Specificity</th>\n",
              "    </tr>\n",
              "  </thead>\n",
              "  <tbody>\n",
              "  </tbody>\n",
              "</table>\n",
              "</div>"
            ],
            "text/plain": [
              "Empty DataFrame\n",
              "Columns: [cutoff, Sensitivity, Specificity]\n",
              "Index: []"
            ]
          },
          "execution_count": 249,
          "metadata": {},
          "output_type": "execute_result"
        }
      ],
      "source": [
        "d_cutoff_value"
      ]
    },
    {
      "cell_type": "code",
      "execution_count": null,
      "id": "3a1e463a",
      "metadata": {
        "id": "3a1e463a",
        "outputId": "3a07b2ed-276a-4af8-f85c-28a2e2b7015d"
      },
      "outputs": [
        {
          "data": {
            "text/html": [
              "<div>\n",
              "<style scoped>\n",
              "    .dataframe tbody tr th:only-of-type {\n",
              "        vertical-align: middle;\n",
              "    }\n",
              "\n",
              "    .dataframe tbody tr th {\n",
              "        vertical-align: top;\n",
              "    }\n",
              "\n",
              "    .dataframe thead th {\n",
              "        text-align: right;\n",
              "    }\n",
              "</style>\n",
              "<table border=\"1\" class=\"dataframe\">\n",
              "  <thead>\n",
              "    <tr style=\"text-align: right;\">\n",
              "      <th></th>\n",
              "      <th>cutoff</th>\n",
              "      <th>Sensitivity</th>\n",
              "      <th>Specificity</th>\n",
              "    </tr>\n",
              "  </thead>\n",
              "  <tbody>\n",
              "    <tr>\n",
              "      <th>0</th>\n",
              "      <td>0.10</td>\n",
              "      <td>0.86</td>\n",
              "      <td>1.00</td>\n",
              "    </tr>\n",
              "    <tr>\n",
              "      <th>1</th>\n",
              "      <td>0.20</td>\n",
              "      <td>0.94</td>\n",
              "      <td>1.00</td>\n",
              "    </tr>\n",
              "    <tr>\n",
              "      <th>2</th>\n",
              "      <td>0.30</td>\n",
              "      <td>0.97</td>\n",
              "      <td>1.00</td>\n",
              "    </tr>\n",
              "    <tr>\n",
              "      <th>3</th>\n",
              "      <td>0.40</td>\n",
              "      <td>0.98</td>\n",
              "      <td>1.00</td>\n",
              "    </tr>\n",
              "    <tr>\n",
              "      <th>4</th>\n",
              "      <td>0.50</td>\n",
              "      <td>1.00</td>\n",
              "      <td>1.00</td>\n",
              "    </tr>\n",
              "    <tr>\n",
              "      <th>5</th>\n",
              "      <td>0.60</td>\n",
              "      <td>1.00</td>\n",
              "      <td>0.69</td>\n",
              "    </tr>\n",
              "    <tr>\n",
              "      <th>6</th>\n",
              "      <td>0.70</td>\n",
              "      <td>1.00</td>\n",
              "      <td>0.44</td>\n",
              "    </tr>\n",
              "    <tr>\n",
              "      <th>7</th>\n",
              "      <td>0.80</td>\n",
              "      <td>1.00</td>\n",
              "      <td>0.24</td>\n",
              "    </tr>\n",
              "    <tr>\n",
              "      <th>8</th>\n",
              "      <td>0.90</td>\n",
              "      <td>1.00</td>\n",
              "      <td>0.10</td>\n",
              "    </tr>\n",
              "  </tbody>\n",
              "</table>\n",
              "</div>"
            ],
            "text/plain": [
              "                cutoff          Sensitivity          Specificity\n",
              "0                 0.10                 0.86                 1.00\n",
              "1                 0.20                 0.94                 1.00\n",
              "2                 0.30                 0.97                 1.00\n",
              "3                 0.40                 0.98                 1.00\n",
              "4                 0.50                 1.00                 1.00\n",
              "5                 0.60                 1.00                 0.69\n",
              "6                 0.70                 1.00                 0.44\n",
              "7                 0.80                 1.00                 0.24\n",
              "8                 0.90                 1.00                 0.10"
            ]
          },
          "execution_count": 250,
          "metadata": {},
          "output_type": "execute_result"
        }
      ],
      "source": [
        "d_cutoff_value=d_cutoff_value.append({'cutoff':0.1, 'Sensitivity': sen1,'Specificity':sep1}, ignore_index=True)\n",
        "d_cutoff_value=d_cutoff_value.append({'cutoff':0.2, 'Sensitivity': sen2,'Specificity':sep2}, ignore_index=True)\n",
        "d_cutoff_value=d_cutoff_value.append({'cutoff':0.3, 'Sensitivity': sen3,'Specificity':sep3}, ignore_index=True)\n",
        "d_cutoff_value=d_cutoff_value.append({'cutoff':0.4, 'Sensitivity': sen4,'Specificity':sep4}, ignore_index=True)\n",
        "d_cutoff_value=d_cutoff_value.append({'cutoff':0.5, 'Sensitivity': sen5,'Specificity':sep5}, ignore_index=True)\n",
        "d_cutoff_value=d_cutoff_value.append({'cutoff':0.6, 'Sensitivity': sen6,'Specificity':sep6}, ignore_index=True)\n",
        "d_cutoff_value=d_cutoff_value.append({'cutoff':0.7, 'Sensitivity': sen7,'Specificity':sep7}, ignore_index=True)\n",
        "d_cutoff_value=d_cutoff_value.append({'cutoff':0.8, 'Sensitivity': sen8,'Specificity':sep8}, ignore_index=True)\n",
        "d_cutoff_value=d_cutoff_value.append({'cutoff':0.9, 'Sensitivity': sen9,'Specificity':sep9}, ignore_index=True)\n",
        "d_cutoff_value"
      ]
    },
    {
      "cell_type": "code",
      "execution_count": null,
      "id": "1ab864f1",
      "metadata": {
        "id": "1ab864f1"
      },
      "outputs": [],
      "source": [
        "for i in range(9):\n",
        "\n",
        "    d_cutoff_value.loc[i,'Total_val']=d_cutoff_value.loc[i,'Sensitivity']+d_cutoff_value.loc[i,'Specificity']"
      ]
    },
    {
      "cell_type": "code",
      "execution_count": null,
      "id": "413a4815",
      "metadata": {
        "id": "413a4815",
        "outputId": "1c7574eb-2ea8-40ed-af61-7eddd9cb4cc0"
      },
      "outputs": [
        {
          "data": {
            "text/html": [
              "<div>\n",
              "<style scoped>\n",
              "    .dataframe tbody tr th:only-of-type {\n",
              "        vertical-align: middle;\n",
              "    }\n",
              "\n",
              "    .dataframe tbody tr th {\n",
              "        vertical-align: top;\n",
              "    }\n",
              "\n",
              "    .dataframe thead th {\n",
              "        text-align: right;\n",
              "    }\n",
              "</style>\n",
              "<table border=\"1\" class=\"dataframe\">\n",
              "  <thead>\n",
              "    <tr style=\"text-align: right;\">\n",
              "      <th></th>\n",
              "      <th>cutoff</th>\n",
              "      <th>Sensitivity</th>\n",
              "      <th>Specificity</th>\n",
              "      <th>Total_val</th>\n",
              "    </tr>\n",
              "  </thead>\n",
              "  <tbody>\n",
              "    <tr>\n",
              "      <th>0</th>\n",
              "      <td>0.10</td>\n",
              "      <td>0.86</td>\n",
              "      <td>1.00</td>\n",
              "      <td>1.86</td>\n",
              "    </tr>\n",
              "    <tr>\n",
              "      <th>1</th>\n",
              "      <td>0.20</td>\n",
              "      <td>0.94</td>\n",
              "      <td>1.00</td>\n",
              "      <td>1.94</td>\n",
              "    </tr>\n",
              "    <tr>\n",
              "      <th>2</th>\n",
              "      <td>0.30</td>\n",
              "      <td>0.97</td>\n",
              "      <td>1.00</td>\n",
              "      <td>1.97</td>\n",
              "    </tr>\n",
              "    <tr>\n",
              "      <th>3</th>\n",
              "      <td>0.40</td>\n",
              "      <td>0.98</td>\n",
              "      <td>1.00</td>\n",
              "      <td>1.98</td>\n",
              "    </tr>\n",
              "    <tr>\n",
              "      <th>4</th>\n",
              "      <td>0.50</td>\n",
              "      <td>1.00</td>\n",
              "      <td>1.00</td>\n",
              "      <td>2.00</td>\n",
              "    </tr>\n",
              "    <tr>\n",
              "      <th>5</th>\n",
              "      <td>0.60</td>\n",
              "      <td>1.00</td>\n",
              "      <td>0.69</td>\n",
              "      <td>1.69</td>\n",
              "    </tr>\n",
              "    <tr>\n",
              "      <th>6</th>\n",
              "      <td>0.70</td>\n",
              "      <td>1.00</td>\n",
              "      <td>0.44</td>\n",
              "      <td>1.44</td>\n",
              "    </tr>\n",
              "    <tr>\n",
              "      <th>7</th>\n",
              "      <td>0.80</td>\n",
              "      <td>1.00</td>\n",
              "      <td>0.24</td>\n",
              "      <td>1.24</td>\n",
              "    </tr>\n",
              "    <tr>\n",
              "      <th>8</th>\n",
              "      <td>0.90</td>\n",
              "      <td>1.00</td>\n",
              "      <td>0.10</td>\n",
              "      <td>1.10</td>\n",
              "    </tr>\n",
              "  </tbody>\n",
              "</table>\n",
              "</div>"
            ],
            "text/plain": [
              "                cutoff          Sensitivity          Specificity  \\\n",
              "0                 0.10                 0.86                 1.00   \n",
              "1                 0.20                 0.94                 1.00   \n",
              "2                 0.30                 0.97                 1.00   \n",
              "3                 0.40                 0.98                 1.00   \n",
              "4                 0.50                 1.00                 1.00   \n",
              "5                 0.60                 1.00                 0.69   \n",
              "6                 0.70                 1.00                 0.44   \n",
              "7                 0.80                 1.00                 0.24   \n",
              "8                 0.90                 1.00                 0.10   \n",
              "\n",
              "             Total_val  \n",
              "0                 1.86  \n",
              "1                 1.94  \n",
              "2                 1.97  \n",
              "3                 1.98  \n",
              "4                 2.00  \n",
              "5                 1.69  \n",
              "6                 1.44  \n",
              "7                 1.24  \n",
              "8                 1.10  "
            ]
          },
          "execution_count": 252,
          "metadata": {},
          "output_type": "execute_result"
        }
      ],
      "source": [
        "d_cutoff_value\n"
      ]
    },
    {
      "cell_type": "code",
      "execution_count": null,
      "id": "bdb6c4d9",
      "metadata": {
        "id": "bdb6c4d9"
      },
      "outputs": [],
      "source": [
        "import matplotlib.pyplot as plt\n",
        "import seaborn as sns\n",
        "from sklearn import metrics"
      ]
    },
    {
      "cell_type": "code",
      "execution_count": null,
      "id": "d4a008f3",
      "metadata": {
        "id": "d4a008f3",
        "outputId": "c7aa51a0-47d0-4073-d435-aa83e1e3b172"
      },
      "outputs": [
        {
          "data": {
            "text/plain": [
              "array([[7.54860322e-01, 2.45139678e-01],\n",
              "       [9.93405585e-01, 6.59441536e-03],\n",
              "       [9.99192367e-01, 8.07633382e-04],\n",
              "       ...,\n",
              "       [4.21967456e-01, 5.78032544e-01],\n",
              "       [9.99512030e-01, 4.87969903e-04],\n",
              "       [9.74215597e-01, 2.57844033e-02]])"
            ]
          },
          "execution_count": 255,
          "metadata": {},
          "output_type": "execute_result"
        }
      ],
      "source": [
        "test_pred_prob = logisticRegr.predict_proba(x_test)\n",
        "test_pred_prob"
      ]
    },
    {
      "cell_type": "markdown",
      "id": "b3367c53",
      "metadata": {
        "id": "b3367c53"
      },
      "source": [
        "# roc curve and auc"
      ]
    },
    {
      "cell_type": "code",
      "execution_count": null,
      "id": "f1ea83df",
      "metadata": {
        "id": "f1ea83df",
        "outputId": "caffb51a-4dba-42a7-d0be-54e28f2c7368"
      },
      "outputs": [
        {
          "name": "stdout",
          "output_type": "stream",
          "text": [
            "Logistic: ROC AUC=0.918\n"
          ]
        },
        {
          "data": {
            "image/png": "[encoded data removed]",
            "text/plain": [
              "<Figure size 432x288 with 1 Axes>"
            ]
          },
          "metadata": {
            "needs_background": "light"
          },
          "output_type": "display_data"
        }
      ],
      "source": [
        "# roc curve and auc\n",
        "#Receiver Operator Characteristic (ROC) curve is an evaluation metric for binary classification problems.\n",
        "from sklearn.datasets import make_classification\n",
        "from sklearn.linear_model import LogisticRegression\n",
        "from sklearn.model_selection import train_test_split\n",
        "from sklearn.metrics import roc_curve\n",
        "from sklearn.metrics import roc_auc_score\n",
        "from matplotlib import pyplot\n",
        "\n",
        "# calculate scores->how much data has been understood by the model\n",
        "auc = roc_auc_score(np.array(y_test), test_pred_prob[:, 1])\n",
        "\n",
        "# summarize scores\n",
        "\n",
        "print('Logistic: ROC AUC=%.3f' % (auc))\n",
        "\n",
        "# calculate roc curves\n",
        "\n",
        "fpr, tpr, threshold = roc_curve(np.array(y_test), test_pred_prob[:, 1])\n",
        "# plot the roc curve for the model\n",
        "\n",
        "pyplot.plot(fpr, tpr, marker='.', label='Logistic')\n",
        "# axis labels\n",
        "pyplot.xlabel('False Positive Rate')\n",
        "pyplot.ylabel('True Positive Rate')\n",
        "# show the legend\n",
        "pyplot.legend()\n",
        "# show the plot\n",
        "pyplot.show()"
      ]
    },
    {
      "cell_type": "raw",
      "id": "7d64f427",
      "metadata": {
        "id": "7d64f427"
      },
      "source": [
        "It is a probability curve that plots the TPR against FPR at various threshold values and essentially separates the ‘signal’ from the ‘noise’. The Area Under the Curve (AUC) is the measure of the ability of a classifier to distinguish between classes and is used as a summary of the ROC curve.\n",
        "\n",
        "The higher the AUC, the better the performance of the model at distinguishing between the positive and negative classes.\n",
        "\n",
        "When AUC = 1, then the classifier is able to perfectly distinguish between all the Positive and the Negative class points correctly. If, however, the AUC had been 0, then the classifier would be predicting all Negatives as Positives, and all Positives as Negatives.\n",
        "\n",
        "\n",
        "When 0.5<AUC<1, there is a high chance that the classifier will be able to distinguish the positive class values from the negative class values. This is so because the classifier is able to detect more numbers of True positives and True negatives than False negatives and False positives.\n",
        "\n",
        "\n",
        "When AUC=0.5, then the classifier is not able to distinguish between Positive and Negative class points. Meaning either the classifier is predicting random class or constant class for all the data points.\n",
        "\n",
        "So, the higher the AUC value for a classifier, the better its ability to distinguish between positive and negative classes.\n",
        "\n",
        "\n",
        "\n",
        "In a ROC curve, a higher X-axis value indicates a higher number of False positives than True negatives. While a higher Y-axis value indicates a higher number of True positives than False negatives. So, the choice of the threshold depends on the ability to balance between False positives and False negatives."
      ]
    },
    {
      "cell_type": "code",
      "execution_count": null,
      "id": "f23d17ae",
      "metadata": {
        "id": "f23d17ae"
      },
      "outputs": [],
      "source": []
    },
    {
      "cell_type": "code",
      "execution_count": null,
      "id": "7629cb30",
      "metadata": {
        "id": "7629cb30"
      },
      "outputs": [],
      "source": []
    }
  ],
  "metadata": {
    "colab": {
      "provenance": []
    },
    "kernelspec": {
      "display_name": "Python 3 (ipykernel)",
      "language": "python",
      "name": "python3"
    },
    "language_info": {
      "codemirror_mode": {
        "name": "ipython",
        "version": 3
      },
      "file_extension": ".py",
      "mimetype": "text/x-python",
      "name": "python",
      "nbconvert_exporter": "python",
      "pygments_lexer": "ipython3",
      "version": "3.9.7"
    }
  },
  "nbformat": 4,
  "nbformat_minor": 5
}