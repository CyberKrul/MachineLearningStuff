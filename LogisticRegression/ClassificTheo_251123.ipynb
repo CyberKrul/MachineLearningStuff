{
 "cells": [
  {
   "cell_type": "markdown",
   "id": "5838635d",
   "metadata": {},
   "source": [
    "# Supervised Learning: Classification\n"
   ]
  },
  {
   "cell_type": "markdown",
   "id": "856ce847",
   "metadata": {},
   "source": [
    "#### A Recap\n",
    "* What is the difference between supervised and unsupervised learning?\n",
    "    - Supervised Learning has labelled targets (continuous/Discrete numeric or categorical)\n",
    "    - Unsupervised learning has no such labels\n",
    "    \n",
    "* What is the difference between the classification and regression (function approximation) problems in ML?\n",
    "    - Regression is used when the target variable is numeric/continuous\n",
    "    - Classification is used when the target variable is categorical"
   ]
  },
  {
   "cell_type": "markdown",
   "id": "4e2066d1",
   "metadata": {},
   "source": [
    "# Introduction to Classification\n",
    "* A supervised learning task in which the output variables($y$) that is to be predicted is a discrete value, referred to as a class label\n",
    "* Classification itself is divided into binary (just two labels) or multiclass classification (many labels)\n",
    "* *examples*\n",
    "    - classifying emails as spam or not based on the subject or body\n",
    "    - Given handwritten character images, classify it to be one of the known characters,\n",
    "    - Given details of a financial transaction, classify it to be genuine or fraudulent, \n",
    "    - Given details of a tumour classify it as benign or malignant, \n",
    "    - Given the parameters of a process, classifying if there is a fault in the process or not"
   ]
  },
  {
   "cell_type": "markdown",
   "id": "70f7d7e3",
   "metadata": {},
   "source": [
    "# Classification: Feature Space Perspective\n",
    "* A classifier divides the feature space into a set of regions each having a class label associated with it.\n",
    "![](linonlin.webp)\n",
    "\n",
    "* The Boundaries between these regions can be straight or curved, smooth or rough depending on the prediction function\n",
    "* These are referred to as *Decision Boundaries*"
   ]
  },
  {
   "cell_type": "markdown",
   "id": "a8c48606",
   "metadata": {},
   "source": [
    "# Types of Classification Models\n",
    "* We can classify the Classification models based on:\n",
    "    1. Nature of Decision Boundary\n",
    "        - Linear\n",
    "        - Non-linear\n",
    "    2. Number of Classes\n",
    "        - Binary Classification (only 2 classes)\n",
    "        - Multiclass classification (more than 2 classes)\n",
    "![](multvbin.png)"
   ]
  },
  {
   "cell_type": "markdown",
   "id": "c56aaf92",
   "metadata": {},
   "source": [
    "# Soft vs Hard Predictions in Classification\n",
    "1. Soft Prediction: Classifier predicts the probability of a datapoint belonging to each of the target classes\n",
    "2. Hard Prediction: Classifier predicts the class that the data point might belong to\n",
    "\n",
    "* Soft Prediction gives more information on the confidence of the classifier in the prediction made\n",
    "* Soft Prediction can be turned hard by setting a probability threshold\n",
    "![](hardvsoft.png)"
   ]
  },
  {
   "cell_type": "markdown",
   "id": "b526d231",
   "metadata": {},
   "source": [
    "# Classification Algorithms\n",
    "* Algorithms for Linear Classifiers\n",
    "    - Logistic Regression: soft predictions\n",
    "    - Linear Discriminant Classifier: soft predictions\n",
    "    - Naive Bayes: soft predictions\n",
    "    - SVM (Linear Kernel): Hard Predictions\n",
    "* Linear Classifiers perform best when the classes are linearly separable or close to linear separable\n",
    "* Algorithms for Non-Linear Classifiers\n",
    "    - K-Nearest-Neighbours(KNN): Hard predictions\n",
    "    - Neural Networks (MLPs): soft predictions\n",
    "    - SVM (Non-Linear Kernel): Hard predictions\n",
    "    - Decision Tree, Random Forest and Boosting: soft predictions"
   ]
  },
  {
   "cell_type": "markdown",
   "id": "e672f9e5",
   "metadata": {},
   "source": [
    "## Some points to Note\n",
    "* Pre-processing technqiues used for regression can also be used for classification\n",
    "* Binary Classification: classes are referred to as positive(1) and negative(0)\n",
    "* Model Validation: Model validation techniques used in regression can be used for classification\n",
    "* Prediction Accuracy: Number of samples correctly predicted by total number of samples used in prediction-$N_c/N$\n",
    "* Prediction Error: Number of samples which are mis-classified, that is class predicted is different from actual class.\n",
    "* Percentage Error can be taken by dividing the number of mis-classified samples by total number of sampled used in prediction- $(1-N_c/N)$"
   ]
  },
  {
   "cell_type": "markdown",
   "id": "fd278fc5",
   "metadata": {},
   "source": [
    "# K-Nearest Neighbour Classifier\n",
    "* Data points are classified based on their neigbours in the feature space\n",
    "* Majority of the classes of the $k$-nearest neighbours is taken as the class for a data point\n",
    "* $k$ is a hyper-parameter to be decided by the user.\n",
    "* No Model is learnt and stored in this classifier - lazy classifier\n",
    "* It is non-parametric and makes no assumptions on data distribution\n",
    "* **Weighted KNN**: While the majority among $k$ neighbours, they can be weighed by the reciprocal of their distance $w=\\frac{1}{d(x,x_n)}$\n",
    "* $k$ can be chosen through:\n",
    "    - Trial and error by observing the error in prediction for different values of $k$\n",
    "    - Set $k=\\sqrt{n}$, $n$ is number of features"
   ]
  },
  {
   "cell_type": "markdown",
   "id": "44d17b29",
   "metadata": {},
   "source": [
    "# Logistic Regression\n",
    "* It is a classification technique.\n",
    "* Here, the decision boundary (generally linear) is derived based on probability interpretation\n",
    "    - results in a non- linear optimization problem for parameter estimation\n",
    "* **Goal**: Given a new data point, predict the class from which the data point is likely to have originated"
   ]
  },
  {
   "cell_type": "markdown",
   "id": "d290eb24",
   "metadata": {},
   "source": [
    "## Binary Classification problem\n",
    "* Classification is the task\n",
    "    - Of identifying a category that a new observation belongs to based on the data with known categories\n",
    "* when the number of categories is two, then it becomes a binary classification problem\n",
    "* Binary classification can be seen as a simple 'yes' or 'no' problem\n",
    "---\n",
    "## Input Features\n",
    "* Input features can be both qualitative and quantitative\n",
    "* If the inputs are qualitative, then there has to be a systematic way of converting them to quantities.\n",
    "    - *eg* A binary input like 'yes' 'no' can be encoded as '1' and '0'\n",
    "* Some data analytics approach can handle qualitative variables directly\n",
    "___\n",
    "## Linear Classifier\n",
    "* Decision function is linear\n",
    "* Binary classification can be performed depending on the side of the half-plane that the data falls in\n",
    "* However, simply guessing 'yes' or 'no' is pretty crude\n",
    "* We can use probabilities instead, in particular,\n",
    "    - $p(C=1|X)$ and $p(C=0|X)$, conditional probabilities\n",
    "![](linclass.webp)\n",
    "\n",
    "---\n",
    "## Why Model Probabilities?\n",
    "* The probability of a 'yes' or 'no' gives a better understanding of the sample's membership to a particular category\n",
    "* Estimating the binary outputs from the probabilities is straight forward through simple thresholding\n",
    "* How does one model this probability?\n",
    "---\n",
    "## Linear and Log Models\n",
    "* Make $p(x)$ a linear function of $x$\n",
    "    - $p(x)=\\beta_0+\\beta_1X$\n",
    "    - This gives no guarantee that $p(x)\\in[0,1]$\n",
    "    - It might give nonsensical results making it difficult to interpret them as probabilites\n",
    "* Make $log(p(x))$ a linear function of $x$\n",
    "    - $log(p(x)) = \\beta_0+\\beta_1X$\n",
    "    - This however is only bounded on one side, as $p(x)\\in(0,\\infty)$\n",
    "---\n",
    "## Sigmoid function\n",
    "* Make $p(x)$ a sigmoid function of $x$\n",
    "    - $p(x) = e^{\\beta_0+\\beta_1X}/(1+e^{\\beta_0+\\beta_1X})$, the logit function\n",
    "    - or, $log(\\frac{p(x)}{1-p(x)})=\\beta_0+\\beta_1X$, the decision boundary\n",
    "* The problem now becomes one of finding the parameters $\\beta_0$ and $\\beta_1$\n",
    "* $p(x)$ bounded above by $1$ and below by $0$\n",
    "* Good modeling choice for real life scenarios\n",
    "* The LHS can be interpreted as the log of odds-ratio in the second equation\n",
    "![](sigmoid.png)"
   ]
  },
  {
   "cell_type": "markdown",
   "id": "780b4914",
   "metadata": {},
   "source": [
    "## Estimation of the parameters\n",
    "* We find parameters in such a way that plugging these in the model equation should give the best possible classification for the inputs from both the classes\n",
    "* This can be formalized by maximizing the following likelihood function\n",
    "    - $L(\\beta_0,\\beta_1)=\\Pi_{i=1}^np(x_i)^{y_i} (1-p(x_i))^{(1-y_i)}$\n",
    "        * When $x_i$ belongs to class $0$, $y_i=0$\n",
    "        * When $x_i$ belongs to class $1$, $y_i=1$\n",
    "    - We are looking to maximize\n",
    "        * $p(C=1|x_i)\\sim 1$ when $x_i \\in C_1$\n",
    "        * $p(C=0|x_i)\\sim 0$ when $x_i \\in C_0$  "
   ]
  },
  {
   "cell_type": "markdown",
   "id": "6e0c6552",
   "metadata": {},
   "source": [
    "## Log-likelihood function\n",
    "* The log-likelihood function will become:\n",
    "<p style='text-align:center;'> $L(\\beta_0,\\beta_1)=\\Sigma_{i=1}^{n}y_ilog(p(x_i))+(1-y_i)log(1-p(x_i))$</p>\n",
    "* Simplifying this express and using the definition for $p(x)$ will result in an expression with the parameters of the linear decision boundary\n",
    "* Now the parameters can be estimated by maximizing the above expression using any nonlinear optimization solver"
   ]
  },
  {
   "cell_type": "markdown",
   "id": "e8523972",
   "metadata": {},
   "source": [
    "## The Logit Model\n",
    "* The binary output for new samples can now be easily predicted using the following:\n",
    "<p style='text-align:center;'> $p(x) = e^{\\beta_0+\\beta_1X}/(1+e^{\\beta_0+\\beta_1X})$</p>\n",
    "* If $\\beta_0+\\beta_1X$ is non-negative then we get $p>.5$ and $C=1$ otherwise we get $p<.5$ and $C=0$\n",
    "* The Decision boundary is the equation $\\beta_0+\\beta_1X$"
   ]
  },
  {
   "cell_type": "code",
   "execution_count": 16,
   "id": "fb0051ae",
   "metadata": {},
   "outputs": [
    {
     "data": {
      "image/png": "[encoded data removed]",
      "text/plain": [
       "<Figure size 500x500 with 1 Axes>"
      ]
     },
     "metadata": {},
     "output_type": "display_data"
    }
   ],
   "source": [
    "\n",
    "import numpy as np\n",
    "import matplotlib.pyplot as plt\n",
    "\n",
    "# an example \n",
    "C1 = np.array([[1,1],[2,1],[3,1],[4,1],[5,1],[1,2],[2,2],[3,2],[4,2],[5,2]])\n",
    "C2 = np.array([[6,3],[7,3],[8,3],[9,3],[10,3],[6,4],[7,4],[8,4],[9,4],[10,4]])\n",
    "\n",
    "# testing data\n",
    "test = np.array([[1,3],[2,3],[4,4],[5,4],[3,3],[6,2],[9,2],[8,1],[7,2],[10,1]])\n",
    "\n",
    "fig,ax= plt.subplots(figsize=(5,5))\n",
    "ax.scatter(C1[:,0],C1[:,1],ls='',marker='o',color='g',label='Class 1')\n",
    "ax.scatter(C2[:,0],C2[:,1],ls='',marker='s',color='r',label='Class 2')\n",
    "ax.scatter(test[:,0],test[:,1],ls='',marker='.',color='b',label='test data')\n",
    "ax.legend()\n",
    "plt.show()"
   ]
  },
  {
   "cell_type": "markdown",
   "id": "1fab6c3c",
   "metadata": {},
   "source": [
    "#### Results for above example\n",
    "* Input features: $X_1,X_2$\n",
    "* Classes: $0$ and $1$\n",
    "* Parameters:\n",
    "    - $\\beta_0=-42.55$\n",
    "    - $\\beta_1=2.95$\n",
    "    - $\\beta_2 = 10.40$"
   ]
  },
  {
   "cell_type": "code",
   "execution_count": 26,
   "id": "fcb3d916",
   "metadata": {},
   "outputs": [
    {
     "data": {
      "text/html": [
       "<div>\n",
       "<style scoped>\n",
       "    .dataframe tbody tr th:only-of-type {\n",
       "        vertical-align: middle;\n",
       "    }\n",
       "\n",
       "    .dataframe tbody tr th {\n",
       "        vertical-align: top;\n",
       "    }\n",
       "\n",
       "    .dataframe thead th {\n",
       "        text-align: right;\n",
       "    }\n",
       "</style>\n",
       "<table border=\"1\" class=\"dataframe\">\n",
       "  <thead>\n",
       "    <tr style=\"text-align: right;\">\n",
       "      <th></th>\n",
       "      <th>X1</th>\n",
       "      <th>X2</th>\n",
       "      <th>Prob</th>\n",
       "      <th>class</th>\n",
       "    </tr>\n",
       "  </thead>\n",
       "  <tbody>\n",
       "    <tr>\n",
       "      <th>0</th>\n",
       "      <td>1</td>\n",
       "      <td>3</td>\n",
       "      <td>0.000227</td>\n",
       "      <td>0.0</td>\n",
       "    </tr>\n",
       "    <tr>\n",
       "      <th>1</th>\n",
       "      <td>2</td>\n",
       "      <td>3</td>\n",
       "      <td>0.004321</td>\n",
       "      <td>0.0</td>\n",
       "    </tr>\n",
       "    <tr>\n",
       "      <th>2</th>\n",
       "      <td>4</td>\n",
       "      <td>4</td>\n",
       "      <td>0.999981</td>\n",
       "      <td>1.0</td>\n",
       "    </tr>\n",
       "    <tr>\n",
       "      <th>3</th>\n",
       "      <td>5</td>\n",
       "      <td>4</td>\n",
       "      <td>0.999999</td>\n",
       "      <td>1.0</td>\n",
       "    </tr>\n",
       "    <tr>\n",
       "      <th>4</th>\n",
       "      <td>3</td>\n",
       "      <td>3</td>\n",
       "      <td>0.076562</td>\n",
       "      <td>0.0</td>\n",
       "    </tr>\n",
       "    <tr>\n",
       "      <th>5</th>\n",
       "      <td>6</td>\n",
       "      <td>2</td>\n",
       "      <td>0.017293</td>\n",
       "      <td>0.0</td>\n",
       "    </tr>\n",
       "    <tr>\n",
       "      <th>6</th>\n",
       "      <td>9</td>\n",
       "      <td>2</td>\n",
       "      <td>0.991918</td>\n",
       "      <td>1.0</td>\n",
       "    </tr>\n",
       "    <tr>\n",
       "      <th>7</th>\n",
       "      <td>8</td>\n",
       "      <td>1</td>\n",
       "      <td>0.000195</td>\n",
       "      <td>0.0</td>\n",
       "    </tr>\n",
       "    <tr>\n",
       "      <th>8</th>\n",
       "      <td>7</td>\n",
       "      <td>2</td>\n",
       "      <td>0.251618</td>\n",
       "      <td>0.0</td>\n",
       "    </tr>\n",
       "    <tr>\n",
       "      <th>9</th>\n",
       "      <td>10</td>\n",
       "      <td>1</td>\n",
       "      <td>0.066608</td>\n",
       "      <td>0.0</td>\n",
       "    </tr>\n",
       "  </tbody>\n",
       "</table>\n",
       "</div>"
      ],
      "text/plain": [
       "   X1  X2      Prob  class\n",
       "0   1   3  0.000227    0.0\n",
       "1   2   3  0.004321    0.0\n",
       "2   4   4  0.999981    1.0\n",
       "3   5   4  0.999999    1.0\n",
       "4   3   3  0.076562    0.0\n",
       "5   6   2  0.017293    0.0\n",
       "6   9   2  0.991918    1.0\n",
       "7   8   1  0.000195    0.0\n",
       "8   7   2  0.251618    0.0\n",
       "9  10   1  0.066608    0.0"
      ]
     },
     "execution_count": 26,
     "metadata": {},
     "output_type": "execute_result"
    }
   ],
   "source": [
    "# calculating the probabilities with the following data:\n",
    "aug_test = np.hstack([np.ones((test.shape[0],1)),test])\n",
    "\n",
    "# creating the parameter vector\n",
    "params = np.array([[-42.54,2.95,10.40]]).T\n",
    "\n",
    "# matrix-vector multiplication:\n",
    "expo = aug_test@params\n",
    "\n",
    "#finding the denom of the sigmoid\n",
    "denom = 1+np.exp(-expo)\n",
    "\n",
    "#the probabilities are:\n",
    "probs = 1/denom\n",
    "\n",
    "# we can now decide the classes as:\n",
    "class_ = np.zeros((probs.shape[0]))\n",
    "for i in range(probs.shape[0]):\n",
    "    if probs[i]>.5:\n",
    "        class_[i]=1\n",
    "        \n",
    "import pandas as pd\n",
    "#creating a dataframe\n",
    "df = pd.DataFrame(index = np.arange(test.shape[0]),data={\n",
    "    'X1':test[:,0],\n",
    "    'X2':test[:,1],\n",
    "    'Prob':probs.reshape(10),\n",
    "    'class':class_.reshape(10)\n",
    "})\n",
    "df"
   ]
  },
  {
   "cell_type": "markdown",
   "id": "1ec2fbe2",
   "metadata": {},
   "source": [
    "## Which classification method to use?\n",
    "* Basic Classifiers: Logistic Regression, Linear Discriminant Analysis, KNN-based classifier, Naive Bayes classifier\n",
    "* Advanced Classifiers: SVM, Random Forest, Boosting Trees and Neural Networks\n",
    "* Build some of the basic classifiers before moving on to the more advanced ones\n",
    "* Large amount of data would be required to build good models using advanced classifiers\n",
    "* LDA can be used as a pre-processing step to reduce dimensionality before building a classifier"
   ]
  },
  {
   "cell_type": "markdown",
   "id": "42a7de29",
   "metadata": {},
   "source": [
    "## Handling Data Imbalance in Classification\n",
    "* Data Imbalance refers to the scenario where the majority of samples belonging to each class are skewed (majority and minority class)\n",
    "* In binary classification problem, data is imbalanced if:\n",
    "<p style='text-align:center;'>$N_0$ (Nof training samples of class $0$) $>>N_1$ (Nof training samples of class $1$)</p>\n",
    "* *examples*:\n",
    "    - fraud detection in financial transactions (Genuine transaction>>fraud transactions)\n",
    "    - predicting whether a tumour is malignant or not based on diagnostic reports\n",
    "    - Identifying faulty condition in a process or system of an industry\n",
    "    - spam detection in emails\n",
    "---\n",
    "* Data imbalance significantly affects the performance of classification models learnt on skewed datasets\n",
    "* Accuracy would be high but model performance on the minority class would be very poor\n",
    "* Technqiues such as under sampling, oversampling, synthetic sampling, weighing samples, etc need to be used to handle such imbalances\n",
    "* Performance measures such as precision, recall, AUC need to be used instead of accuracy for model validation"
   ]
  },
  {
   "cell_type": "markdown",
   "id": "f325e355",
   "metadata": {},
   "source": [
    "# Summary\n",
    "* Classifiers are built to make predictions on class labels and they divide the feature space into different regions which are assigned different classes\n",
    "* Classifiers can be categorized into different types based on the nature of the decison boundary and number of classes\n",
    "* Different types of classifiers have been developed to perform linear and non-linear classification\n",
    "* Logistic regression applies a sigmoid function on a linear combination of inputs to predict class probabilities\n",
    "* Multiple classifiers need to be built to find the best classifier for the given data\n",
    "* If training data pertaining to different samples is skewed, then the skew needs to be corrected before building a classification model to ensure good performance"
   ]
  }
 ],
 "metadata": {
  "kernelspec": {
   "display_name": "Python 3 (ipykernel)",
   "language": "python",
   "name": "python3"
  },
  "language_info": {
   "codemirror_mode": {
    "name": "ipython",
    "version": 3
   },
   "file_extension": ".py",
   "mimetype": "text/x-python",
   "name": "python",
   "nbconvert_exporter": "python",
   "pygments_lexer": "ipython3",
   "version": "3.11.8"
  }
 },
 "nbformat": 4,
 "nbformat_minor": 5
}
