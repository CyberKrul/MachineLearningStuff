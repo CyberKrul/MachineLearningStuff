{
 "cells": [
  {
   "cell_type": "markdown",
   "id": "b7b0c6e8",
   "metadata": {},
   "source": [
    "# The Netflix prize dataset\n",
    "The dataset used here comes directly from Netflix. It consists of 4 text data files, each file contains over 20M rows, i.e. over 4K movies and 400K customers. All together there're 17K movies and 500K+ customers!"
   ]
  },
  {
   "cell_type": "code",
   "execution_count": 2,
   "id": "1b0fef6f",
   "metadata": {},
   "outputs": [],
   "source": [
    "import pandas as pd\n",
    "import numpy as np\n",
    "import matplotlib.pyplot as plt"
   ]
  },
  {
   "cell_type": "code",
   "execution_count": 4,
   "id": "8aac3715",
   "metadata": {},
   "outputs": [
    {
     "data": {
      "text/html": [
       "<div>\n",
       "<style scoped>\n",
       "    .dataframe tbody tr th:only-of-type {\n",
       "        vertical-align: middle;\n",
       "    }\n",
       "\n",
       "    .dataframe tbody tr th {\n",
       "        vertical-align: top;\n",
       "    }\n",
       "\n",
       "    .dataframe thead th {\n",
       "        text-align: right;\n",
       "    }\n",
       "</style>\n",
       "<table border=\"1\" class=\"dataframe\">\n",
       "  <thead>\n",
       "    <tr style=\"text-align: right;\">\n",
       "      <th></th>\n",
       "      <th>cust_id</th>\n",
       "      <th>rating</th>\n",
       "    </tr>\n",
       "  </thead>\n",
       "  <tbody>\n",
       "    <tr>\n",
       "      <th>0</th>\n",
       "      <td>1:</td>\n",
       "      <td>NaN</td>\n",
       "    </tr>\n",
       "    <tr>\n",
       "      <th>1</th>\n",
       "      <td>1488844</td>\n",
       "      <td>3.0</td>\n",
       "    </tr>\n",
       "    <tr>\n",
       "      <th>2</th>\n",
       "      <td>822109</td>\n",
       "      <td>5.0</td>\n",
       "    </tr>\n",
       "    <tr>\n",
       "      <th>3</th>\n",
       "      <td>885013</td>\n",
       "      <td>4.0</td>\n",
       "    </tr>\n",
       "    <tr>\n",
       "      <th>4</th>\n",
       "      <td>30878</td>\n",
       "      <td>4.0</td>\n",
       "    </tr>\n",
       "  </tbody>\n",
       "</table>\n",
       "</div>"
      ],
      "text/plain": [
       "   cust_id  rating\n",
       "0       1:     NaN\n",
       "1  1488844     3.0\n",
       "2   822109     5.0\n",
       "3   885013     4.0\n",
       "4    30878     4.0"
      ]
     },
     "execution_count": 4,
     "metadata": {},
     "output_type": "execute_result"
    }
   ],
   "source": [
    "# loading a fraction of the data\n",
    "nfd = pd.read_csv('../data/netflixdatacomb/combined_data_1.txt',header=None,names=['cust_id','rating'],usecols=[0,1])\n",
    "nfd.head()"
   ]
  },
  {
   "cell_type": "markdown",
   "id": "9f9d71f5",
   "metadata": {},
   "source": [
    "#### The structure of the data\n",
    "* The data is structured in such a way:\n",
    "\n",
    "| cust_id|rating|\n",
    "|--------|------|\n",
    "|movie 1| NaN|\n",
    "| cid 1| rating|\n",
    "|$\\dots$| $\\dots$|\n",
    "|cid n|rating|\n",
    "|movie 2| NaN|\n",
    "|cid 1|rating|\n",
    "|$\\dots$|$\\dots$|\n",
    "|cid n|rating|\n",
    "|movie 3|NaN|\n",
    "|$\\dots$|$\\dots$|\n",
    "\n",
    "* The `cust_id` column has a tuple of $(\\text{movie}_{id},NaN)$ to indicate the following are reviews for movie $id$"
   ]
  },
  {
   "cell_type": "code",
   "execution_count": 3,
   "id": "3ec2e083",
   "metadata": {},
   "outputs": [
    {
     "name": "stdout",
     "output_type": "stream",
     "text": [
      "<class 'pandas.core.frame.DataFrame'>\n",
      "RangeIndex: 24058263 entries, 0 to 24058262\n",
      "Data columns (total 2 columns):\n",
      " #   Column   Dtype  \n",
      "---  ------   -----  \n",
      " 0   cust_id  object \n",
      " 1   rating   float64\n",
      "dtypes: float64(1), object(1)\n",
      "memory usage: 367.1+ MB\n"
     ]
    }
   ],
   "source": [
    "# nfd.shape #(24058263, 2)\n",
    "nfd.info()"
   ]
  },
  {
   "cell_type": "code",
   "execution_count": 6,
   "id": "dce105df",
   "metadata": {},
   "outputs": [],
   "source": [
    "# this is the number of nulls in the rating column\n",
    "Nof_movie = nfd.isnull().sum()['rating']"
   ]
  },
  {
   "cell_type": "code",
   "execution_count": 7,
   "id": "a3e5cceb",
   "metadata": {},
   "outputs": [],
   "source": [
    "# the number of customers we have in the dataset,\n",
    "# adjusted for the positions taken up by movie ids\n",
    "Nof_cust = nfd['cust_id'].nunique()-Nof_movie"
   ]
  },
  {
   "cell_type": "code",
   "execution_count": 8,
   "id": "54252c2f",
   "metadata": {},
   "outputs": [],
   "source": [
    "# the total number of ratings\n",
    "Nof_rating = nfd['rating'].count()"
   ]
  },
  {
   "cell_type": "code",
   "execution_count": 9,
   "id": "4a487275",
   "metadata": {},
   "outputs": [],
   "source": [
    "# the number of ratings customer per rating\n",
    "ratings = nfd.groupby('rating').agg(['count'])"
   ]
  },
  {
   "cell_type": "code",
   "execution_count": 8,
   "id": "3b2363e4",
   "metadata": {},
   "outputs": [
    {
     "data": {
      "image/png": "[encoded data removed]",
      "text/plain": [
       "<Figure size 800x800 with 1 Axes>"
      ]
     },
     "metadata": {},
     "output_type": "display_data"
    }
   ],
   "source": [
    "ax = ratings.plot(kind='barh',legend=False,figsize=(8,8))\n",
    "plt.title(f'Total pool: {Nof_movie} movies, {Nof_cust} customers, {Nof_rating} ratings')\n",
    "plt.grid()"
   ]
  },
  {
   "cell_type": "code",
   "execution_count": 14,
   "id": "a3d09e55",
   "metadata": {},
   "outputs": [],
   "source": [
    "# creating a dataframe for the movies and ratings count for each movie\n",
    "Mdf = nfd[nfd['rating'].isnull()]\n",
    "Mdf = Mdf.drop(columns='rating')\n",
    "\n",
    "Mdf.reset_index(names='tin',inplace=True)\n",
    "\n",
    "#getting the true number of ratings by subtracting the previous row from the next\n",
    "Mdf['Nof_ratings']=Mdf['tin'].diff(-1).abs()-1\n",
    "\n",
    "#the last entry needs to be entered manually\n",
    "Mdf.iloc[-1,2] = nfd.shape[0]-Mdf.iloc[-1,0]-1\n",
    "    \n",
    "#dropping the unneeded columns\n",
    "Mdf.drop(columns=['tin','cust_id'],inplace=True)\n",
    "\n",
    "#creating the massive vector holding all the movie indexes\n",
    "movie_np = np.array([])\n",
    "for i,x in enumerate(Mdf.Nof_ratings.values):\n",
    "    temp = np.repeat(i+1,x)\n",
    "    movie_np = np.append(movie_np,values=temp)"
   ]
  },
  {
   "cell_type": "code",
   "execution_count": 16,
   "id": "82468d16",
   "metadata": {},
   "outputs": [],
   "source": [
    "# dropping the nulls\n",
    "nfd.dropna(inplace=True)\n",
    "\n",
    "# adding the movie_id column\n",
    "nfd['movie_id'] = movie_np.astype('int')"
   ]
  },
  {
   "cell_type": "code",
   "execution_count": 17,
   "id": "46f640a8",
   "metadata": {},
   "outputs": [],
   "source": [
    "# creating a summary dataset\n",
    "dataset_movie_summary = nfd.groupby('movie_id')['rating'].agg(['count'])\n",
    "\n",
    "# we will remove all the movies having low ratings counts, and customers who have given very few ratings will not be considered\n",
    "# we will store all the movie_id indexes is a variable dataset_movie_summary.index and convert the datatype to int\n",
    "drop_movie_indx = dataset_movie_summary[dataset_movie_summary['count']<np.ceil(dataset_movie_summary['count'].quantile(.7))].index"
   ]
  },
  {
   "cell_type": "code",
   "execution_count": 18,
   "id": "bccd6de4",
   "metadata": {},
   "outputs": [],
   "source": [
    "# creating another summary datatset for customers\n",
    "ds_cust_summary = nfd.groupby('cust_id')['rating'].agg(['count'])\n",
    "\n",
    "\n",
    "# removing all customers with few reviews\n",
    "drop_cust_indx = ds_cust_summary[ds_cust_summary['count']<np.ceil(ds_cust_summary['count'].quantile(.7))].index"
   ]
  },
  {
   "cell_type": "code",
   "execution_count": 19,
   "id": "30ab185c",
   "metadata": {},
   "outputs": [],
   "source": [
    "# dropping the found ids\n",
    "nfd = nfd[~nfd['movie_id'].isin(drop_movie_indx)]\n",
    "nfd = nfd[~nfd['cust_id'].isin(drop_cust_indx)]"
   ]
  },
  {
   "cell_type": "code",
   "execution_count": 29,
   "id": "0a9c47c9",
   "metadata": {},
   "outputs": [],
   "source": [
    "import math\n",
    "import seaborn as sns\n",
    "\n",
    "from surprise import Reader, Dataset, SVD\n",
    "from surprise.model_selection import cross_validate"
   ]
  },
  {
   "cell_type": "code",
   "execution_count": 26,
   "id": "2462cc6c",
   "metadata": {},
   "outputs": [
    {
     "data": {
      "text/html": [
       "<div>\n",
       "<style scoped>\n",
       "    .dataframe tbody tr th:only-of-type {\n",
       "        vertical-align: middle;\n",
       "    }\n",
       "\n",
       "    .dataframe tbody tr th {\n",
       "        vertical-align: top;\n",
       "    }\n",
       "\n",
       "    .dataframe thead th {\n",
       "        text-align: right;\n",
       "    }\n",
       "</style>\n",
       "<table border=\"1\" class=\"dataframe\">\n",
       "  <thead>\n",
       "    <tr style=\"text-align: right;\">\n",
       "      <th></th>\n",
       "      <th>Year</th>\n",
       "      <th>Name</th>\n",
       "    </tr>\n",
       "    <tr>\n",
       "      <th>Movie_Id</th>\n",
       "      <th></th>\n",
       "      <th></th>\n",
       "    </tr>\n",
       "  </thead>\n",
       "  <tbody>\n",
       "    <tr>\n",
       "      <th>1</th>\n",
       "      <td>2003.0</td>\n",
       "      <td>Dinosaur Planet</td>\n",
       "    </tr>\n",
       "    <tr>\n",
       "      <th>2</th>\n",
       "      <td>2004.0</td>\n",
       "      <td>Isle of Man TT 2004 Review</td>\n",
       "    </tr>\n",
       "    <tr>\n",
       "      <th>3</th>\n",
       "      <td>1997.0</td>\n",
       "      <td>Character</td>\n",
       "    </tr>\n",
       "    <tr>\n",
       "      <th>4</th>\n",
       "      <td>1994.0</td>\n",
       "      <td>Paula Abdul's Get Up &amp; Dance</td>\n",
       "    </tr>\n",
       "    <tr>\n",
       "      <th>5</th>\n",
       "      <td>2004.0</td>\n",
       "      <td>The Rise and Fall of ECW</td>\n",
       "    </tr>\n",
       "  </tbody>\n",
       "</table>\n",
       "</div>"
      ],
      "text/plain": [
       "            Year                          Name\n",
       "Movie_Id                                      \n",
       "1         2003.0               Dinosaur Planet\n",
       "2         2004.0    Isle of Man TT 2004 Review\n",
       "3         1997.0                     Character\n",
       "4         1994.0  Paula Abdul's Get Up & Dance\n",
       "5         2004.0      The Rise and Fall of ECW"
      ]
     },
     "execution_count": 26,
     "metadata": {},
     "output_type": "execute_result"
    }
   ],
   "source": [
    "# importing the movie metadata\n",
    "mdf = pd.read_csv('../data/movie_titles.csv',encoding='ISO-8859-1', header=None, usecols=[0,1,2], names=['Movie_Id','Year','Name']) \n",
    "mdf.set_index('Movie_Id', inplace=True)    \n",
    "mdf.head()"
   ]
  },
  {
   "cell_type": "markdown",
   "id": "af01a38d-55c7-448a-ac63-0c259d9b5b0b",
   "metadata": {},
   "source": [
    "## Creating the recommender system"
   ]
  },
  {
   "cell_type": "code",
   "execution_count": 31,
   "id": "045f89c2-2f4b-4921-88d1-50a472a91618",
   "metadata": {},
   "outputs": [],
   "source": [
    "# creating a reader class for the SVD algo\n",
    "reader = Reader()"
   ]
  },
  {
   "cell_type": "code",
   "execution_count": 33,
   "id": "f29c8dad-5b49-4511-b33f-e902147b614d",
   "metadata": {},
   "outputs": [],
   "source": [
    "# will only use the top 100K rows for quick run-time\n",
    "data = Dataset.load_from_df(nfd[:100000],reader)"
   ]
  },
  {
   "cell_type": "code",
   "execution_count": 35,
   "id": "9ea6db9f-4a23-49f0-bf82-6602df6945c8",
   "metadata": {},
   "outputs": [
    {
     "data": {
      "text/plain": [
       "{'test_mae': array([19.75729932, 19.77078998, 19.72268744]),\n",
       " 'test_rmse': array([21.05929628, 21.0741812 , 21.03736377]),\n",
       " 'fit_time': (1.7174744606018066, 1.7758119106292725, 1.7661402225494385),\n",
       " 'test_time': (0.5789263248443604, 0.32783079147338867, 0.30811524391174316)}"
      ]
     },
     "execution_count": 35,
     "metadata": {},
     "output_type": "execute_result"
    }
   ],
   "source": [
    "# creating the svd instance\n",
    "svd = SVD()\n",
    "cross_validate(svd,data,measures=['MAE','RMSE'],cv=3)"
   ]
  },
  {
   "cell_type": "markdown",
   "id": "eeaade12-d4ee-449c-a79c-1208435fbdf8",
   "metadata": {},
   "source": [
    "## Now we can recommend movies!\n",
    "Take user '712664'<br>\n",
    "We will try to recommend some movies for him based on his past ratings:"
   ]
  },
  {
   "cell_type": "code",
   "execution_count": 84,
   "id": "04882bf1-cd95-40f7-8c93-72798f5736b9",
   "metadata": {},
   "outputs": [],
   "source": [
    "freq = pd.crosstab(nfd['cust_id'],nfd.rating)\n",
    "df712664=freq.loc['712664',:].values"
   ]
  },
  {
   "cell_type": "code",
   "execution_count": 94,
   "id": "db683d7e-8d4c-4f24-a885-005544983c94",
   "metadata": {},
   "outputs": [
    {
     "name": "stdout",
     "output_type": "stream",
     "text": [
      " The id 712664 has 9.0% one* reviews, 11.7% two*, 18.3% three*, 38.0% four* and 23.0% five*\n"
     ]
    }
   ],
   "source": [
    "df = df712664*100/np.sum(df712664)\n",
    "print(f' The id 712664 has {df[0]:.1f}% one* reviews, {df[1]:.1f}% two*, {df[2]:.1f}% three*, {df[3]:.1f}% four* and {df[4]:.1f}% five*')"
   ]
  },
  {
   "cell_type": "markdown",
   "id": "18e5d1cb-f119-4b84-9965-d35095d59f38",
   "metadata": {},
   "source": [
    "## Now we will create a df for id 712664"
   ]
  },
  {
   "cell_type": "code",
   "execution_count": 97,
   "id": "8bf26735-c543-4fea-9749-c518f9223c4c",
   "metadata": {},
   "outputs": [],
   "source": [
    "ds712664 = nfd[ (nfd['cust_id']==712664) & (nfd['rating']==5)]"
   ]
  },
  {
   "cell_type": "code",
   "execution_count": 99,
   "id": "e6c8ac8b-8f91-43a2-b167-ce0dee4ad4a3",
   "metadata": {},
   "outputs": [
    {
     "data": {
      "text/html": [
       "<div>\n",
       "<style scoped>\n",
       "    .dataframe tbody tr th:only-of-type {\n",
       "        vertical-align: middle;\n",
       "    }\n",
       "\n",
       "    .dataframe tbody tr th {\n",
       "        vertical-align: top;\n",
       "    }\n",
       "\n",
       "    .dataframe thead th {\n",
       "        text-align: right;\n",
       "    }\n",
       "</style>\n",
       "<table border=\"1\" class=\"dataframe\">\n",
       "  <thead>\n",
       "    <tr style=\"text-align: right;\">\n",
       "      <th></th>\n",
       "      <th>Year</th>\n",
       "      <th>Name</th>\n",
       "    </tr>\n",
       "    <tr>\n",
       "      <th>Movie_Id</th>\n",
       "      <th></th>\n",
       "      <th></th>\n",
       "    </tr>\n",
       "  </thead>\n",
       "  <tbody>\n",
       "    <tr>\n",
       "      <th>1</th>\n",
       "      <td>2003.0</td>\n",
       "      <td>Dinosaur Planet</td>\n",
       "    </tr>\n",
       "    <tr>\n",
       "      <th>2</th>\n",
       "      <td>2004.0</td>\n",
       "      <td>Isle of Man TT 2004 Review</td>\n",
       "    </tr>\n",
       "    <tr>\n",
       "      <th>3</th>\n",
       "      <td>1997.0</td>\n",
       "      <td>Character</td>\n",
       "    </tr>\n",
       "    <tr>\n",
       "      <th>4</th>\n",
       "      <td>1994.0</td>\n",
       "      <td>Paula Abdul's Get Up &amp; Dance</td>\n",
       "    </tr>\n",
       "    <tr>\n",
       "      <th>5</th>\n",
       "      <td>2004.0</td>\n",
       "      <td>The Rise and Fall of ECW</td>\n",
       "    </tr>\n",
       "  </tbody>\n",
       "</table>\n",
       "</div>"
      ],
      "text/plain": [
       "            Year                          Name\n",
       "Movie_Id                                      \n",
       "1         2003.0               Dinosaur Planet\n",
       "2         2004.0    Isle of Man TT 2004 Review\n",
       "3         1997.0                     Character\n",
       "4         1994.0  Paula Abdul's Get Up & Dance\n",
       "5         2004.0      The Rise and Fall of ECW"
      ]
     },
     "execution_count": 99,
     "metadata": {},
     "output_type": "execute_result"
    }
   ],
   "source": [
    "# first we will make a shallow copy of the movie_titles.csv file so that we can change \n",
    "# the values in the copies dataset, not in the actual dataset\n",
    "\n",
    "mt712664 = mdf.copy()\n",
    "mt712664.head()"
   ]
  },
  {
   "cell_type": "code",
   "execution_count": 101,
   "id": "4e8b7f4e-70da-4d16-a50e-aa6598829230",
   "metadata": {},
   "outputs": [],
   "source": [
    "# resetting the index\n",
    "mt712664 = mt712664.reset_index()\n",
    "mt712664 = mt712664[~mt712664.Movie_Id.isin(drop_movie_indx.to_list())]"
   ]
  },
  {
   "cell_type": "code",
   "execution_count": 103,
   "id": "eeec8b0b-e0fb-476a-aefc-383ba8a0986b",
   "metadata": {},
   "outputs": [],
   "source": [
    "# applying the SVD algorithm\n",
    "mt712664['estimate_score'] = mt712664['Movie_Id'].apply(lambda x:svd.predict(712664,x).est)\n",
    "mt712664 = mt712664.drop('Movie_Id',axis=1)"
   ]
  },
  {
   "cell_type": "code",
   "execution_count": 105,
   "id": "dd807744-7da7-4a11-94f7-940806936dfa",
   "metadata": {},
   "outputs": [
    {
     "data": {
      "text/html": [
       "<div>\n",
       "<style scoped>\n",
       "    .dataframe tbody tr th:only-of-type {\n",
       "        vertical-align: middle;\n",
       "    }\n",
       "\n",
       "    .dataframe tbody tr th {\n",
       "        vertical-align: top;\n",
       "    }\n",
       "\n",
       "    .dataframe thead th {\n",
       "        text-align: right;\n",
       "    }\n",
       "</style>\n",
       "<table border=\"1\" class=\"dataframe\">\n",
       "  <thead>\n",
       "    <tr style=\"text-align: right;\">\n",
       "      <th></th>\n",
       "      <th>Year</th>\n",
       "      <th>Name</th>\n",
       "      <th>estimate_score</th>\n",
       "    </tr>\n",
       "  </thead>\n",
       "  <tbody>\n",
       "    <tr>\n",
       "      <th>2</th>\n",
       "      <td>1997.0</td>\n",
       "      <td>Character</td>\n",
       "      <td>5</td>\n",
       "    </tr>\n",
       "    <tr>\n",
       "      <th>12889</th>\n",
       "      <td>1976.0</td>\n",
       "      <td>Carrie</td>\n",
       "      <td>5</td>\n",
       "    </tr>\n",
       "    <tr>\n",
       "      <th>12890</th>\n",
       "      <td>2003.0</td>\n",
       "      <td>24: Season 3</td>\n",
       "      <td>5</td>\n",
       "    </tr>\n",
       "    <tr>\n",
       "      <th>12891</th>\n",
       "      <td>1995.0</td>\n",
       "      <td>Smoke</td>\n",
       "      <td>5</td>\n",
       "    </tr>\n",
       "    <tr>\n",
       "      <th>12892</th>\n",
       "      <td>2004.0</td>\n",
       "      <td>Driving Miss Wealthy</td>\n",
       "      <td>5</td>\n",
       "    </tr>\n",
       "  </tbody>\n",
       "</table>\n",
       "</div>"
      ],
      "text/plain": [
       "         Year                  Name  estimate_score\n",
       "2      1997.0             Character               5\n",
       "12889  1976.0                Carrie               5\n",
       "12890  2003.0          24: Season 3               5\n",
       "12891  1995.0                 Smoke               5\n",
       "12892  2004.0  Driving Miss Wealthy               5"
      ]
     },
     "execution_count": 105,
     "metadata": {},
     "output_type": "execute_result"
    }
   ],
   "source": [
    "mt712664 = mt712664.sort_values('estimate_score')\n",
    "mt712664.head()"
   ]
  }
 ],
 "metadata": {
  "kernelspec": {
   "display_name": "Python 3 (ipykernel)",
   "language": "python",
   "name": "python3"
  },
  "language_info": {
   "codemirror_mode": {
    "name": "ipython",
    "version": 3
   },
   "file_extension": ".py",
   "mimetype": "text/x-python",
   "name": "python",
   "nbconvert_exporter": "python",
   "pygments_lexer": "ipython3",
   "version": "3.11.9"
  }
 },
 "nbformat": 4,
 "nbformat_minor": 5
}
